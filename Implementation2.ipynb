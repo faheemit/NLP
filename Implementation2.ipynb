{
 "cells": [
  {
   "cell_type": "code",
   "execution_count": 1,
   "id": "73ec9e5f",
   "metadata": {},
   "outputs": [
    {
     "name": "stderr",
     "output_type": "stream",
     "text": [
      "C:\\Users\\fahee\\Anaconda3\\envs\\Tensor3\\lib\\site-packages\\tensorflow_addons\\utils\\tfa_eol_msg.py:23: UserWarning: \n",
      "\n",
      "TensorFlow Addons (TFA) has ended development and introduction of new features.\n",
      "TFA has entered a minimal maintenance and release mode until a planned end of life in May 2024.\n",
      "Please modify downstream libraries to take dependencies from other repositories in our TensorFlow community (e.g. Keras, Keras-CV, and Keras-NLP). \n",
      "\n",
      "For more information see: https://github.com/tensorflow/addons/issues/2807 \n",
      "\n",
      "  warnings.warn(\n",
      "C:\\Users\\fahee\\Anaconda3\\envs\\Tensor3\\lib\\site-packages\\tqdm\\auto.py:21: TqdmWarning: IProgress not found. Please update jupyter and ipywidgets. See https://ipywidgets.readthedocs.io/en/stable/user_install.html\n",
      "  from .autonotebook import tqdm as notebook_tqdm\n"
     ]
    }
   ],
   "source": [
    "import tensorflow as tf\n",
    "from tensorflow import keras \n",
    "from keras.models import load_model\n",
    "from tensorflow_models import nlp"
   ]
  },
  {
   "cell_type": "code",
   "execution_count": 2,
   "id": "6f69429b",
   "metadata": {},
   "outputs": [],
   "source": [
    "import os\n",
    "import matplotlib.pyplot as plt\n",
    "#from wordcloud import WordCloud"
   ]
  },
  {
   "cell_type": "code",
   "execution_count": 3,
   "id": "a5efdea9",
   "metadata": {},
   "outputs": [],
   "source": [
    "#pip install wordcloud"
   ]
  },
  {
   "cell_type": "code",
   "execution_count": 3,
   "id": "beb01b40",
   "metadata": {},
   "outputs": [],
   "source": [
    "import numpy as np\n",
    "import pandas as pd\n",
    "import matplotlib.pyplot as plt\n",
    "import seaborn as sns\n",
    "import os\n",
    "#import nltk\n",
    "#import re\n",
    "#from nltk.corpus import stopwords\n",
    "#from nltk.tokenize import word_tokenize\n",
    "#from nltk.stem import SnowballStemmer\n",
    "#from nltk.stem import WordNetLemmatizer\n",
    "from tensorflow_models import nlp\n",
    "from official.nlp import optimization\n",
    "import warnings\n",
    "\n",
    "warnings.filterwarnings(\"ignore\")"
   ]
  },
  {
   "cell_type": "code",
   "execution_count": 4,
   "id": "1e70b929",
   "metadata": {},
   "outputs": [],
   "source": [
    "from sklearn.preprocessing import LabelEncoder\n",
    "from sklearn.model_selection import train_test_split"
   ]
  },
  {
   "cell_type": "code",
   "execution_count": 5,
   "id": "07a2c65c",
   "metadata": {},
   "outputs": [
    {
     "name": "stdout",
     "output_type": "stream",
     "text": [
      "2.10.0\n"
     ]
    }
   ],
   "source": [
    "import pandas as pd\n",
    "import numpy as np\n",
    "from sklearn.model_selection import GroupKFold\n",
    "import matplotlib.pyplot as plt\n",
    "from tqdm.notebook import tqdm\n",
    "import tensorflow as tf\n",
    "import tensorflow_hub as hub\n",
    "import tensorflow_text as text\n",
    "import tensorflow.keras.backend as K\n",
    "from scipy.stats import spearmanr\n",
    "from math import floor, ceil\n",
    "from transformers import *\n",
    "\n",
    "np.set_printoptions(suppress=True)\n",
    "print(tf.__version__)\n",
    "\n",
    "import shutil\n",
    "\n",
    "from official.nlp import optimization  # to create AdamW optmizer\n",
    "\n",
    "tf.get_logger().setLevel('ERROR')"
   ]
  },
  {
   "cell_type": "code",
   "execution_count": 6,
   "id": "08f42e9a",
   "metadata": {},
   "outputs": [],
   "source": [
    "from tensorflow.python.keras.utils import tf_utils"
   ]
  },
  {
   "cell_type": "code",
   "execution_count": 7,
   "id": "2ad8f486",
   "metadata": {},
   "outputs": [],
   "source": [
    "import urduhack\n",
    "#urduhack.download()\n",
    "from urduhack.normalization import normalize\n",
    "from urduhack.preprocessing import normalize_whitespace, remove_punctuation, remove_accents, replace_urls, replace_emails, replace_numbers, replace_currency_symbols, remove_english_alphabets"
   ]
  },
  {
   "cell_type": "code",
   "execution_count": 8,
   "id": "dd5be0cf",
   "metadata": {},
   "outputs": [],
   "source": [
    "df = pd.read_csv('Urdu-Abusive-set.csv')"
   ]
  },
  {
   "cell_type": "code",
   "execution_count": 9,
   "id": "ddba6141",
   "metadata": {},
   "outputs": [
    {
     "data": {
      "text/html": [
       "<div>\n",
       "<style scoped>\n",
       "    .dataframe tbody tr th:only-of-type {\n",
       "        vertical-align: middle;\n",
       "    }\n",
       "\n",
       "    .dataframe tbody tr th {\n",
       "        vertical-align: top;\n",
       "    }\n",
       "\n",
       "    .dataframe thead th {\n",
       "        text-align: right;\n",
       "    }\n",
       "</style>\n",
       "<table border=\"1\" class=\"dataframe\">\n",
       "  <thead>\n",
       "    <tr style=\"text-align: right;\">\n",
       "      <th></th>\n",
       "      <th>class</th>\n",
       "      <th>comment_text</th>\n",
       "    </tr>\n",
       "  </thead>\n",
       "  <tbody>\n",
       "    <tr>\n",
       "      <th>0</th>\n",
       "      <td>1</td>\n",
       "      <td>کہ کے لے لی شام دلے کی</td>\n",
       "    </tr>\n",
       "    <tr>\n",
       "      <th>1</th>\n",
       "      <td>1</td>\n",
       "      <td>اب اگر اس ,نے کچھ avجواب دیا تو اس کی گانڈ مار...</td>\n",
       "    </tr>\n",
       "    <tr>\n",
       "      <th>2</th>\n",
       "      <td>1</td>\n",
       "      <td>اب ان چوتیوں نے وہ جو کنسرٹ ہو رہا تھا وہ بھی ...</td>\n",
       "    </tr>\n",
       "    <tr>\n",
       "      <th>3</th>\n",
       "      <td>1</td>\n",
       "      <td>اب ان کی گانڈ میں ہاتھ ڈال کر انتڑیاں نکالے گا...</td>\n",
       "    </tr>\n",
       "    <tr>\n",
       "      <th>4</th>\n",
       "      <td>0</td>\n",
       "      <td>اب تک سکی سب سے اچھی ویڈیو ہے</td>\n",
       "    </tr>\n",
       "    <tr>\n",
       "      <th>...</th>\n",
       "      <td>...</td>\n",
       "      <td>...</td>\n",
       "    </tr>\n",
       "    <tr>\n",
       "      <th>2166</th>\n",
       "      <td>0</td>\n",
       "      <td>یہی آخری ویڈیو ہے</td>\n",
       "    </tr>\n",
       "    <tr>\n",
       "      <th>2167</th>\n",
       "      <td>1</td>\n",
       "      <td>یوٹیوب ایکس میں جا کر ماں چدوا</td>\n",
       "    </tr>\n",
       "    <tr>\n",
       "      <th>2168</th>\n",
       "      <td>0</td>\n",
       "      <td>یوٹیوب کے دوسرے ویڈیوز کو بھی آپ دیکھو زیادہ م...</td>\n",
       "    </tr>\n",
       "    <tr>\n",
       "      <th>2169</th>\n",
       "      <td>0</td>\n",
       "      <td>یوٹیوبر ہا ہا ہا</td>\n",
       "    </tr>\n",
       "    <tr>\n",
       "      <th>2170</th>\n",
       "      <td>1</td>\n",
       "      <td>یہ گانڈوفضول حرکتیں کر رہاہے</td>\n",
       "    </tr>\n",
       "  </tbody>\n",
       "</table>\n",
       "<p>2171 rows × 2 columns</p>\n",
       "</div>"
      ],
      "text/plain": [
       "      class                                       comment_text\n",
       "0         1                             کہ کے لے لی شام دلے کی\n",
       "1         1  اب اگر اس ,نے کچھ avجواب دیا تو اس کی گانڈ مار...\n",
       "2         1  اب ان چوتیوں نے وہ جو کنسرٹ ہو رہا تھا وہ بھی ...\n",
       "3         1  اب ان کی گانڈ میں ہاتھ ڈال کر انتڑیاں نکالے گا...\n",
       "4         0                      اب تک سکی سب سے اچھی ویڈیو ہے\n",
       "...     ...                                                ...\n",
       "2166      0                                  یہی آخری ویڈیو ہے\n",
       "2167      1                     یوٹیوب ایکس میں جا کر ماں چدوا\n",
       "2168      0  یوٹیوب کے دوسرے ویڈیوز کو بھی آپ دیکھو زیادہ م...\n",
       "2169      0                                   یوٹیوبر ہا ہا ہا\n",
       "2170      1                       یہ گانڈوفضول حرکتیں کر رہاہے\n",
       "\n",
       "[2171 rows x 2 columns]"
      ]
     },
     "execution_count": 9,
     "metadata": {},
     "output_type": "execute_result"
    }
   ],
   "source": [
    "df"
   ]
  },
  {
   "cell_type": "code",
   "execution_count": 10,
   "id": "6ee785de",
   "metadata": {},
   "outputs": [
    {
     "data": {
      "text/plain": [
       "[<matplotlib.lines.Line2D at 0x1fd4ea2bc40>]"
      ]
     },
     "execution_count": 10,
     "metadata": {},
     "output_type": "execute_result"
    },
    {
     "data": {
      "image/png": "[encoded data removed]",
      "text/plain": [
       "<Figure size 640x480 with 1 Axes>"
      ]
     },
     "metadata": {},
     "output_type": "display_data"
    }
   ],
   "source": [
    "plt.plot(df['class'].value_counts())"
   ]
  },
  {
   "cell_type": "code",
   "execution_count": 11,
   "id": "9359e8ea",
   "metadata": {},
   "outputs": [
    {
     "data": {
      "image/png": "[encoded data removed]",
      "text/plain": [
       "<Figure size 640x480 with 1 Axes>"
      ]
     },
     "metadata": {},
     "output_type": "display_data"
    }
   ],
   "source": [
    "sns.countplot( x = 'class', data = df );"
   ]
  },
  {
   "cell_type": "code",
   "execution_count": null,
   "id": "93a5b506",
   "metadata": {},
   "outputs": [],
   "source": []
  },
  {
   "cell_type": "code",
   "execution_count": null,
   "id": "eb31ec2b",
   "metadata": {},
   "outputs": [],
   "source": []
  },
  {
   "cell_type": "code",
   "execution_count": 12,
   "id": "01438f2f",
   "metadata": {},
   "outputs": [],
   "source": [
    "df['comment_text'] = df['comment_text'].apply(normalize) # To normalize some text, all you need to do pass unicode text. It will return a str with normalized characters both single and combined, proper spaces after digits and punctuations and diacritics(Zabar - Paish) removed.\n",
    "df['comment_text'] = df['comment_text'].apply(remove_punctuation) # Remove punctuation from text by removing all instances of marks. marks=',;:'\n",
    "df['comment_text'] = df['comment_text'].apply(remove_accents) # Remove accents from any accented unicode characters in text str, either by transforming them into ascii equivalents or removing them entirely.\n",
    "df['comment_text'] = df['comment_text'].apply(replace_urls) # Replace all URLs in text str with replace_with str.\n",
    "df['comment_text'] = df['comment_text'].apply(replace_emails) # Replace all emails in text str with replace_with str.df['comment_text'] = df['comment_text'].apply(replace_numbers) # Replace all numbers in text str with replace_with str.\n",
    "df['comment_text'] = df['comment_text'].apply(replace_currency_symbols) # Replace all currency symbols in text str with string specified by replace_with str.\n",
    "df['comment_text'] = df['comment_text'].apply(remove_english_alphabets) # Removes English words and digits from a text\n",
    "df['comment_text'] = df['comment_text'].apply(normalize_whitespace) ## Given text str, replace one or more spacings with a single space, and one or more linebreaks with a single newline. Also strip leading/trailing whitespace."
   ]
  },
  {
   "cell_type": "code",
   "execution_count": 13,
   "id": "addb9b23",
   "metadata": {},
   "outputs": [],
   "source": [
    "from typing import FrozenSet\n",
    "\n",
    "# Urdu Language Stop words list\n",
    "STOP_WORDS: FrozenSet[str] = frozenset(\"\"\"\n",
    " آ آئی آئیں آئے آتا آتی آتے آس آمدید آنا آنسہ آنی آنے آپ آگے آہ آہا آیا اب ابھی ابے\n",
    " ارے اس اسکا اسکی اسکے اسی اسے اف افوہ البتہ الف ان اندر انکا انکی انکے انہوں انہی انہیں اوئے اور اوپر\n",
    " اوہو اپ اپنا اپنوں اپنی اپنے اپنےآپ اکثر اگر اگرچہ اہاہا ایسا ایسی ایسے ایک بائیں بار بارے بالکل باوجود باہر\n",
    " بج بجے بخیر بشرطیکہ بعد بعض بغیر بلکہ بن بنا بناؤ بند بڑی بھر بھریں بھی بہت بہتر تاکہ تاہم تب تجھ\n",
    " تجھی تجھے ترا تری تلک تم تمام تمہارا تمہاروں تمہاری تمہارے تمہیں تو تک تھا تھی تھیں تھے تیرا تیری تیرے\n",
    " جا جاؤ جائیں جائے جاتا جاتی جاتے جانی جانے جب جبکہ جدھر جس جسے جن جناب جنہوں جنہیں جو جہاں جی جیسا\n",
    " جیسوں جیسی جیسے حالانکہ حالاں حصہ حضرت خاطر خالی خواہ خوب خود دائیں درمیان دریں دو دوران دوسرا دوسروں دوسری دوں\n",
    " دکھائیں دی دیئے دیا دیتا دیتی دیتے دیر دینا دینی دینے دیکھو دیں دیے دے ذریعے رکھا رکھتا رکھتی رکھتے رکھنا رکھنی\n",
    " رکھنے رکھو رکھی رکھے رہ رہا رہتا رہتی رہتے رہنا رہنی رہنے رہو رہی رہیں رہے ساتھ سامنے ساڑھے سب سبھی\n",
    " سراسر سمیت سوا سوائے سکا سکتا سکتے سہ سہی سی سے شاید شکریہ صاحب صاحبہ صرف ضرور طرح طرف طور علاوہ عین\n",
    " فقط فلاں فی قبل قطا لئے لائی لائے لاتا لاتی لاتے لانا لانی لانے لایا لو لوجی لوگوں لگ لگا لگتا\n",
    " لگتی لگی لگیں لگے لہذا لی لیا لیتا لیتی لیتے لیکن لیں لیے لے ماسوا مت مجھ مجھی مجھے محترم محترمہ محض\n",
    " مرا مرحبا مری مرے مزید مس مسز مسٹر مطابق مل مکرمی مگر مگھر مہربانی میرا میروں میری میرے میں نا نزدیک\n",
    " نما نہ نہیں نیز نیچے نے و وار واسطے واقعی والا والوں والی والے واہ وجہ ورنہ وغیرہ ولے وگرنہ وہ وہاں\n",
    " وہی وہیں ویسا ویسے ویں پاس پایا پر پس پلیز پون پونی پونے پھر پہ پہلا پہلی پہلے پیر پیچھے چاہئے\n",
    " چاہتے چاہیئے چاہے چلا چلو چلیں چلے چناچہ چند چونکہ چکی چکیں چکے ڈالنا ڈالنی ڈالنے ڈالے کئے کا کاش کب کبھی\n",
    " کدھر کر کرتا کرتی کرتے کرم کرنا کرنے کرو کریں کرے کس کسی کسے کم کن کنہیں کو کوئی کون کونسا\n",
    " کونسے کچھ کہ کہا کہاں کہہ کہی کہیں کہے کی کیا کیسا کیسے کیونکر کیونکہ کیوں کیے کے گئی گئے گا گنا\n",
    " گو گویا گی گیا ہائیں ہائے ہاں ہر ہرچند ہرگز ہم ہمارا ہماری ہمارے ہمی ہمیں ہو ہوئی ہوئیں ہوئے ہوا\n",
    " ہوبہو ہوتا ہوتی ہوتیں ہوتے ہونا ہونگے ہونی ہونے ہوں ہی ہیلو ہیں ہے یا یات یعنی یک یہ یہاں یہی یہیں\n",
    "\"\"\".split())\n",
    "\n",
    "\n",
    "def remove_stopwords(text: str):\n",
    "    return \" \".join(word for word in text.split() if word not in STOP_WORDS)\n"
   ]
  },
  {
   "cell_type": "code",
   "execution_count": 14,
   "id": "5746ee32",
   "metadata": {},
   "outputs": [
    {
     "data": {
      "text/html": [
       "<div>\n",
       "<style scoped>\n",
       "    .dataframe tbody tr th:only-of-type {\n",
       "        vertical-align: middle;\n",
       "    }\n",
       "\n",
       "    .dataframe tbody tr th {\n",
       "        vertical-align: top;\n",
       "    }\n",
       "\n",
       "    .dataframe thead th {\n",
       "        text-align: right;\n",
       "    }\n",
       "</style>\n",
       "<table border=\"1\" class=\"dataframe\">\n",
       "  <thead>\n",
       "    <tr style=\"text-align: right;\">\n",
       "      <th></th>\n",
       "      <th>comment_text</th>\n",
       "    </tr>\n",
       "  </thead>\n",
       "  <tbody>\n",
       "    <tr>\n",
       "      <th>0</th>\n",
       "      <td>کہ کے لے لی شام دلے کی</td>\n",
       "    </tr>\n",
       "    <tr>\n",
       "      <th>1</th>\n",
       "      <td>اب اگر اس نے کچھ جواب دیا تو اس کی گانڈ مار دی...</td>\n",
       "    </tr>\n",
       "    <tr>\n",
       "      <th>2</th>\n",
       "      <td>اب ان چوتیوں نے وہ جو کنسرٹ ہو رہا تھا وہ بھی ...</td>\n",
       "    </tr>\n",
       "    <tr>\n",
       "      <th>3</th>\n",
       "      <td>اب ان کی گانڈ میں ہاتھ ڈال کر انتڑیاں نکالے گا...</td>\n",
       "    </tr>\n",
       "    <tr>\n",
       "      <th>4</th>\n",
       "      <td>اب تک سکی سب سے اچھی ویڈیو ہے</td>\n",
       "    </tr>\n",
       "    <tr>\n",
       "      <th>5</th>\n",
       "      <td>اب تک کا سب سے برا مزاق</td>\n",
       "    </tr>\n",
       "    <tr>\n",
       "      <th>6</th>\n",
       "      <td>اب تو اتنی مار دی تیری بھائی نے کہ اب تو شادی ...</td>\n",
       "    </tr>\n",
       "    <tr>\n",
       "      <th>7</th>\n",
       "      <td>اب لوڑا آگیا ہے یا للی کا ٹوپا</td>\n",
       "    </tr>\n",
       "    <tr>\n",
       "      <th>8</th>\n",
       "      <td>اب وہ اپنی گانڈ کا زور لگائے گا اس ویڈیو کو بن...</td>\n",
       "    </tr>\n",
       "    <tr>\n",
       "      <th>9</th>\n",
       "      <td>اب وہ چوتیا کو دکی بھائی بین کر دے گا</td>\n",
       "    </tr>\n",
       "  </tbody>\n",
       "</table>\n",
       "</div>"
      ],
      "text/plain": [
       "                                        comment_text\n",
       "0                             کہ کے لے لی شام دلے کی\n",
       "1  اب اگر اس نے کچھ جواب دیا تو اس کی گانڈ مار دی...\n",
       "2  اب ان چوتیوں نے وہ جو کنسرٹ ہو رہا تھا وہ بھی ...\n",
       "3  اب ان کی گانڈ میں ہاتھ ڈال کر انتڑیاں نکالے گا...\n",
       "4                      اب تک سکی سب سے اچھی ویڈیو ہے\n",
       "5                            اب تک کا سب سے برا مزاق\n",
       "6  اب تو اتنی مار دی تیری بھائی نے کہ اب تو شادی ...\n",
       "7                     اب لوڑا آگیا ہے یا للی کا ٹوپا\n",
       "8  اب وہ اپنی گانڈ کا زور لگائے گا اس ویڈیو کو بن...\n",
       "9              اب وہ چوتیا کو دکی بھائی بین کر دے گا"
      ]
     },
     "execution_count": 14,
     "metadata": {},
     "output_type": "execute_result"
    }
   ],
   "source": [
    "df[['comment_text']].head(10)"
   ]
  },
  {
   "cell_type": "code",
   "execution_count": 15,
   "id": "8083b0e7",
   "metadata": {},
   "outputs": [
    {
     "data": {
      "text/html": [
       "<div>\n",
       "<style scoped>\n",
       "    .dataframe tbody tr th:only-of-type {\n",
       "        vertical-align: middle;\n",
       "    }\n",
       "\n",
       "    .dataframe tbody tr th {\n",
       "        vertical-align: top;\n",
       "    }\n",
       "\n",
       "    .dataframe thead th {\n",
       "        text-align: right;\n",
       "    }\n",
       "</style>\n",
       "<table border=\"1\" class=\"dataframe\">\n",
       "  <thead>\n",
       "    <tr style=\"text-align: right;\">\n",
       "      <th></th>\n",
       "      <th>class</th>\n",
       "      <th>comment_text</th>\n",
       "    </tr>\n",
       "  </thead>\n",
       "  <tbody>\n",
       "    <tr>\n",
       "      <th>0</th>\n",
       "      <td>1</td>\n",
       "      <td>کہ کے لے لی شام دلے کی</td>\n",
       "    </tr>\n",
       "    <tr>\n",
       "      <th>1</th>\n",
       "      <td>1</td>\n",
       "      <td>اب اگر اس نے کچھ جواب دیا تو اس کی گانڈ مار دی...</td>\n",
       "    </tr>\n",
       "    <tr>\n",
       "      <th>2</th>\n",
       "      <td>1</td>\n",
       "      <td>اب ان چوتیوں نے وہ جو کنسرٹ ہو رہا تھا وہ بھی ...</td>\n",
       "    </tr>\n",
       "    <tr>\n",
       "      <th>3</th>\n",
       "      <td>1</td>\n",
       "      <td>اب ان کی گانڈ میں ہاتھ ڈال کر انتڑیاں نکالے گا...</td>\n",
       "    </tr>\n",
       "    <tr>\n",
       "      <th>4</th>\n",
       "      <td>0</td>\n",
       "      <td>اب تک سکی سب سے اچھی ویڈیو ہے</td>\n",
       "    </tr>\n",
       "    <tr>\n",
       "      <th>...</th>\n",
       "      <td>...</td>\n",
       "      <td>...</td>\n",
       "    </tr>\n",
       "    <tr>\n",
       "      <th>2166</th>\n",
       "      <td>0</td>\n",
       "      <td>یہی آخری ویڈیو ہے</td>\n",
       "    </tr>\n",
       "    <tr>\n",
       "      <th>2167</th>\n",
       "      <td>1</td>\n",
       "      <td>یوٹیوب ایکس میں جا کر ماں چدوا</td>\n",
       "    </tr>\n",
       "    <tr>\n",
       "      <th>2168</th>\n",
       "      <td>0</td>\n",
       "      <td>یوٹیوب کے دوسرے ویڈیوز کو بھی آپ دیکھو زیادہ م...</td>\n",
       "    </tr>\n",
       "    <tr>\n",
       "      <th>2169</th>\n",
       "      <td>0</td>\n",
       "      <td>یوٹیوبر ہا ہا ہا</td>\n",
       "    </tr>\n",
       "    <tr>\n",
       "      <th>2170</th>\n",
       "      <td>1</td>\n",
       "      <td>یہ گانڈوفضول حرکتیں کر رہاہے</td>\n",
       "    </tr>\n",
       "  </tbody>\n",
       "</table>\n",
       "<p>2171 rows × 2 columns</p>\n",
       "</div>"
      ],
      "text/plain": [
       "      class                                       comment_text\n",
       "0         1                             کہ کے لے لی شام دلے کی\n",
       "1         1  اب اگر اس نے کچھ جواب دیا تو اس کی گانڈ مار دی...\n",
       "2         1  اب ان چوتیوں نے وہ جو کنسرٹ ہو رہا تھا وہ بھی ...\n",
       "3         1  اب ان کی گانڈ میں ہاتھ ڈال کر انتڑیاں نکالے گا...\n",
       "4         0                      اب تک سکی سب سے اچھی ویڈیو ہے\n",
       "...     ...                                                ...\n",
       "2166      0                                  یہی آخری ویڈیو ہے\n",
       "2167      1                     یوٹیوب ایکس میں جا کر ماں چدوا\n",
       "2168      0  یوٹیوب کے دوسرے ویڈیوز کو بھی آپ دیکھو زیادہ م...\n",
       "2169      0                                   یوٹیوبر ہا ہا ہا\n",
       "2170      1                       یہ گانڈوفضول حرکتیں کر رہاہے\n",
       "\n",
       "[2171 rows x 2 columns]"
      ]
     },
     "execution_count": 15,
     "metadata": {},
     "output_type": "execute_result"
    }
   ],
   "source": [
    "df"
   ]
  },
  {
   "cell_type": "code",
   "execution_count": null,
   "id": "1e95f520",
   "metadata": {},
   "outputs": [],
   "source": []
  },
  {
   "cell_type": "code",
   "execution_count": 16,
   "id": "d36115b7",
   "metadata": {},
   "outputs": [
    {
     "data": {
      "text/html": [
       "<div>\n",
       "<style scoped>\n",
       "    .dataframe tbody tr th:only-of-type {\n",
       "        vertical-align: middle;\n",
       "    }\n",
       "\n",
       "    .dataframe tbody tr th {\n",
       "        vertical-align: top;\n",
       "    }\n",
       "\n",
       "    .dataframe thead th {\n",
       "        text-align: right;\n",
       "    }\n",
       "</style>\n",
       "<table border=\"1\" class=\"dataframe\">\n",
       "  <thead>\n",
       "    <tr style=\"text-align: right;\">\n",
       "      <th></th>\n",
       "      <th>text</th>\n",
       "      <th>category</th>\n",
       "      <th>label</th>\n",
       "    </tr>\n",
       "  </thead>\n",
       "  <tbody>\n",
       "    <tr>\n",
       "      <th>0</th>\n",
       "      <td>کہ کے لے لی شام دلے کی</td>\n",
       "      <td>True</td>\n",
       "      <td>1</td>\n",
       "    </tr>\n",
       "    <tr>\n",
       "      <th>1</th>\n",
       "      <td>اب اگر اس نے کچھ جواب دیا تو اس کی گانڈ مار دی...</td>\n",
       "      <td>True</td>\n",
       "      <td>1</td>\n",
       "    </tr>\n",
       "    <tr>\n",
       "      <th>2</th>\n",
       "      <td>اب ان چوتیوں نے وہ جو کنسرٹ ہو رہا تھا وہ بھی ...</td>\n",
       "      <td>True</td>\n",
       "      <td>1</td>\n",
       "    </tr>\n",
       "    <tr>\n",
       "      <th>3</th>\n",
       "      <td>اب ان کی گانڈ میں ہاتھ ڈال کر انتڑیاں نکالے گا...</td>\n",
       "      <td>True</td>\n",
       "      <td>1</td>\n",
       "    </tr>\n",
       "    <tr>\n",
       "      <th>4</th>\n",
       "      <td>اب تک سکی سب سے اچھی ویڈیو ہے</td>\n",
       "      <td>False</td>\n",
       "      <td>0</td>\n",
       "    </tr>\n",
       "    <tr>\n",
       "      <th>...</th>\n",
       "      <td>...</td>\n",
       "      <td>...</td>\n",
       "      <td>...</td>\n",
       "    </tr>\n",
       "    <tr>\n",
       "      <th>2166</th>\n",
       "      <td>یہی آخری ویڈیو ہے</td>\n",
       "      <td>False</td>\n",
       "      <td>0</td>\n",
       "    </tr>\n",
       "    <tr>\n",
       "      <th>2167</th>\n",
       "      <td>یوٹیوب ایکس میں جا کر ماں چدوا</td>\n",
       "      <td>True</td>\n",
       "      <td>1</td>\n",
       "    </tr>\n",
       "    <tr>\n",
       "      <th>2168</th>\n",
       "      <td>یوٹیوب کے دوسرے ویڈیوز کو بھی آپ دیکھو زیادہ م...</td>\n",
       "      <td>False</td>\n",
       "      <td>0</td>\n",
       "    </tr>\n",
       "    <tr>\n",
       "      <th>2169</th>\n",
       "      <td>یوٹیوبر ہا ہا ہا</td>\n",
       "      <td>False</td>\n",
       "      <td>0</td>\n",
       "    </tr>\n",
       "    <tr>\n",
       "      <th>2170</th>\n",
       "      <td>یہ گانڈوفضول حرکتیں کر رہاہے</td>\n",
       "      <td>True</td>\n",
       "      <td>1</td>\n",
       "    </tr>\n",
       "  </tbody>\n",
       "</table>\n",
       "<p>2171 rows × 3 columns</p>\n",
       "</div>"
      ],
      "text/plain": [
       "                                                   text category  label\n",
       "0                                کہ کے لے لی شام دلے کی     True      1\n",
       "1     اب اگر اس نے کچھ جواب دیا تو اس کی گانڈ مار دی...     True      1\n",
       "2     اب ان چوتیوں نے وہ جو کنسرٹ ہو رہا تھا وہ بھی ...     True      1\n",
       "3     اب ان کی گانڈ میں ہاتھ ڈال کر انتڑیاں نکالے گا...     True      1\n",
       "4                         اب تک سکی سب سے اچھی ویڈیو ہے    False      0\n",
       "...                                                 ...      ...    ...\n",
       "2166                                  یہی آخری ویڈیو ہے    False      0\n",
       "2167                     یوٹیوب ایکس میں جا کر ماں چدوا     True      1\n",
       "2168  یوٹیوب کے دوسرے ویڈیوز کو بھی آپ دیکھو زیادہ م...    False      0\n",
       "2169                                   یوٹیوبر ہا ہا ہا    False      0\n",
       "2170                       یہ گانڈوفضول حرکتیں کر رہاہے     True      1\n",
       "\n",
       "[2171 rows x 3 columns]"
      ]
     },
     "execution_count": 16,
     "metadata": {},
     "output_type": "execute_result"
    }
   ],
   "source": [
    "c=df['class']\n",
    "df.rename(columns={'comment_text' : 'text',\n",
    "                   'class' : 'category'}, \n",
    "                    inplace=True)\n",
    "a=df['text']\n",
    "b=df['category'].map({0: 'False', 1: 'True'})\n",
    "\n",
    "df= pd.concat([a,b,c], axis=1)\n",
    "df.rename(columns={'class' : 'label'}, \n",
    "                    inplace=True)\n",
    "df"
   ]
  },
  {
   "cell_type": "code",
   "execution_count": 17,
   "id": "5222ac41",
   "metadata": {},
   "outputs": [
    {
     "data": {
      "text/html": [
       "<div>\n",
       "<style scoped>\n",
       "    .dataframe tbody tr th:only-of-type {\n",
       "        vertical-align: middle;\n",
       "    }\n",
       "\n",
       "    .dataframe tbody tr th {\n",
       "        vertical-align: top;\n",
       "    }\n",
       "\n",
       "    .dataframe thead th {\n",
       "        text-align: right;\n",
       "    }\n",
       "</style>\n",
       "<table border=\"1\" class=\"dataframe\">\n",
       "  <thead>\n",
       "    <tr style=\"text-align: right;\">\n",
       "      <th></th>\n",
       "      <th>text</th>\n",
       "      <th>category</th>\n",
       "    </tr>\n",
       "    <tr>\n",
       "      <th>label</th>\n",
       "      <th></th>\n",
       "      <th></th>\n",
       "    </tr>\n",
       "  </thead>\n",
       "  <tbody>\n",
       "    <tr>\n",
       "      <th>0</th>\n",
       "      <td>1062</td>\n",
       "      <td>1062</td>\n",
       "    </tr>\n",
       "    <tr>\n",
       "      <th>1</th>\n",
       "      <td>1109</td>\n",
       "      <td>1109</td>\n",
       "    </tr>\n",
       "  </tbody>\n",
       "</table>\n",
       "</div>"
      ],
      "text/plain": [
       "       text  category\n",
       "label                \n",
       "0      1062      1062\n",
       "1      1109      1109"
      ]
     },
     "execution_count": 17,
     "metadata": {},
     "output_type": "execute_result"
    }
   ],
   "source": [
    "df.groupby('label').count()"
   ]
  },
  {
   "cell_type": "code",
   "execution_count": null,
   "id": "a0a495e5",
   "metadata": {},
   "outputs": [],
   "source": []
  },
  {
   "cell_type": "code",
   "execution_count": null,
   "id": "43cad1fe",
   "metadata": {},
   "outputs": [],
   "source": []
  },
  {
   "cell_type": "code",
   "execution_count": 18,
   "id": "b9d223e0",
   "metadata": {},
   "outputs": [
    {
     "name": "stdout",
     "output_type": "stream",
     "text": [
      "Examples:\n",
      "    Total: 2171\n",
      "    hate: 1062 (48.92% of total)\n",
      "\n",
      "Examples:\n",
      "    Total: 2171\n",
      "    Ofensive: 1109 (51.08% of total)\n",
      "\n"
     ]
    }
   ],
   "source": [
    "false, true = np.bincount(df['label'])\n",
    "total = false + true\n",
    "print('Examples:\\n    Total: {}\\n    hate: {} ({:.2f}% of total)\\n'.format(\n",
    "    total, false, 100 * false / total))\n",
    "print('Examples:\\n    Total: {}\\n    Ofensive: {} ({:.2f}% of total)\\n'.format(\n",
    "    total, true, 100 * true / total))\n"
   ]
  },
  {
   "cell_type": "code",
   "execution_count": 19,
   "id": "3bc98916",
   "metadata": {},
   "outputs": [],
   "source": [
    "X_train_, X_test, y_train_, y_test = train_test_split(\n",
    "    df.index.values,\n",
    "    df.label.values,\n",
    "    test_size=0.20,\n",
    "    random_state=42,\n",
    "    stratify=df.label.values,    \n",
    ")"
   ]
  },
  {
   "cell_type": "code",
   "execution_count": 20,
   "id": "bfac1752",
   "metadata": {},
   "outputs": [],
   "source": [
    "X_train, X_val, y_train, y_val = train_test_split(\n",
    "    df.loc[X_train_].index.values,\n",
    "    df.loc[X_train_].label.values,\n",
    "    test_size=0.20,\n",
    "    random_state=42,\n",
    "    stratify=df.loc[X_train_].label.values,  \n",
    ")"
   ]
  },
  {
   "cell_type": "code",
   "execution_count": 21,
   "id": "18179d32",
   "metadata": {},
   "outputs": [],
   "source": [
    "df['data_type'] = ['not_set']*df.shape[0]\n",
    "df.loc[X_train, 'data_type'] = 'train'\n",
    "df.loc[X_val, 'data_type'] = 'val'\n",
    "df.loc[X_test, 'data_type'] = 'test'"
   ]
  },
  {
   "cell_type": "code",
   "execution_count": 22,
   "id": "6f8d7035",
   "metadata": {},
   "outputs": [
    {
     "data": {
      "text/html": [
       "<div>\n",
       "<style scoped>\n",
       "    .dataframe tbody tr th:only-of-type {\n",
       "        vertical-align: middle;\n",
       "    }\n",
       "\n",
       "    .dataframe tbody tr th {\n",
       "        vertical-align: top;\n",
       "    }\n",
       "\n",
       "    .dataframe thead th {\n",
       "        text-align: right;\n",
       "    }\n",
       "</style>\n",
       "<table border=\"1\" class=\"dataframe\">\n",
       "  <thead>\n",
       "    <tr style=\"text-align: right;\">\n",
       "      <th></th>\n",
       "      <th></th>\n",
       "      <th></th>\n",
       "      <th>text</th>\n",
       "    </tr>\n",
       "    <tr>\n",
       "      <th>category</th>\n",
       "      <th>label</th>\n",
       "      <th>data_type</th>\n",
       "      <th></th>\n",
       "    </tr>\n",
       "  </thead>\n",
       "  <tbody>\n",
       "    <tr>\n",
       "      <th rowspan=\"3\" valign=\"top\">False</th>\n",
       "      <th rowspan=\"3\" valign=\"top\">0</th>\n",
       "      <th>test</th>\n",
       "      <td>213</td>\n",
       "    </tr>\n",
       "    <tr>\n",
       "      <th>train</th>\n",
       "      <td>679</td>\n",
       "    </tr>\n",
       "    <tr>\n",
       "      <th>val</th>\n",
       "      <td>170</td>\n",
       "    </tr>\n",
       "    <tr>\n",
       "      <th rowspan=\"3\" valign=\"top\">True</th>\n",
       "      <th rowspan=\"3\" valign=\"top\">1</th>\n",
       "      <th>test</th>\n",
       "      <td>222</td>\n",
       "    </tr>\n",
       "    <tr>\n",
       "      <th>train</th>\n",
       "      <td>709</td>\n",
       "    </tr>\n",
       "    <tr>\n",
       "      <th>val</th>\n",
       "      <td>178</td>\n",
       "    </tr>\n",
       "  </tbody>\n",
       "</table>\n",
       "</div>"
      ],
      "text/plain": [
       "                          text\n",
       "category label data_type      \n",
       "False    0     test        213\n",
       "               train       679\n",
       "               val         170\n",
       "True     1     test        222\n",
       "               train       709\n",
       "               val         178"
      ]
     },
     "execution_count": 22,
     "metadata": {},
     "output_type": "execute_result"
    }
   ],
   "source": [
    "df.groupby(['category', 'label', 'data_type']).count()"
   ]
  },
  {
   "cell_type": "code",
   "execution_count": 23,
   "id": "c74ed7e9",
   "metadata": {},
   "outputs": [
    {
     "data": {
      "text/html": [
       "<div>\n",
       "<style scoped>\n",
       "    .dataframe tbody tr th:only-of-type {\n",
       "        vertical-align: middle;\n",
       "    }\n",
       "\n",
       "    .dataframe tbody tr th {\n",
       "        vertical-align: top;\n",
       "    }\n",
       "\n",
       "    .dataframe thead th {\n",
       "        text-align: right;\n",
       "    }\n",
       "</style>\n",
       "<table border=\"1\" class=\"dataframe\">\n",
       "  <thead>\n",
       "    <tr style=\"text-align: right;\">\n",
       "      <th></th>\n",
       "      <th>text</th>\n",
       "      <th>category</th>\n",
       "      <th>label</th>\n",
       "      <th>data_type</th>\n",
       "    </tr>\n",
       "  </thead>\n",
       "  <tbody>\n",
       "    <tr>\n",
       "      <th>0</th>\n",
       "      <td>کہ کے لے لی شام دلے کی</td>\n",
       "      <td>True</td>\n",
       "      <td>1</td>\n",
       "      <td>train</td>\n",
       "    </tr>\n",
       "    <tr>\n",
       "      <th>1</th>\n",
       "      <td>اب اگر اس نے کچھ جواب دیا تو اس کی گانڈ مار دی...</td>\n",
       "      <td>True</td>\n",
       "      <td>1</td>\n",
       "      <td>val</td>\n",
       "    </tr>\n",
       "    <tr>\n",
       "      <th>2</th>\n",
       "      <td>اب ان چوتیوں نے وہ جو کنسرٹ ہو رہا تھا وہ بھی ...</td>\n",
       "      <td>True</td>\n",
       "      <td>1</td>\n",
       "      <td>val</td>\n",
       "    </tr>\n",
       "    <tr>\n",
       "      <th>3</th>\n",
       "      <td>اب ان کی گانڈ میں ہاتھ ڈال کر انتڑیاں نکالے گا...</td>\n",
       "      <td>True</td>\n",
       "      <td>1</td>\n",
       "      <td>train</td>\n",
       "    </tr>\n",
       "    <tr>\n",
       "      <th>4</th>\n",
       "      <td>اب تک سکی سب سے اچھی ویڈیو ہے</td>\n",
       "      <td>False</td>\n",
       "      <td>0</td>\n",
       "      <td>train</td>\n",
       "    </tr>\n",
       "    <tr>\n",
       "      <th>...</th>\n",
       "      <td>...</td>\n",
       "      <td>...</td>\n",
       "      <td>...</td>\n",
       "      <td>...</td>\n",
       "    </tr>\n",
       "    <tr>\n",
       "      <th>2166</th>\n",
       "      <td>یہی آخری ویڈیو ہے</td>\n",
       "      <td>False</td>\n",
       "      <td>0</td>\n",
       "      <td>train</td>\n",
       "    </tr>\n",
       "    <tr>\n",
       "      <th>2167</th>\n",
       "      <td>یوٹیوب ایکس میں جا کر ماں چدوا</td>\n",
       "      <td>True</td>\n",
       "      <td>1</td>\n",
       "      <td>val</td>\n",
       "    </tr>\n",
       "    <tr>\n",
       "      <th>2168</th>\n",
       "      <td>یوٹیوب کے دوسرے ویڈیوز کو بھی آپ دیکھو زیادہ م...</td>\n",
       "      <td>False</td>\n",
       "      <td>0</td>\n",
       "      <td>val</td>\n",
       "    </tr>\n",
       "    <tr>\n",
       "      <th>2169</th>\n",
       "      <td>یوٹیوبر ہا ہا ہا</td>\n",
       "      <td>False</td>\n",
       "      <td>0</td>\n",
       "      <td>train</td>\n",
       "    </tr>\n",
       "    <tr>\n",
       "      <th>2170</th>\n",
       "      <td>یہ گانڈوفضول حرکتیں کر رہاہے</td>\n",
       "      <td>True</td>\n",
       "      <td>1</td>\n",
       "      <td>train</td>\n",
       "    </tr>\n",
       "  </tbody>\n",
       "</table>\n",
       "<p>2171 rows × 4 columns</p>\n",
       "</div>"
      ],
      "text/plain": [
       "                                                   text category  label  \\\n",
       "0                                کہ کے لے لی شام دلے کی     True      1   \n",
       "1     اب اگر اس نے کچھ جواب دیا تو اس کی گانڈ مار دی...     True      1   \n",
       "2     اب ان چوتیوں نے وہ جو کنسرٹ ہو رہا تھا وہ بھی ...     True      1   \n",
       "3     اب ان کی گانڈ میں ہاتھ ڈال کر انتڑیاں نکالے گا...     True      1   \n",
       "4                         اب تک سکی سب سے اچھی ویڈیو ہے    False      0   \n",
       "...                                                 ...      ...    ...   \n",
       "2166                                  یہی آخری ویڈیو ہے    False      0   \n",
       "2167                     یوٹیوب ایکس میں جا کر ماں چدوا     True      1   \n",
       "2168  یوٹیوب کے دوسرے ویڈیوز کو بھی آپ دیکھو زیادہ م...    False      0   \n",
       "2169                                   یوٹیوبر ہا ہا ہا    False      0   \n",
       "2170                       یہ گانڈوفضول حرکتیں کر رہاہے     True      1   \n",
       "\n",
       "     data_type  \n",
       "0        train  \n",
       "1          val  \n",
       "2          val  \n",
       "3        train  \n",
       "4        train  \n",
       "...        ...  \n",
       "2166     train  \n",
       "2167       val  \n",
       "2168       val  \n",
       "2169     train  \n",
       "2170     train  \n",
       "\n",
       "[2171 rows x 4 columns]"
      ]
     },
     "execution_count": 23,
     "metadata": {},
     "output_type": "execute_result"
    }
   ],
   "source": [
    "df"
   ]
  },
  {
   "cell_type": "code",
   "execution_count": 24,
   "id": "26b86b57",
   "metadata": {},
   "outputs": [
    {
     "data": {
      "text/html": [
       "<div>\n",
       "<style scoped>\n",
       "    .dataframe tbody tr th:only-of-type {\n",
       "        vertical-align: middle;\n",
       "    }\n",
       "\n",
       "    .dataframe tbody tr th {\n",
       "        vertical-align: top;\n",
       "    }\n",
       "\n",
       "    .dataframe thead th {\n",
       "        text-align: right;\n",
       "    }\n",
       "</style>\n",
       "<table border=\"1\" class=\"dataframe\">\n",
       "  <thead>\n",
       "    <tr style=\"text-align: right;\">\n",
       "      <th></th>\n",
       "      <th>text</th>\n",
       "      <th>category</th>\n",
       "      <th>label</th>\n",
       "      <th>data_type</th>\n",
       "    </tr>\n",
       "  </thead>\n",
       "  <tbody>\n",
       "    <tr>\n",
       "      <th>0</th>\n",
       "      <td>کہ کے لے لی شام دلے کی</td>\n",
       "      <td>True</td>\n",
       "      <td>1</td>\n",
       "      <td>train</td>\n",
       "    </tr>\n",
       "    <tr>\n",
       "      <th>3</th>\n",
       "      <td>اب ان کی گانڈ میں ہاتھ ڈال کر انتڑیاں نکالے گا...</td>\n",
       "      <td>True</td>\n",
       "      <td>1</td>\n",
       "      <td>train</td>\n",
       "    </tr>\n",
       "    <tr>\n",
       "      <th>4</th>\n",
       "      <td>اب تک سکی سب سے اچھی ویڈیو ہے</td>\n",
       "      <td>False</td>\n",
       "      <td>0</td>\n",
       "      <td>train</td>\n",
       "    </tr>\n",
       "    <tr>\n",
       "      <th>6</th>\n",
       "      <td>اب تو اتنی مار دی تیری بھائی نے کہ اب تو شادی ...</td>\n",
       "      <td>True</td>\n",
       "      <td>1</td>\n",
       "      <td>train</td>\n",
       "    </tr>\n",
       "    <tr>\n",
       "      <th>11</th>\n",
       "      <td>ابلیس اوئے دلے نازک صورتحال فر ابیلس دلے</td>\n",
       "      <td>True</td>\n",
       "      <td>1</td>\n",
       "      <td>train</td>\n",
       "    </tr>\n",
       "  </tbody>\n",
       "</table>\n",
       "</div>"
      ],
      "text/plain": [
       "                                                 text category  label  \\\n",
       "0                              کہ کے لے لی شام دلے کی     True      1   \n",
       "3   اب ان کی گانڈ میں ہاتھ ڈال کر انتڑیاں نکالے گا...     True      1   \n",
       "4                       اب تک سکی سب سے اچھی ویڈیو ہے    False      0   \n",
       "6   اب تو اتنی مار دی تیری بھائی نے کہ اب تو شادی ...     True      1   \n",
       "11           ابلیس اوئے دلے نازک صورتحال فر ابیلس دلے     True      1   \n",
       "\n",
       "   data_type  \n",
       "0      train  \n",
       "3      train  \n",
       "4      train  \n",
       "6      train  \n",
       "11     train  "
      ]
     },
     "execution_count": 24,
     "metadata": {},
     "output_type": "execute_result"
    }
   ],
   "source": [
    "df_train = df.loc[df[\"data_type\"]==\"train\"]\n",
    "df_train.head(5)"
   ]
  },
  {
   "cell_type": "code",
   "execution_count": 25,
   "id": "317b8c05",
   "metadata": {},
   "outputs": [
    {
     "data": {
      "text/html": [
       "<div>\n",
       "<style scoped>\n",
       "    .dataframe tbody tr th:only-of-type {\n",
       "        vertical-align: middle;\n",
       "    }\n",
       "\n",
       "    .dataframe tbody tr th {\n",
       "        vertical-align: top;\n",
       "    }\n",
       "\n",
       "    .dataframe thead th {\n",
       "        text-align: right;\n",
       "    }\n",
       "</style>\n",
       "<table border=\"1\" class=\"dataframe\">\n",
       "  <thead>\n",
       "    <tr style=\"text-align: right;\">\n",
       "      <th></th>\n",
       "      <th>text</th>\n",
       "      <th>category</th>\n",
       "      <th>label</th>\n",
       "      <th>data_type</th>\n",
       "    </tr>\n",
       "  </thead>\n",
       "  <tbody>\n",
       "    <tr>\n",
       "      <th>1</th>\n",
       "      <td>اب اگر اس نے کچھ جواب دیا تو اس کی گانڈ مار دی...</td>\n",
       "      <td>True</td>\n",
       "      <td>1</td>\n",
       "      <td>val</td>\n",
       "    </tr>\n",
       "    <tr>\n",
       "      <th>2</th>\n",
       "      <td>اب ان چوتیوں نے وہ جو کنسرٹ ہو رہا تھا وہ بھی ...</td>\n",
       "      <td>True</td>\n",
       "      <td>1</td>\n",
       "      <td>val</td>\n",
       "    </tr>\n",
       "    <tr>\n",
       "      <th>7</th>\n",
       "      <td>اب لوڑا آگیا ہے یا للی کا ٹوپا</td>\n",
       "      <td>True</td>\n",
       "      <td>1</td>\n",
       "      <td>val</td>\n",
       "    </tr>\n",
       "    <tr>\n",
       "      <th>10</th>\n",
       "      <td>ابرار یہ سب ہندو کلچر میں نہیں ہے یہ سب بکواس ...</td>\n",
       "      <td>False</td>\n",
       "      <td>0</td>\n",
       "      <td>val</td>\n",
       "    </tr>\n",
       "    <tr>\n",
       "      <th>17</th>\n",
       "      <td>ابھی آپ نے یہ چوتیاپا تو کر لیا ویڈیو بنا کراو...</td>\n",
       "      <td>True</td>\n",
       "      <td>1</td>\n",
       "      <td>val</td>\n",
       "    </tr>\n",
       "  </tbody>\n",
       "</table>\n",
       "</div>"
      ],
      "text/plain": [
       "                                                 text category  label  \\\n",
       "1   اب اگر اس نے کچھ جواب دیا تو اس کی گانڈ مار دی...     True      1   \n",
       "2   اب ان چوتیوں نے وہ جو کنسرٹ ہو رہا تھا وہ بھی ...     True      1   \n",
       "7                      اب لوڑا آگیا ہے یا للی کا ٹوپا     True      1   \n",
       "10  ابرار یہ سب ہندو کلچر میں نہیں ہے یہ سب بکواس ...    False      0   \n",
       "17  ابھی آپ نے یہ چوتیاپا تو کر لیا ویڈیو بنا کراو...     True      1   \n",
       "\n",
       "   data_type  \n",
       "1        val  \n",
       "2        val  \n",
       "7        val  \n",
       "10       val  \n",
       "17       val  "
      ]
     },
     "execution_count": 25,
     "metadata": {},
     "output_type": "execute_result"
    }
   ],
   "source": [
    "df_val = df.loc[df[\"data_type\"]==\"val\"]\n",
    "df_val.head(5)"
   ]
  },
  {
   "cell_type": "code",
   "execution_count": 26,
   "id": "cf4b9df4",
   "metadata": {},
   "outputs": [
    {
     "data": {
      "text/html": [
       "<div>\n",
       "<style scoped>\n",
       "    .dataframe tbody tr th:only-of-type {\n",
       "        vertical-align: middle;\n",
       "    }\n",
       "\n",
       "    .dataframe tbody tr th {\n",
       "        vertical-align: top;\n",
       "    }\n",
       "\n",
       "    .dataframe thead th {\n",
       "        text-align: right;\n",
       "    }\n",
       "</style>\n",
       "<table border=\"1\" class=\"dataframe\">\n",
       "  <thead>\n",
       "    <tr style=\"text-align: right;\">\n",
       "      <th></th>\n",
       "      <th>text</th>\n",
       "      <th>category</th>\n",
       "      <th>label</th>\n",
       "      <th>data_type</th>\n",
       "    </tr>\n",
       "  </thead>\n",
       "  <tbody>\n",
       "    <tr>\n",
       "      <th>5</th>\n",
       "      <td>اب تک کا سب سے برا مزاق</td>\n",
       "      <td>False</td>\n",
       "      <td>0</td>\n",
       "      <td>test</td>\n",
       "    </tr>\n",
       "    <tr>\n",
       "      <th>8</th>\n",
       "      <td>اب وہ اپنی گانڈ کا زور لگائے گا اس ویڈیو کو بن...</td>\n",
       "      <td>True</td>\n",
       "      <td>1</td>\n",
       "      <td>test</td>\n",
       "    </tr>\n",
       "    <tr>\n",
       "      <th>9</th>\n",
       "      <td>اب وہ چوتیا کو دکی بھائی بین کر دے گا</td>\n",
       "      <td>True</td>\n",
       "      <td>1</td>\n",
       "      <td>test</td>\n",
       "    </tr>\n",
       "    <tr>\n",
       "      <th>14</th>\n",
       "      <td>ابلیس کینیڈا میں جا کر اپنی اوقات بھول گیا ہے ...</td>\n",
       "      <td>True</td>\n",
       "      <td>1</td>\n",
       "      <td>test</td>\n",
       "    </tr>\n",
       "    <tr>\n",
       "      <th>18</th>\n",
       "      <td>ابھی بھڑوے کے بچے تیل کی بوتل دے تو اپنی ماں ک...</td>\n",
       "      <td>True</td>\n",
       "      <td>1</td>\n",
       "      <td>test</td>\n",
       "    </tr>\n",
       "  </tbody>\n",
       "</table>\n",
       "</div>"
      ],
      "text/plain": [
       "                                                 text category  label  \\\n",
       "5                             اب تک کا سب سے برا مزاق    False      0   \n",
       "8   اب وہ اپنی گانڈ کا زور لگائے گا اس ویڈیو کو بن...     True      1   \n",
       "9               اب وہ چوتیا کو دکی بھائی بین کر دے گا     True      1   \n",
       "14  ابلیس کینیڈا میں جا کر اپنی اوقات بھول گیا ہے ...     True      1   \n",
       "18  ابھی بھڑوے کے بچے تیل کی بوتل دے تو اپنی ماں ک...     True      1   \n",
       "\n",
       "   data_type  \n",
       "5       test  \n",
       "8       test  \n",
       "9       test  \n",
       "14      test  \n",
       "18      test  "
      ]
     },
     "execution_count": 26,
     "metadata": {},
     "output_type": "execute_result"
    }
   ],
   "source": [
    "df_test = df.loc[df[\"data_type\"]==\"test\"]\n",
    "df_test.head(5)"
   ]
  },
  {
   "cell_type": "code",
   "execution_count": 27,
   "id": "6ab6265d",
   "metadata": {},
   "outputs": [
    {
     "data": {
      "text/plain": [
       "text         object\n",
       "category     object\n",
       "label         int64\n",
       "data_type    object\n",
       "dtype: object"
      ]
     },
     "execution_count": 27,
     "metadata": {},
     "output_type": "execute_result"
    }
   ],
   "source": [
    "df.dtypes"
   ]
  },
  {
   "cell_type": "code",
   "execution_count": null,
   "id": "92e58e95",
   "metadata": {},
   "outputs": [],
   "source": [
    "#from wordcloud import WordCloud, STOPWORDS\n",
    "#stopwords = set(STOPWORDS)\n",
    "#stopwords.add(\"RT\")\n",
    "\n",
    "#print(type(STOPWORDS))\n",
    "\n",
    "#import random\n",
    "\n",
    "#def random_color_func(word=None, font_size=None, position=None,  orientation=None, font_path=None, random_state=None):\n",
    " #   h = 344\n",
    "  #  s = int(100.0 * 255.0 / 255.0)\n",
    "   # l = int(100.0 * float(random_state.randint(60, 120)) / 255.0)\n",
    "    #return \"hsl({}, {}%, {}%)\".format(h, s, l)\n",
    "\n",
    "#wordcloud = WordCloud(\n",
    " #                         background_color='white',\n",
    "  #                        stopwords=stopwords,\n",
    "   #                       max_words=200,\n",
    "    #                      max_font_size=60, \n",
    "     #                     random_state=42\n",
    "      #                   ).generate(str(df.loc[df[\"category\"]==\"True\"].text))\n",
    "#print(wordcloud)\n",
    "#fig = plt.figure(1)\n",
    "#plt.imshow(wordcloud.recolor(color_func= random_color_func, random_state=3),\n",
    " #          interpolation=\"bilinear\")\n",
    "#plt.axis('off')\n",
    "#plt.show()"
   ]
  },
  {
   "cell_type": "code",
   "execution_count": 28,
   "id": "a2400a74",
   "metadata": {},
   "outputs": [],
   "source": [
    "train_ds = tf.data.Dataset.from_tensor_slices((df_train.text.values, df_train.label.values))\n",
    "val_ds = tf.data.Dataset.from_tensor_slices((df_val.text.values, df_val.label.values))\n",
    "test_ds = tf.data.Dataset.from_tensor_slices((df_test.text.values, df_test.label.values))\n"
   ]
  },
  {
   "cell_type": "code",
   "execution_count": 29,
   "id": "033fb252",
   "metadata": {},
   "outputs": [
    {
     "data": {
      "text/plain": [
       "<TensorSliceDataset element_spec=(TensorSpec(shape=(), dtype=tf.string, name=None), TensorSpec(shape=(), dtype=tf.int64, name=None))>"
      ]
     },
     "execution_count": 29,
     "metadata": {},
     "output_type": "execute_result"
    }
   ],
   "source": [
    "train_ds"
   ]
  },
  {
   "cell_type": "code",
   "execution_count": 30,
   "id": "0f703db3",
   "metadata": {},
   "outputs": [
    {
     "data": {
      "text/plain": [
       "<BatchDataset element_spec=(TensorSpec(shape=(None,), dtype=tf.string, name=None), TensorSpec(shape=(None,), dtype=tf.int64, name=None))>"
      ]
     },
     "execution_count": 30,
     "metadata": {},
     "output_type": "execute_result"
    }
   ],
   "source": [
    "train_ds = train_ds.shuffle(len(df_train)).batch(32, drop_remainder=False)\n",
    "train_ds"
   ]
  },
  {
   "cell_type": "code",
   "execution_count": 31,
   "id": "c5f52705",
   "metadata": {},
   "outputs": [
    {
     "data": {
      "text/plain": [
       "<BatchDataset element_spec=(TensorSpec(shape=(None,), dtype=tf.string, name=None), TensorSpec(shape=(None,), dtype=tf.int64, name=None))>"
      ]
     },
     "execution_count": 31,
     "metadata": {},
     "output_type": "execute_result"
    }
   ],
   "source": [
    "val_ds = val_ds.shuffle(len(df_val)).batch(32, drop_remainder=False)\n",
    "val_ds"
   ]
  },
  {
   "cell_type": "code",
   "execution_count": 32,
   "id": "409ecc68",
   "metadata": {},
   "outputs": [
    {
     "data": {
      "text/plain": [
       "<BatchDataset element_spec=(TensorSpec(shape=(None,), dtype=tf.string, name=None), TensorSpec(shape=(None,), dtype=tf.int64, name=None))>"
      ]
     },
     "execution_count": 32,
     "metadata": {},
     "output_type": "execute_result"
    }
   ],
   "source": [
    "test_ds = test_ds.shuffle(len(df_test)).batch(32, drop_remainder=False)\n",
    "test_ds"
   ]
  },
  {
   "cell_type": "code",
   "execution_count": 33,
   "id": "060f5af0",
   "metadata": {},
   "outputs": [
    {
     "name": "stdout",
     "output_type": "stream",
     "text": [
      "BERT model selected           : https://tfhub.dev/tensorflow/bert_multi_cased_L-12_H-768_A-12/4\n",
      "Preprocess model auto-selected: https://tfhub.dev/tensorflow/bert_multi_cased_preprocess/3\n"
     ]
    }
   ],
   "source": [
    "\n",
    "#tfhub_handle_encoder = map_name_to_handle[bert_model_name]\n",
    "#tfhub_handle_preprocess = map_model_to_preprocess[bert_model_name]\n",
    "tfhub_handle_encoder = 'https://tfhub.dev/tensorflow/bert_multi_cased_L-12_H-768_A-12/4'\n",
    "tfhub_handle_preprocess = 'https://tfhub.dev/tensorflow/bert_multi_cased_preprocess/3'\n",
    "print(f'BERT model selected           : {tfhub_handle_encoder}')\n",
    "print(f'Preprocess model auto-selected: {tfhub_handle_preprocess}')"
   ]
  },
  {
   "cell_type": "code",
   "execution_count": 34,
   "id": "40564aa8",
   "metadata": {},
   "outputs": [],
   "source": [
    "bert_preprocess_model = hub.KerasLayer(tfhub_handle_preprocess)"
   ]
  },
  {
   "cell_type": "code",
   "execution_count": 35,
   "id": "284a292e",
   "metadata": {},
   "outputs": [
    {
     "name": "stdout",
     "output_type": "stream",
     "text": [
      "Tweet: b'\\xd8\\xa7\\xd9\\x88\\xd8\\xa6\\xdb\\x92 \\xdb\\x8c\\xd8\\xa7\\xd8\\xb1 \\xd8\\xaf\\xda\\xa9\\xdb\\x8c \\xd8\\xaa\\xd9\\x88 \\xda\\xa9\\xd8\\xb3 \\xda\\x86\\xd9\\x88\\xd8\\xaa\\xdb\\x8c\\xd8\\xa7\\xd9\\xbe\\xd8\\xa7 \\xd9\\x85\\xdb\\x8c\\xda\\xba \\xd9\\xbe\\xda\\x91 \\xda\\xaf\\xdb\\x8c\\xd8\\xa7 \\xdb\\x81\\xdb\\x92 \\xd8\\xa8\\xdb\\x81\\xd8\\xaa \\xd8\\xa8\\xd9\\x88\\xd8\\xb1\\xd9\\x86\\xda\\xaf \\xd9\\x88\\xdb\\x8c\\xda\\x88\\xdb\\x8c\\xd9\\x88 \\xdb\\x81\\xdb\\x92 \\xdb\\x8c\\xd8\\xa7\\xd8\\xb1'\n",
      "Label : 1\n",
      "Keys       : ['input_word_ids', 'input_type_ids', 'input_mask']\n",
      "Shape      : (1, 128)\n",
      "Word Ids   : [  101 12084 26649 12218 10673   771 18716 23458   823 11091   818 24436]\n",
      "Input Mask : [1 1 1 1 1 1 1 1 1 1 1 1]\n",
      "Type Ids   : [0 0 0 0 0 0 0 0 0 0 0 0]\n"
     ]
    }
   ],
   "source": [
    "for text_batch, label_batch in train_ds.take(1):\n",
    "  for i in range(1):\n",
    "    tweet = text_batch.numpy()[i]\n",
    "    print(f'Tweet: {text_batch.numpy()[i]}')\n",
    "    label = label_batch.numpy()[i]\n",
    "    print(f'Label : {label}')\n",
    "\n",
    "text_test = ['اب وہ اپنی گانڈ کا زور لگائے گا  اس ویڈیو کو بند کروانےمیں']\n",
    "text_test = [tweet]\n",
    "\n",
    "\n",
    "text_preprocessed = bert_preprocess_model(text_test)\n",
    "\n",
    "print(f'Keys       : {list(text_preprocessed.keys())}')\n",
    "print(f'Shape      : {text_preprocessed[\"input_word_ids\"].shape}')\n",
    "print(f'Word Ids   : {text_preprocessed[\"input_word_ids\"][0, :12]}')\n",
    "print(f'Input Mask : {text_preprocessed[\"input_mask\"][0, :12]}')\n",
    "print(f'Type Ids   : {text_preprocessed[\"input_type_ids\"][0, :12]}')"
   ]
  },
  {
   "cell_type": "code",
   "execution_count": 36,
   "id": "3eb3ac82",
   "metadata": {},
   "outputs": [],
   "source": [
    "bert_model = hub.KerasLayer(tfhub_handle_encoder)"
   ]
  },
  {
   "cell_type": "code",
   "execution_count": 37,
   "id": "16eb591d",
   "metadata": {},
   "outputs": [
    {
     "name": "stdout",
     "output_type": "stream",
     "text": [
      "Loaded BERT: https://tfhub.dev/tensorflow/bert_multi_cased_L-12_H-768_A-12/4\n",
      "Pooled Outputs Shape:(1, 768)\n",
      "Pooled Outputs Values:[ 0.18554294 -0.0644961   0.168191   -0.2588207  -0.03221239  0.21284114\n",
      "  0.09976011  0.15485395 -0.24059719  0.1328809  -0.08814707 -0.14447646]\n",
      "Sequence Outputs Shape:(1, 128, 768)\n",
      "Sequence Outputs Values:[[-0.05573388 -0.0907823   0.07886712 ...  0.1725252  -0.02567395\n",
      "  -0.13263784]\n",
      " [-0.04008029 -0.81712055  0.42798418 ...  0.1107686  -0.07441887\n",
      "  -0.38909128]\n",
      " [-0.14541805 -0.6827471   0.2963515  ...  0.08444104 -0.16881184\n",
      "  -0.17741022]\n",
      " ...\n",
      " [ 0.08999019 -0.28953302  0.73280406 ...  0.5510432  -0.10342277\n",
      "   0.01702813]\n",
      " [-0.46653405  0.1316621   1.1010526  ...  0.3205923   0.31096265\n",
      "  -0.33527482]\n",
      " [ 0.01128221 -0.2084643   1.1204119  ...  0.35405862  0.18761446\n",
      "   0.37336782]]\n"
     ]
    }
   ],
   "source": [
    "bert_results = bert_model(text_preprocessed)\n",
    "\n",
    "print(f'Loaded BERT: {tfhub_handle_encoder}')\n",
    "print(f'Pooled Outputs Shape:{bert_results[\"pooled_output\"].shape}')\n",
    "print(f'Pooled Outputs Values:{bert_results[\"pooled_output\"][0, :12]}')\n",
    "print(f'Sequence Outputs Shape:{bert_results[\"sequence_output\"].shape}')\n",
    "print(f'Sequence Outputs Values:{bert_results[\"sequence_output\"][0, :12]}')"
   ]
  },
  {
   "cell_type": "code",
   "execution_count": 38,
   "id": "16b7fdd9",
   "metadata": {},
   "outputs": [
    {
     "name": "stdout",
     "output_type": "stream",
     "text": [
      "Weight for class 0: 0.68\n",
      "Weight for class 1: 0.65\n"
     ]
    }
   ],
   "source": [
    "weight_for_0 = (1 / false)*(total)/3.0 \n",
    "weight_for_1 = (1 / true)*(total)/3.0\n",
    "#weight_for_2 = (1 / neither)*(total)/3.0\n",
    "\n",
    "\n",
    "class_weight = {0: weight_for_0, 1: weight_for_1}\n",
    "\n",
    "print('Weight for class 0: {:.2f}'.format(weight_for_0))\n",
    "print('Weight for class 1: {:.2f}'.format(weight_for_1))\n",
    "#print('Weight for class 2: {:.2f}'.format(weight_for_2))"
   ]
  },
  {
   "cell_type": "code",
   "execution_count": 39,
   "id": "207ee4a4",
   "metadata": {},
   "outputs": [
    {
     "data": {
      "text/plain": [
       "array([ 3.938462, 15.      ,  5.      ])"
      ]
     },
     "execution_count": 39,
     "metadata": {},
     "output_type": "execute_result"
    }
   ],
   "source": [
    "initial_output_bias = np.array([3.938462, 15, 5.])\n",
    "initial_output_bias "
   ]
  },
  {
   "cell_type": "markdown",
   "id": "83315b73",
   "metadata": {},
   "source": [
    "# Bert + MLP"
   ]
  },
  {
   "cell_type": "code",
   "execution_count": 85,
   "id": "d2936115",
   "metadata": {},
   "outputs": [],
   "source": [
    "def build_classifier_model(output_bias=None):\n",
    "    if output_bias is not None:\n",
    "        output_bias = tf.keras.initializers.Constant(output_bias)\n",
    "        #print(output_bias)\n",
    "        \n",
    "    text_input = tf.keras.layers.Input(shape=(), dtype=tf.string, name='text')\n",
    "    preprocessing_layer = hub.KerasLayer(tfhub_handle_preprocess, name='preprocessing')\n",
    "    encoder_inputs = preprocessing_layer(text_input)\n",
    "    encoder = hub.KerasLayer(tfhub_handle_encoder, trainable=True, name='BERT_encoder')\n",
    "    outputs = encoder(encoder_inputs)\n",
    "    net = outputs['pooled_output']\n",
    "    net = tf.keras.layers.Dense(512, activation=\"relu\")(net)\n",
    "    net = tf.keras.layers.Dropout(0.2)(net)\n",
    "#   net = tf.keras.layers.Dense(1, activation=None, name='classifier')(net)\n",
    "    net = tf.keras.layers.Dense(3, activation=\"softmax\", name='classifier', bias_initializer=output_bias)(net)\n",
    "    \n",
    "    return tf.keras.Model(text_input, net)"
   ]
  },
  {
   "cell_type": "code",
   "execution_count": 86,
   "id": "c6984447",
   "metadata": {},
   "outputs": [
    {
     "name": "stdout",
     "output_type": "stream",
     "text": [
      "tf.Tensor([[0.5000057  0.7310448  0.50001174]], shape=(1, 3), dtype=float32)\n"
     ]
    }
   ],
   "source": [
    "classifier_model = build_classifier_model(output_bias=initial_output_bias)\n",
    "bert_raw_result = classifier_model(tf.constant(text_test))\n",
    "print(tf.sigmoid(bert_raw_result))"
   ]
  },
  {
   "cell_type": "code",
   "execution_count": 87,
   "id": "0acf2954",
   "metadata": {},
   "outputs": [
    {
     "data": {
      "text/plain": [
       "array([ 3.938462, 15.      ,  5.      ], dtype=float32)"
      ]
     },
     "execution_count": 87,
     "metadata": {},
     "output_type": "execute_result"
    }
   ],
   "source": [
    "classifier_model.get_weights()[-1]"
   ]
  },
  {
   "cell_type": "code",
   "execution_count": 88,
   "id": "c20ec5ad",
   "metadata": {},
   "outputs": [
    {
     "name": "stdout",
     "output_type": "stream",
     "text": [
      "Model: \"model_1\"\n",
      "__________________________________________________________________________________________________\n",
      " Layer (type)                   Output Shape         Param #     Connected to                     \n",
      "==================================================================================================\n",
      " text (InputLayer)              [(None,)]            0           []                               \n",
      "                                                                                                  \n",
      " preprocessing (KerasLayer)     {'input_word_ids':   0           ['text[0][0]']                   \n",
      "                                (None, 128),                                                      \n",
      "                                 'input_type_ids':                                                \n",
      "                                (None, 128),                                                      \n",
      "                                 'input_mask': (Non                                               \n",
      "                                e, 128)}                                                          \n",
      "                                                                                                  \n",
      " BERT_encoder (KerasLayer)      {'pooled_output': (  177853441   ['preprocessing[0][0]',          \n",
      "                                None, 768),                       'preprocessing[0][1]',          \n",
      "                                 'encoder_outputs':               'preprocessing[0][2]']          \n",
      "                                 [(None, 128, 768),                                               \n",
      "                                 (None, 128, 768),                                                \n",
      "                                 (None, 128, 768),                                                \n",
      "                                 (None, 128, 768),                                                \n",
      "                                 (None, 128, 768),                                                \n",
      "                                 (None, 128, 768),                                                \n",
      "                                 (None, 128, 768),                                                \n",
      "                                 (None, 128, 768),                                                \n",
      "                                 (None, 128, 768),                                                \n",
      "                                 (None, 128, 768),                                                \n",
      "                                 (None, 128, 768),                                                \n",
      "                                 (None, 128, 768)],                                               \n",
      "                                 'default': (None,                                                \n",
      "                                768),                                                             \n",
      "                                 'sequence_output':                                               \n",
      "                                 (None, 128, 768)}                                                \n",
      "                                                                                                  \n",
      " dense_1 (Dense)                (None, 512)          393728      ['BERT_encoder[0][13]']          \n",
      "                                                                                                  \n",
      " dropout_1 (Dropout)            (None, 512)          0           ['dense_1[0][0]']                \n",
      "                                                                                                  \n",
      " classifier (Dense)             (None, 3)            1539        ['dropout_1[0][0]']              \n",
      "                                                                                                  \n",
      "==================================================================================================\n",
      "Total params: 178,248,708\n",
      "Trainable params: 178,248,707\n",
      "Non-trainable params: 1\n",
      "__________________________________________________________________________________________________\n"
     ]
    }
   ],
   "source": [
    "classifier_model.summary()"
   ]
  },
  {
   "cell_type": "code",
   "execution_count": 89,
   "id": "96acdcef",
   "metadata": {},
   "outputs": [
    {
     "name": "stdout",
     "output_type": "stream",
     "text": [
      "You must install pydot (`pip install pydot`) and install graphviz (see instructions at https://graphviz.gitlab.io/download/) for plot_model to work.\n"
     ]
    }
   ],
   "source": [
    "tf.keras.utils.plot_model(classifier_model)"
   ]
  },
  {
   "cell_type": "code",
   "execution_count": 90,
   "id": "5b501592",
   "metadata": {},
   "outputs": [],
   "source": [
    "loss = tf.keras.losses.SparseCategoricalCrossentropy(from_logits=True)\n",
    "metrics = tf.keras.metrics.SparseCategoricalAccuracy('accuracy')"
   ]
  },
  {
   "cell_type": "code",
   "execution_count": 91,
   "id": "e44f046c",
   "metadata": {},
   "outputs": [],
   "source": [
    "epochs = 20\n",
    "steps_per_epoch = tf.data.experimental.cardinality(train_ds).numpy()\n",
    "num_train_steps = steps_per_epoch * epochs\n",
    "num_warmup_steps = int(0.1*num_train_steps)\n",
    "\n",
    "init_lr = 3e-5\n",
    "optimizer = optimization.create_optimizer(init_lr=init_lr,\n",
    "                                          num_train_steps=num_train_steps,\n",
    "                                          num_warmup_steps=num_warmup_steps,\n",
    "                                          optimizer_type='adamw')"
   ]
  },
  {
   "cell_type": "code",
   "execution_count": 92,
   "id": "dc826ff5",
   "metadata": {},
   "outputs": [],
   "source": [
    "classifier_model.compile(optimizer=optimizer,\n",
    "                         loss=loss,\n",
    "                         metrics=metrics)"
   ]
  },
  {
   "cell_type": "code",
   "execution_count": 94,
   "id": "617c0aba",
   "metadata": {
    "scrolled": false
   },
   "outputs": [
    {
     "name": "stdout",
     "output_type": "stream",
     "text": [
      "Training model with https://tfhub.dev/tensorflow/bert_multi_cased_L-12_H-768_A-12/4\n",
      "Epoch 1/20\n",
      "44/44 [==============================] - 1677s 38s/step - loss: 0.0809 - accuracy: 0.9712 - val_loss: 0.1453 - val_accuracy: 0.9454\n",
      "Epoch 2/20\n",
      "44/44 [==============================] - 1705s 39s/step - loss: 0.0460 - accuracy: 0.9827 - val_loss: 0.2845 - val_accuracy: 0.9282\n",
      "Epoch 3/20\n",
      "44/44 [==============================] - 1667s 38s/step - loss: 0.0335 - accuracy: 0.9878 - val_loss: 0.1938 - val_accuracy: 0.9684\n",
      "Epoch 4/20\n",
      "44/44 [==============================] - 1710s 39s/step - loss: 0.0153 - accuracy: 0.9957 - val_loss: 0.1708 - val_accuracy: 0.9598\n",
      "Epoch 5/20\n",
      "44/44 [==============================] - 1583s 36s/step - loss: 0.0135 - accuracy: 0.9957 - val_loss: 0.1740 - val_accuracy: 0.9655\n",
      "Epoch 6/20\n",
      "44/44 [==============================] - 1569s 36s/step - loss: 0.0074 - accuracy: 0.9986 - val_loss: 0.2162 - val_accuracy: 0.9684\n",
      "Epoch 7/20\n",
      "44/44 [==============================] - 1568s 36s/step - loss: 0.0064 - accuracy: 0.9986 - val_loss: 0.3129 - val_accuracy: 0.9626\n",
      "Epoch 8/20\n",
      "44/44 [==============================] - 1575s 36s/step - loss: 0.0084 - accuracy: 0.9971 - val_loss: 0.2484 - val_accuracy: 0.9540\n",
      "Epoch 9/20\n",
      "44/44 [==============================] - 1559s 35s/step - loss: 0.0031 - accuracy: 0.9993 - val_loss: 0.2466 - val_accuracy: 0.9655\n",
      "Epoch 10/20\n",
      "44/44 [==============================] - 1561s 36s/step - loss: 0.0012 - accuracy: 0.9993 - val_loss: 0.2955 - val_accuracy: 0.9626\n",
      "Epoch 11/20\n",
      "44/44 [==============================] - 1545s 35s/step - loss: 2.9127e-04 - accuracy: 1.0000 - val_loss: 0.3286 - val_accuracy: 0.9598\n",
      "Epoch 12/20\n",
      "44/44 [==============================] - 1538s 35s/step - loss: 1.7577e-04 - accuracy: 1.0000 - val_loss: 0.3192 - val_accuracy: 0.9569\n",
      "Epoch 13/20\n",
      "44/44 [==============================] - 1556s 35s/step - loss: 0.0012 - accuracy: 0.9993 - val_loss: 0.3126 - val_accuracy: 0.9598\n",
      "Epoch 14/20\n",
      "44/44 [==============================] - 1561s 36s/step - loss: 0.0016 - accuracy: 0.9993 - val_loss: 0.2896 - val_accuracy: 0.9655\n",
      "Epoch 15/20\n",
      "44/44 [==============================] - 1560s 36s/step - loss: 3.8918e-04 - accuracy: 1.0000 - val_loss: 0.2672 - val_accuracy: 0.9655\n",
      "Epoch 16/20\n",
      "44/44 [==============================] - 1550s 35s/step - loss: 1.5841e-04 - accuracy: 1.0000 - val_loss: 0.3429 - val_accuracy: 0.9626\n",
      "Epoch 17/20\n",
      "44/44 [==============================] - 1553s 35s/step - loss: 1.2690e-04 - accuracy: 1.0000 - val_loss: 0.2568 - val_accuracy: 0.9655\n",
      "Epoch 18/20\n",
      "44/44 [==============================] - 1557s 35s/step - loss: 6.2266e-04 - accuracy: 0.9993 - val_loss: 0.3011 - val_accuracy: 0.9655\n",
      "Epoch 19/20\n",
      "44/44 [==============================] - 1576s 36s/step - loss: 1.1526e-04 - accuracy: 1.0000 - val_loss: 0.3540 - val_accuracy: 0.9569\n",
      "Epoch 20/20\n",
      "44/44 [==============================] - 1540s 35s/step - loss: 1.8705e-04 - accuracy: 1.0000 - val_loss: 0.3115 - val_accuracy: 0.9540\n"
     ]
    }
   ],
   "source": [
    "print(f'Training model with {tfhub_handle_encoder}')\n",
    "history = classifier_model.fit(x=train_ds,\n",
    "                               validation_data=val_ds,\n",
    "                               epochs=epochs,\n",
    "                               # The class weights go here\n",
    "                               class_weight=class_weight\n",
    ")"
   ]
  },
  {
   "cell_type": "code",
   "execution_count": 95,
   "id": "e92ae410",
   "metadata": {},
   "outputs": [
    {
     "name": "stdout",
     "output_type": "stream",
     "text": [
      "14/14 [==============================] - 163s 12s/step - loss: 0.2497 - accuracy: 0.9701\n",
      "Loss: 0.2497180700302124\n",
      "Accuracy: 0.9701149463653564\n"
     ]
    }
   ],
   "source": [
    "loss, accuracy = classifier_model.evaluate(test_ds)\n",
    "\n",
    "print(f'Loss: {loss}')\n",
    "print(f'Accuracy: {accuracy}')"
   ]
  },
  {
   "cell_type": "code",
   "execution_count": 96,
   "id": "ea8dd22b",
   "metadata": {},
   "outputs": [
    {
     "name": "stdout",
     "output_type": "stream",
     "text": [
      "dict_keys(['loss', 'accuracy', 'val_loss', 'val_accuracy'])\n"
     ]
    },
    {
     "data": {
      "text/plain": [
       "<matplotlib.legend.Legend at 0x1fda53ca7c0>"
      ]
     },
     "execution_count": 96,
     "metadata": {},
     "output_type": "execute_result"
    },
    {
     "data": {
      "image/png": "[encoded data removed]",
      "text/plain": [
       "<Figure size 1200x1000 with 2 Axes>"
      ]
     },
     "metadata": {},
     "output_type": "display_data"
    }
   ],
   "source": [
    "history_dict = history.history\n",
    "print(history_dict.keys())\n",
    "\n",
    "acc = history_dict['accuracy']\n",
    "val_acc = history_dict['val_accuracy']\n",
    "# acc = history_dict['binary_accuracy']\n",
    "# val_acc = history_dict['val_binary_accuracy']\n",
    "loss = history_dict['loss']\n",
    "val_loss = history_dict['val_loss']\n",
    "\n",
    "epochs = range(1, len(acc) + 1)\n",
    "fig = plt.figure(figsize=(12, 10))\n",
    "fig.tight_layout()\n",
    "\n",
    "plt.subplot(2, 1, 1)\n",
    "# \"bo\" is for \"blue dot\"\n",
    "plt.plot(epochs, loss, 'r', label='Training loss')\n",
    "# b is for \"solid blue line\"\n",
    "plt.plot(epochs, val_loss, 'b', label='Validation loss')\n",
    "plt.title('Training and validation loss')\n",
    "# plt.xlabel('Epochs')\n",
    "plt.ylabel('Loss')\n",
    "plt.legend()\n",
    "\n",
    "plt.subplot(2, 1, 2)\n",
    "plt.plot(epochs, acc, 'r', label='Training acc')\n",
    "plt.plot(epochs, val_acc, 'b', label='Validation acc')\n",
    "plt.title('Training and validation accuracy')\n",
    "plt.xlabel('Epochs')\n",
    "plt.ylabel('Accuracy')\n",
    "plt.legend(loc='lower right')"
   ]
  },
  {
   "cell_type": "code",
   "execution_count": 97,
   "id": "cbfa2ea0",
   "metadata": {},
   "outputs": [
    {
     "name": "stderr",
     "output_type": "stream",
     "text": [
      "WARNING:absl:Found untraced functions such as restored_function_body, restored_function_body, restored_function_body, restored_function_body, restored_function_body while saving (showing 5 of 366). These functions will not be directly callable after loading.\n"
     ]
    }
   ],
   "source": [
    "dataset_name = 'BERT-with-MLP-20---epochs-new-hard'\n",
    "saved_model_path = './{}_bert'.format(dataset_name.replace('/', '_'))\n",
    "\n",
    "classifier_model.save(saved_model_path, include_optimizer=False)"
   ]
  },
  {
   "cell_type": "code",
   "execution_count": 98,
   "id": "83bdb455",
   "metadata": {},
   "outputs": [
    {
     "name": "stdout",
     "output_type": "stream",
     "text": [
      "14/14 [==============================] - 171s 12s/step\n",
      "(435, 3)\n"
     ]
    }
   ],
   "source": [
    "result =  classifier_model.predict(test_ds)\n",
    "print(result.shape)"
   ]
  },
  {
   "cell_type": "code",
   "execution_count": 99,
   "id": "6ba10424",
   "metadata": {},
   "outputs": [
    {
     "data": {
      "text/plain": [
       "array([[0.00744113, 0.99236274, 0.00019618],\n",
       "       [0.9998259 , 0.00016967, 0.00000443]], dtype=float32)"
      ]
     },
     "execution_count": 99,
     "metadata": {},
     "output_type": "execute_result"
    }
   ],
   "source": [
    "result[0:2]"
   ]
  },
  {
   "cell_type": "code",
   "execution_count": 100,
   "id": "3760a5e3",
   "metadata": {},
   "outputs": [],
   "source": [
    "classes = np.argmax(result, axis=-1)"
   ]
  },
  {
   "cell_type": "code",
   "execution_count": 101,
   "id": "665298cf",
   "metadata": {},
   "outputs": [
    {
     "name": "stdout",
     "output_type": "stream",
     "text": [
      "1/1 [==============================] - 13s 13s/step\n",
      "1/1 [==============================] - 12s 12s/step\n",
      "1/1 [==============================] - 12s 12s/step\n",
      "1/1 [==============================] - 13s 13s/step\n",
      "1/1 [==============================] - 13s 13s/step\n",
      "1/1 [==============================] - 13s 13s/step\n",
      "1/1 [==============================] - 12s 12s/step\n",
      "1/1 [==============================] - 12s 12s/step\n",
      "1/1 [==============================] - 11s 11s/step\n",
      "1/1 [==============================] - 11s 11s/step\n",
      "1/1 [==============================] - 12s 12s/step\n",
      "1/1 [==============================] - 14s 14s/step\n",
      "1/1 [==============================] - 13s 13s/step\n",
      "1/1 [==============================] - 9s 9s/step\n"
     ]
    }
   ],
   "source": [
    "tweet = []\n",
    "test_labels = []\n",
    "predictions = []\n",
    "for tweet, labels in test_ds.take(-1):\n",
    "  tweet = tweet.numpy()\n",
    "  test_labels.append(labels.numpy())\n",
    "  predictions.append(classifier_model.predict(tweet))"
   ]
  },
  {
   "cell_type": "code",
   "execution_count": 102,
   "id": "7b3bef51",
   "metadata": {},
   "outputs": [
    {
     "data": {
      "text/plain": [
       "[array([1, 1, 1, 1, 1, 1, 1, 1, 1, 0, 0, 1, 1, 1, 0, 1, 0, 0, 0, 1, 0, 0,\n",
       "        1, 0, 0, 1, 1, 0, 1, 0, 0, 0], dtype=int64),\n",
       " array([1, 0, 0, 0, 1, 1, 0, 0, 0, 0, 1, 1, 1, 1, 1, 0, 0, 1, 0, 0, 1, 0,\n",
       "        0, 1, 1, 0, 1, 0, 0, 1, 0, 0], dtype=int64)]"
      ]
     },
     "execution_count": 102,
     "metadata": {},
     "output_type": "execute_result"
    }
   ],
   "source": [
    "test_labels[0:2]"
   ]
  },
  {
   "cell_type": "code",
   "execution_count": 103,
   "id": "d118d962",
   "metadata": {},
   "outputs": [
    {
     "data": {
      "text/plain": [
       "[array([[0.00001152, 0.99996746, 0.00002102],\n",
       "        [0.00001126, 0.99996865, 0.00002012],\n",
       "        [0.00001607, 0.9999604 , 0.00002344],\n",
       "        [0.0077691 , 0.992058  , 0.00017288],\n",
       "        [0.0000568 , 0.999908  , 0.00003529],\n",
       "        [0.0000117 , 0.9999652 , 0.00002316],\n",
       "        [0.00001511, 0.999962  , 0.0000229 ],\n",
       "        [0.0000154 , 0.99995995, 0.00002462],\n",
       "        [0.00001183, 0.9999652 , 0.000023  ],\n",
       "        [0.99979645, 0.00019834, 0.00000519],\n",
       "        [0.9996166 , 0.00037675, 0.00000651],\n",
       "        [0.00001074, 0.9999647 , 0.00002453],\n",
       "        [0.00001305, 0.9999621 , 0.00002494],\n",
       "        [0.0000138 , 0.9999658 , 0.00002034],\n",
       "        [0.99984276, 0.00015295, 0.00000431],\n",
       "        [0.00000743, 0.99997675, 0.00001583],\n",
       "        [0.9998204 , 0.00017511, 0.00000451],\n",
       "        [0.9998098 , 0.00018619, 0.00000411],\n",
       "        [0.99979097, 0.00020335, 0.00000572],\n",
       "        [0.00001095, 0.9999691 , 0.00001993],\n",
       "        [0.99976367, 0.00023074, 0.00000558],\n",
       "        [0.9998288 , 0.00016648, 0.00000469],\n",
       "        [0.00001037, 0.99996686, 0.00002274],\n",
       "        [0.9998276 , 0.00016794, 0.00000439],\n",
       "        [0.9998393 , 0.00015603, 0.0000046 ],\n",
       "        [0.00001143, 0.9999665 , 0.00002203],\n",
       "        [0.00001397, 0.99996483, 0.00002127],\n",
       "        [0.9998085 , 0.00018691, 0.00000462],\n",
       "        [0.00001058, 0.9999703 , 0.00001913],\n",
       "        [0.99982846, 0.00016754, 0.00000395],\n",
       "        [0.99983   , 0.00016581, 0.00000421],\n",
       "        [0.9997863 , 0.0002087 , 0.00000506]], dtype=float32),\n",
       " array([[0.00000969, 0.99996996, 0.00002037],\n",
       "        [0.9998235 , 0.00017199, 0.00000455],\n",
       "        [0.00008677, 0.99987066, 0.00004261],\n",
       "        [0.99978954, 0.00020563, 0.00000486],\n",
       "        [0.00001146, 0.99996555, 0.00002305],\n",
       "        [0.00001379, 0.999959  , 0.00002717],\n",
       "        [0.9998196 , 0.00017553, 0.00000494],\n",
       "        [0.999816  , 0.00017945, 0.00000447],\n",
       "        [0.9998267 , 0.00016836, 0.00000485],\n",
       "        [0.99978024, 0.00021493, 0.00000492],\n",
       "        [0.0000135 , 0.9999647 , 0.00002183],\n",
       "        [0.00000945, 0.99997175, 0.0000188 ],\n",
       "        [0.00001262, 0.99996614, 0.00002116],\n",
       "        [0.00001037, 0.9999732 , 0.00001643],\n",
       "        [0.00001384, 0.99996483, 0.00002139],\n",
       "        [0.9998073 , 0.00018784, 0.00000492],\n",
       "        [0.99981576, 0.00017964, 0.00000465],\n",
       "        [0.00001334, 0.99996483, 0.00002177],\n",
       "        [0.99983644, 0.00015919, 0.00000426],\n",
       "        [0.99982435, 0.00017124, 0.00000435],\n",
       "        [0.00001189, 0.9999652 , 0.00002293],\n",
       "        [0.999816  , 0.00017986, 0.00000418],\n",
       "        [0.9998441 , 0.00015175, 0.00000419],\n",
       "        [0.00000931, 0.9999739 , 0.00001677],\n",
       "        [0.00001467, 0.9999629 , 0.00002242],\n",
       "        [0.9998288 , 0.00016641, 0.00000482],\n",
       "        [0.00001807, 0.9999567 , 0.00002519],\n",
       "        [0.00140507, 0.9984742 , 0.00012065],\n",
       "        [0.9998204 , 0.00017472, 0.00000485],\n",
       "        [0.00001286, 0.9999646 , 0.0000225 ],\n",
       "        [0.999828  , 0.00016778, 0.00000422],\n",
       "        [0.9998054 , 0.00018954, 0.00000513]], dtype=float32)]"
      ]
     },
     "execution_count": 103,
     "metadata": {},
     "output_type": "execute_result"
    }
   ],
   "source": [
    "predictions[0:2]"
   ]
  },
  {
   "cell_type": "code",
   "execution_count": 104,
   "id": "1a667fc2",
   "metadata": {},
   "outputs": [],
   "source": [
    "from itertools import chain\n",
    "flatten_list = list(chain.from_iterable(predictions))\n",
    "y_pred = np.argmax(flatten_list, axis=-1)"
   ]
  },
  {
   "cell_type": "code",
   "execution_count": 105,
   "id": "3f88a9b1",
   "metadata": {},
   "outputs": [],
   "source": [
    "y_test = np.array(list(chain.from_iterable(test_labels)))"
   ]
  },
  {
   "cell_type": "markdown",
   "id": "e161ea1f",
   "metadata": {},
   "source": [
    "# Matrix "
   ]
  },
  {
   "cell_type": "code",
   "execution_count": 106,
   "id": "4a3795dd",
   "metadata": {},
   "outputs": [
    {
     "data": {
      "text/plain": [
       "array([[205,   8],\n",
       "       [  6, 216]], dtype=int64)"
      ]
     },
     "execution_count": 106,
     "metadata": {},
     "output_type": "execute_result"
    }
   ],
   "source": [
    "from sklearn.metrics import confusion_matrix\n",
    "confusion_matrix(y_test, y_pred)"
   ]
  },
  {
   "cell_type": "code",
   "execution_count": 107,
   "id": "05215e69",
   "metadata": {},
   "outputs": [],
   "source": [
    "from sklearn.metrics import f1_score, accuracy_score, precision_score, recall_score, classification_report\n",
    "#from sklearn.metrics import accuracy_score"
   ]
  },
  {
   "cell_type": "code",
   "execution_count": 108,
   "id": "13ab7198",
   "metadata": {},
   "outputs": [
    {
     "name": "stdout",
     "output_type": "stream",
     "text": [
      "Precision: 0.9643\n"
     ]
    }
   ],
   "source": [
    "print('Precision: %.4f' % precision_score(y_test, y_pred))"
   ]
  },
  {
   "cell_type": "code",
   "execution_count": 109,
   "id": "ab856b9c",
   "metadata": {},
   "outputs": [
    {
     "name": "stdout",
     "output_type": "stream",
     "text": [
      "Recall: 0.9730\n"
     ]
    }
   ],
   "source": [
    "print('Recall: %.4f' % recall_score(y_test, y_pred))"
   ]
  },
  {
   "cell_type": "code",
   "execution_count": null,
   "id": "91880cdf",
   "metadata": {},
   "outputs": [],
   "source": []
  },
  {
   "cell_type": "code",
   "execution_count": 110,
   "id": "17398d5d",
   "metadata": {},
   "outputs": [
    {
     "name": "stdout",
     "output_type": "stream",
     "text": [
      "Accuracy: 0.9678\n"
     ]
    }
   ],
   "source": [
    "print('Accuracy: %.4f' % accuracy_score(y_test, y_pred))"
   ]
  },
  {
   "cell_type": "code",
   "execution_count": 111,
   "id": "5e8e05e6",
   "metadata": {},
   "outputs": [
    {
     "name": "stdout",
     "output_type": "stream",
     "text": [
      "F1 Score: 0.9686\n"
     ]
    }
   ],
   "source": [
    "print('F1 Score: %.4f' % f1_score(y_test, y_pred))"
   ]
  },
  {
   "cell_type": "code",
   "execution_count": 67,
   "id": "0da6f883",
   "metadata": {},
   "outputs": [
    {
     "name": "stdout",
     "output_type": "stream",
     "text": [
      "Precision: 0.9678\n"
     ]
    }
   ],
   "source": [
    "print('Precision: %.4f' % precision_score(y_test, y_pred, average = \"macro\"))"
   ]
  },
  {
   "cell_type": "code",
   "execution_count": 68,
   "id": "9079e3fd",
   "metadata": {},
   "outputs": [
    {
     "name": "stdout",
     "output_type": "stream",
     "text": [
      "Recall: 0.9679\n"
     ]
    }
   ],
   "source": [
    "print('Recall: %.4f' % recall_score(y_test, y_pred, average = \"macro\"))"
   ]
  },
  {
   "cell_type": "code",
   "execution_count": 69,
   "id": "fef971aa",
   "metadata": {},
   "outputs": [
    {
     "name": "stdout",
     "output_type": "stream",
     "text": [
      "F1 Score: 0.9678\n"
     ]
    }
   ],
   "source": [
    "print('F1 Score: %.4f' % f1_score(y_test, y_pred, average = \"macro\"))"
   ]
  },
  {
   "cell_type": "code",
   "execution_count": 70,
   "id": "2393cb8c",
   "metadata": {},
   "outputs": [
    {
     "name": "stdout",
     "output_type": "stream",
     "text": [
      "              precision    recall  f1-score   support\n",
      "\n",
      "           0       0.96      0.97      0.97       213\n",
      "           1       0.97      0.96      0.97       222\n",
      "\n",
      "    accuracy                           0.97       435\n",
      "   macro avg       0.97      0.97      0.97       435\n",
      "weighted avg       0.97      0.97      0.97       435\n",
      "\n"
     ]
    }
   ],
   "source": [
    "print(classification_report(y_test, y_pred))"
   ]
  },
  {
   "cell_type": "code",
   "execution_count": null,
   "id": "ab455a02",
   "metadata": {},
   "outputs": [],
   "source": []
  },
  {
   "cell_type": "code",
   "execution_count": 104,
   "id": "85f6095f",
   "metadata": {},
   "outputs": [],
   "source": [
    "#import pickle\n"
   ]
  },
  {
   "cell_type": "code",
   "execution_count": 106,
   "id": "fc5216ec",
   "metadata": {},
   "outputs": [],
   "source": [
    "#with open('y_test','wb') as f:\n",
    " #   pickle.dump(y_test,f)"
   ]
  },
  {
   "cell_type": "code",
   "execution_count": 107,
   "id": "9ea2e8c5",
   "metadata": {},
   "outputs": [],
   "source": [
    "#with open('y_test', 'r') as f:\n",
    " #   mp = pickle.load(f)"
   ]
  },
  {
   "cell_type": "code",
   "execution_count": 108,
   "id": "0f10eaae",
   "metadata": {},
   "outputs": [],
   "source": [
    "#mp.predict()"
   ]
  },
  {
   "cell_type": "markdown",
   "id": "3d2badc9",
   "metadata": {},
   "source": [
    "# BERT + CNN"
   ]
  },
  {
   "cell_type": "code",
   "execution_count": 129,
   "id": "85767260",
   "metadata": {},
   "outputs": [],
   "source": [
    "def build_CNN_classifier_model():\n",
    "    text_input = tf.keras.layers.Input(shape=(), dtype=tf.string, name='text')\n",
    "    preprocessing_layer = hub.KerasLayer(tfhub_handle_preprocess, name='preprocessing')\n",
    "    encoder_inputs = preprocessing_layer(text_input)\n",
    "    encoder = hub.KerasLayer(tfhub_handle_encoder, trainable=True, name='BERT_encoder')\n",
    "    outputs = encoder(encoder_inputs)\n",
    "    #net = outputs['pooled_output'] # [batch_size, 768].\n",
    "    net = sequence_output = outputs[\"sequence_output\"] # [batch_size, seq_length, 768]\n",
    "      \n",
    "    \n",
    "    net = tf.keras.layers.Conv1D(32, (2), activation='relu')(net)\n",
    "    #net = tf.keras.layers.MaxPooling1D(2)(net)\n",
    "    \n",
    "    net = tf.keras.layers.Conv1D(64, (2), activation='relu')(net)\n",
    "    #net = tf.keras.layers.MaxPooling1D(2)(net)\n",
    "    net = tf.keras.layers.GlobalMaxPool1D()(net)\n",
    "    \n",
    "#    net = tf.keras.layers.Flatten()(net)\n",
    "    \n",
    "    net = tf.keras.layers.Dense(512, activation=\"relu\")(net)\n",
    "    \n",
    "    net = tf.keras.layers.Dropout(0.1)(net)\n",
    "#   net = tf.keras.layers.Dense(1, activation=None, name='classifier')(net)\n",
    "    net = tf.keras.layers.Dense(3, activation=\"softmax\", name='classifier')(net)\n",
    "    \n",
    "    return tf.keras.Model(text_input, net)"
   ]
  },
  {
   "cell_type": "code",
   "execution_count": 130,
   "id": "6e2242f7",
   "metadata": {},
   "outputs": [
    {
     "name": "stdout",
     "output_type": "stream",
     "text": [
      "tf.Tensor([[0.58225894 0.57280314 0.592582  ]], shape=(1, 3), dtype=float32)\n"
     ]
    }
   ],
   "source": [
    "cnn_classifier_model = build_CNN_classifier_model()\n",
    "bert_raw_result = cnn_classifier_model(tf.constant(text_test))\n",
    "print(tf.sigmoid(bert_raw_result))"
   ]
  },
  {
   "cell_type": "code",
   "execution_count": 131,
   "id": "45963d7d",
   "metadata": {},
   "outputs": [
    {
     "data": {
      "text/plain": [
       "[b'\\xd8\\xa2\\xd8\\xae\\xd8\\xb1 \\xd9\\xbe\\xd8\\xb1 \\xda\\xa9\\xd9\\x88\\xd9\\x86 \\xd8\\xb3\\xd8\\xa7 \\xda\\xaf\\xd8\\xa7\\xd9\\x86\\xd8\\xa7 \\xd8\\xa7\\xd8\\xb3\\xd8\\xaa\\xd8\\xb9\\xd9\\x85\\xd8\\xa7\\xd9\\x84 \\xdb\\x81\\xd9\\x88\\xd8\\xa7 \\xdb\\x81\\xdb\\x92']"
      ]
     },
     "execution_count": 131,
     "metadata": {},
     "output_type": "execute_result"
    }
   ],
   "source": [
    "text_test"
   ]
  },
  {
   "cell_type": "code",
   "execution_count": 132,
   "id": "bb034144",
   "metadata": {},
   "outputs": [
    {
     "name": "stdout",
     "output_type": "stream",
     "text": [
      "Model: \"model_2\"\n",
      "__________________________________________________________________________________________________\n",
      " Layer (type)                   Output Shape         Param #     Connected to                     \n",
      "==================================================================================================\n",
      " text (InputLayer)              [(None,)]            0           []                               \n",
      "                                                                                                  \n",
      " preprocessing (KerasLayer)     {'input_mask': (Non  0           ['text[0][0]']                   \n",
      "                                e, 128),                                                          \n",
      "                                 'input_type_ids':                                                \n",
      "                                (None, 128),                                                      \n",
      "                                 'input_word_ids':                                                \n",
      "                                (None, 128)}                                                      \n",
      "                                                                                                  \n",
      " BERT_encoder (KerasLayer)      {'sequence_output':  177853441   ['preprocessing[0][0]',          \n",
      "                                 (None, 128, 768),                'preprocessing[0][1]',          \n",
      "                                 'pooled_output': (               'preprocessing[0][2]']          \n",
      "                                None, 768),                                                       \n",
      "                                 'encoder_outputs':                                               \n",
      "                                 [(None, 128, 768),                                               \n",
      "                                 (None, 128, 768),                                                \n",
      "                                 (None, 128, 768),                                                \n",
      "                                 (None, 128, 768),                                                \n",
      "                                 (None, 128, 768),                                                \n",
      "                                 (None, 128, 768),                                                \n",
      "                                 (None, 128, 768),                                                \n",
      "                                 (None, 128, 768),                                                \n",
      "                                 (None, 128, 768),                                                \n",
      "                                 (None, 128, 768),                                                \n",
      "                                 (None, 128, 768),                                                \n",
      "                                 (None, 128, 768)],                                               \n",
      "                                 'default': (None,                                                \n",
      "                                768)}                                                             \n",
      "                                                                                                  \n",
      " conv1d (Conv1D)                (None, 127, 32)      49184       ['BERT_encoder[0][14]']          \n",
      "                                                                                                  \n",
      " conv1d_1 (Conv1D)              (None, 126, 64)      4160        ['conv1d[0][0]']                 \n",
      "                                                                                                  \n",
      " global_max_pooling1d (GlobalMa  (None, 64)          0           ['conv1d_1[0][0]']               \n",
      " xPooling1D)                                                                                      \n",
      "                                                                                                  \n",
      " dense_2 (Dense)                (None, 512)          33280       ['global_max_pooling1d[0][0]']   \n",
      "                                                                                                  \n",
      " dropout_2 (Dropout)            (None, 512)          0           ['dense_2[0][0]']                \n",
      "                                                                                                  \n",
      " classifier (Dense)             (None, 3)            1539        ['dropout_2[0][0]']              \n",
      "                                                                                                  \n",
      "==================================================================================================\n",
      "Total params: 177,941,604\n",
      "Trainable params: 177,941,603\n",
      "Non-trainable params: 1\n",
      "__________________________________________________________________________________________________\n"
     ]
    }
   ],
   "source": [
    "cnn_classifier_model.summary()"
   ]
  },
  {
   "cell_type": "code",
   "execution_count": 133,
   "id": "656c149a",
   "metadata": {},
   "outputs": [
    {
     "name": "stdout",
     "output_type": "stream",
     "text": [
      "You must install pydot (`pip install pydot`) and install graphviz (see instructions at https://graphviz.gitlab.io/download/) for plot_model to work.\n"
     ]
    }
   ],
   "source": [
    "tf.keras.utils.plot_model(cnn_classifier_model)"
   ]
  },
  {
   "cell_type": "code",
   "execution_count": 134,
   "id": "582c8738",
   "metadata": {},
   "outputs": [],
   "source": [
    "loss = tf.keras.losses.SparseCategoricalCrossentropy(from_logits=True)"
   ]
  },
  {
   "cell_type": "code",
   "execution_count": 135,
   "id": "83a55742",
   "metadata": {},
   "outputs": [],
   "source": [
    "epochs = 40\n",
    "steps_per_epoch = tf.data.experimental.cardinality(train_ds).numpy()\n",
    "num_train_steps = steps_per_epoch * epochs\n",
    "num_warmup_steps = int(0.1*num_train_steps)\n",
    "\n",
    "init_lr = 3e-5\n",
    "optimizer = optimization.create_optimizer(init_lr=init_lr,\n",
    "                                          num_train_steps=num_train_steps,\n",
    "                                          num_warmup_steps=num_warmup_steps,\n",
    "                                          optimizer_type='adamw')\n",
    "\n",
    "cnn_classifier_model.compile(optimizer=optimizer,\n",
    "                          loss=tf.keras.losses.SparseCategoricalCrossentropy(from_logits=True),\n",
    "                          metrics=tf.keras.metrics.SparseCategoricalAccuracy('accuracy'))"
   ]
  },
  {
   "cell_type": "code",
   "execution_count": 136,
   "id": "a50ce565",
   "metadata": {
    "scrolled": true
   },
   "outputs": [
    {
     "name": "stdout",
     "output_type": "stream",
     "text": [
      "Training model with https://tfhub.dev/tensorflow/bert_multi_cased_L-12_H-768_A-12/4\n",
      "Epoch 1/40\n",
      "55/55 [==============================] - 2071s 36s/step - loss: 0.6495 - accuracy: 0.4582 - val_loss: 0.7312 - val_accuracy: 0.7347\n",
      "Epoch 2/40\n",
      "55/55 [==============================] - 2169s 40s/step - loss: 0.3049 - accuracy: 0.8230 - val_loss: 0.1742 - val_accuracy: 0.9541\n",
      "Epoch 3/40\n",
      "55/55 [==============================] - 2045s 37s/step - loss: 0.1085 - accuracy: 0.9528 - val_loss: 0.1445 - val_accuracy: 0.9541\n",
      "Epoch 4/40\n",
      "55/55 [==============================] - 1972s 36s/step - loss: 0.0769 - accuracy: 0.9681 - val_loss: 0.1624 - val_accuracy: 0.9490\n",
      "Epoch 5/40\n",
      "55/55 [==============================] - 2046s 37s/step - loss: 0.0588 - accuracy: 0.9789 - val_loss: 0.1259 - val_accuracy: 0.9745\n",
      "Epoch 6/40\n",
      "55/55 [==============================] - 2313s 42s/step - loss: 0.0464 - accuracy: 0.9852 - val_loss: 0.1539 - val_accuracy: 0.9694\n",
      "Epoch 7/40\n",
      "55/55 [==============================] - 2409s 44s/step - loss: 0.0316 - accuracy: 0.9880 - val_loss: 0.1593 - val_accuracy: 0.9643\n",
      "Epoch 8/40\n",
      "55/55 [==============================] - 2150s 39s/step - loss: 0.0286 - accuracy: 0.9909 - val_loss: 0.1291 - val_accuracy: 0.9796\n",
      "Epoch 9/40\n",
      "55/55 [==============================] - 1799s 33s/step - loss: 0.0169 - accuracy: 0.9954 - val_loss: 0.1892 - val_accuracy: 0.9643\n",
      "Epoch 10/40\n",
      "55/55 [==============================] - 1837s 33s/step - loss: 0.0149 - accuracy: 0.9943 - val_loss: 0.1742 - val_accuracy: 0.9694\n",
      "Epoch 11/40\n",
      "55/55 [==============================] - 1863s 34s/step - loss: 0.0170 - accuracy: 0.9954 - val_loss: 0.1524 - val_accuracy: 0.9745\n",
      "Epoch 12/40\n",
      "55/55 [==============================] - 1885s 34s/step - loss: 0.0060 - accuracy: 0.9983 - val_loss: 0.1221 - val_accuracy: 0.9796\n",
      "Epoch 13/40\n",
      "55/55 [==============================] - 1925s 35s/step - loss: 0.0082 - accuracy: 0.9972 - val_loss: 0.1704 - val_accuracy: 0.9745\n",
      "Epoch 14/40\n",
      "55/55 [==============================] - 1802s 33s/step - loss: 0.0070 - accuracy: 0.9983 - val_loss: 0.1550 - val_accuracy: 0.9796\n",
      "Epoch 15/40\n",
      "55/55 [==============================] - 1788s 33s/step - loss: 0.0035 - accuracy: 0.9989 - val_loss: 0.1806 - val_accuracy: 0.9745\n",
      "Epoch 16/40\n",
      "55/55 [==============================] - 1840s 34s/step - loss: 0.0069 - accuracy: 0.9977 - val_loss: 0.1621 - val_accuracy: 0.9796\n",
      "Epoch 17/40\n",
      "55/55 [==============================] - 1769s 32s/step - loss: 0.0054 - accuracy: 0.9977 - val_loss: 0.1879 - val_accuracy: 0.9745\n",
      "Epoch 18/40\n",
      "55/55 [==============================] - 1787s 33s/step - loss: 0.0021 - accuracy: 0.9994 - val_loss: 0.2127 - val_accuracy: 0.9745\n",
      "Epoch 19/40\n",
      "55/55 [==============================] - 1831s 33s/step - loss: 5.2564e-04 - accuracy: 1.0000 - val_loss: 0.2936 - val_accuracy: 0.9592\n",
      "Epoch 20/40\n",
      "55/55 [==============================] - 1871s 34s/step - loss: 3.1505e-04 - accuracy: 1.0000 - val_loss: 0.1840 - val_accuracy: 0.9796\n",
      "Epoch 21/40\n",
      "55/55 [==============================] - 1871s 34s/step - loss: 2.1319e-04 - accuracy: 1.0000 - val_loss: 0.2307 - val_accuracy: 0.9745\n",
      "Epoch 22/40\n",
      "55/55 [==============================] - 1875s 34s/step - loss: 1.7154e-04 - accuracy: 1.0000 - val_loss: 0.2033 - val_accuracy: 0.9745\n",
      "Epoch 23/40\n",
      "55/55 [==============================] - 1867s 34s/step - loss: 1.6591e-04 - accuracy: 1.0000 - val_loss: 0.1907 - val_accuracy: 0.9796\n",
      "Epoch 24/40\n",
      "55/55 [==============================] - 1869s 34s/step - loss: 5.0329e-04 - accuracy: 1.0000 - val_loss: 0.2086 - val_accuracy: 0.9694\n",
      "Epoch 25/40\n",
      "55/55 [==============================] - 1866s 34s/step - loss: 1.5774e-04 - accuracy: 1.0000 - val_loss: 0.2262 - val_accuracy: 0.9643\n",
      "Epoch 26/40\n",
      "55/55 [==============================] - 1864s 34s/step - loss: 1.2216e-04 - accuracy: 1.0000 - val_loss: 0.1964 - val_accuracy: 0.9796\n",
      "Epoch 27/40\n",
      "55/55 [==============================] - 1865s 34s/step - loss: 1.0168e-04 - accuracy: 1.0000 - val_loss: 0.2027 - val_accuracy: 0.9745\n",
      "Epoch 28/40\n",
      "55/55 [==============================] - 1811s 33s/step - loss: 0.0024 - accuracy: 0.9989 - val_loss: 0.1969 - val_accuracy: 0.9796\n",
      "Epoch 29/40\n",
      "55/55 [==============================] - 1781s 32s/step - loss: 9.4317e-05 - accuracy: 1.0000 - val_loss: 0.2554 - val_accuracy: 0.9694\n",
      "Epoch 30/40\n",
      "55/55 [==============================] - 1797s 33s/step - loss: 1.2712e-04 - accuracy: 1.0000 - val_loss: 0.2476 - val_accuracy: 0.9694\n",
      "Epoch 31/40\n",
      "55/55 [==============================] - 1906s 35s/step - loss: 3.7390e-04 - accuracy: 0.9994 - val_loss: 0.2640 - val_accuracy: 0.9694\n",
      "Epoch 32/40\n",
      "55/55 [==============================] - 1818s 33s/step - loss: 7.9566e-05 - accuracy: 1.0000 - val_loss: 0.2533 - val_accuracy: 0.9694\n",
      "Epoch 33/40\n",
      "55/55 [==============================] - 1774s 32s/step - loss: 0.0022 - accuracy: 0.9994 - val_loss: 0.3001 - val_accuracy: 0.9694\n",
      "Epoch 34/40\n",
      "55/55 [==============================] - 1766s 32s/step - loss: 8.7920e-05 - accuracy: 1.0000 - val_loss: 0.3390 - val_accuracy: 0.9643\n",
      "Epoch 35/40\n",
      "55/55 [==============================] - 1764s 32s/step - loss: 7.1815e-05 - accuracy: 1.0000 - val_loss: 0.2606 - val_accuracy: 0.9745\n",
      "Epoch 36/40\n",
      "55/55 [==============================] - 1795s 33s/step - loss: 7.4116e-05 - accuracy: 1.0000 - val_loss: 0.2351 - val_accuracy: 0.9694\n",
      "Epoch 37/40\n",
      "55/55 [==============================] - 1845s 34s/step - loss: 7.7093e-05 - accuracy: 1.0000 - val_loss: 0.2753 - val_accuracy: 0.9643\n",
      "Epoch 38/40\n",
      "55/55 [==============================] - 1786s 33s/step - loss: 6.9639e-05 - accuracy: 1.0000 - val_loss: 0.2525 - val_accuracy: 0.9694\n",
      "Epoch 39/40\n",
      "55/55 [==============================] - 1780s 32s/step - loss: 8.3444e-05 - accuracy: 1.0000 - val_loss: 0.2205 - val_accuracy: 0.9745\n",
      "Epoch 40/40\n",
      "55/55 [==============================] - 1781s 32s/step - loss: 6.9845e-05 - accuracy: 1.0000 - val_loss: 0.3037 - val_accuracy: 0.9592\n"
     ]
    }
   ],
   "source": [
    "print(f'Training model with {tfhub_handle_encoder}')\n",
    "cnn_history = cnn_classifier_model.fit(x=train_ds,\n",
    "                                       validation_data=val_ds,\n",
    "                                       epochs=epochs,\n",
    "                                       class_weight=class_weight\n",
    "                                      )"
   ]
  },
  {
   "cell_type": "code",
   "execution_count": 137,
   "id": "399a63ee",
   "metadata": {},
   "outputs": [
    {
     "name": "stdout",
     "output_type": "stream",
     "text": [
      "7/7 [==============================] - 79s 11s/step - loss: 0.4330 - accuracy: 0.9541\n",
      "Loss: 0.43299028277397156\n",
      "Accuracy: 0.9541284441947937\n"
     ]
    }
   ],
   "source": [
    "loss, accuracy = cnn_classifier_model.evaluate(test_ds)\n",
    "\n",
    "print(f'Loss: {loss}')\n",
    "print(f'Accuracy: {accuracy}')"
   ]
  },
  {
   "cell_type": "code",
   "execution_count": 138,
   "id": "a0efb293",
   "metadata": {},
   "outputs": [
    {
     "name": "stdout",
     "output_type": "stream",
     "text": [
      "dict_keys(['loss', 'accuracy', 'val_loss', 'val_accuracy'])\n"
     ]
    },
    {
     "data": {
      "text/plain": [
       "<matplotlib.legend.Legend at 0x1d80b117370>"
      ]
     },
     "execution_count": 138,
     "metadata": {},
     "output_type": "execute_result"
    },
    {
     "data": {
      "image/png": "[encoded data removed]",
      "text/plain": [
       "<Figure size 1200x1000 with 2 Axes>"
      ]
     },
     "metadata": {},
     "output_type": "display_data"
    }
   ],
   "source": [
    "history_dict = cnn_history.history\n",
    "print(history_dict.keys())\n",
    "\n",
    "acc = history_dict['accuracy']\n",
    "val_acc = history_dict['val_accuracy']\n",
    "# acc = history_dict['binary_accuracy']\n",
    "# val_acc = history_dict['val_binary_accuracy']\n",
    "loss = history_dict['loss']\n",
    "val_loss = history_dict['val_loss']\n",
    "\n",
    "epochs = range(1, len(acc) + 1)\n",
    "fig = plt.figure(figsize=(12, 10))\n",
    "fig.tight_layout()\n",
    "\n",
    "plt.subplot(2, 1, 1)\n",
    "# \"bo\" is for \"blue dot\"\n",
    "plt.plot(epochs, loss, 'r', label='Training loss')\n",
    "# b is for \"solid blue line\"\n",
    "plt.plot(epochs, val_loss, 'b', label='Validation loss')\n",
    "plt.title('Training and validation loss')\n",
    "# plt.xlabel('Epochs')\n",
    "plt.ylabel('Loss')\n",
    "plt.legend()\n",
    "\n",
    "plt.subplot(2, 1, 2)\n",
    "plt.plot(epochs, acc, 'r', label='Training acc')\n",
    "plt.plot(epochs, val_acc, 'b', label='Validation acc')\n",
    "plt.title('Training and validation accuracy')\n",
    "plt.xlabel('Epochs')\n",
    "plt.ylabel('Accuracy')\n",
    "plt.legend(loc='lower right')"
   ]
  },
  {
   "cell_type": "code",
   "execution_count": 139,
   "id": "fab7c7c5",
   "metadata": {},
   "outputs": [
    {
     "name": "stderr",
     "output_type": "stream",
     "text": [
      "WARNING:absl:Found untraced functions such as _jit_compiled_convolution_op, _jit_compiled_convolution_op, restored_function_body, restored_function_body, restored_function_body while saving (showing 5 of 368). These functions will not be directly callable after loading.\n"
     ]
    }
   ],
   "source": [
    "dataset_name = 'BERT-CNN'\n",
    "saved_model_path = './{}_bert'.format(dataset_name.replace('/', '_'))\n",
    "\n",
    "cnn_classifier_model.save(saved_model_path, include_optimizer=False)"
   ]
  },
  {
   "cell_type": "code",
   "execution_count": 140,
   "id": "6de5f97e",
   "metadata": {},
   "outputs": [],
   "source": [
    "reloaded_model = tf.saved_model.load(saved_model_path)"
   ]
  },
  {
   "cell_type": "code",
   "execution_count": 141,
   "id": "9b802742",
   "metadata": {},
   "outputs": [
    {
     "name": "stdout",
     "output_type": "stream",
     "text": [
      "7/7 [==============================] - 79s 11s/step\n",
      "(218, 3)\n"
     ]
    }
   ],
   "source": [
    "result =  cnn_classifier_model.predict(test_ds)\n",
    "print(result.shape)"
   ]
  },
  {
   "cell_type": "code",
   "execution_count": 142,
   "id": "19dd6284",
   "metadata": {},
   "outputs": [
    {
     "data": {
      "text/plain": [
       "array([[0.00001561, 0.9999738 , 0.00001066],\n",
       "       [0.00001408, 0.9999745 , 0.00001149]], dtype=float32)"
      ]
     },
     "execution_count": 142,
     "metadata": {},
     "output_type": "execute_result"
    }
   ],
   "source": [
    "result[0:2]"
   ]
  },
  {
   "cell_type": "code",
   "execution_count": 143,
   "id": "c9e11718",
   "metadata": {},
   "outputs": [],
   "source": [
    "classes = np.argmax(result, axis=-1)"
   ]
  },
  {
   "cell_type": "code",
   "execution_count": 144,
   "id": "5cd014a4",
   "metadata": {},
   "outputs": [
    {
     "name": "stdout",
     "output_type": "stream",
     "text": [
      "1/1 [==============================] - 13s 13s/step\n",
      "1/1 [==============================] - 11s 11s/step\n",
      "1/1 [==============================] - 11s 11s/step\n",
      "1/1 [==============================] - 12s 12s/step\n",
      "1/1 [==============================] - 11s 11s/step\n",
      "1/1 [==============================] - 12s 12s/step\n",
      "1/1 [==============================] - 11s 11s/step\n"
     ]
    }
   ],
   "source": [
    "tweet = []\n",
    "test_labels = []\n",
    "predictions = []\n",
    "for tweet, labels in test_ds.take(-1):\n",
    "  tweet = tweet.numpy()\n",
    "  test_labels.append(labels.numpy())\n",
    "  predictions.append(cnn_classifier_model.predict(tweet))"
   ]
  },
  {
   "cell_type": "code",
   "execution_count": 145,
   "id": "0d275a93",
   "metadata": {},
   "outputs": [
    {
     "data": {
      "text/plain": [
       "[array([1, 0, 0, 1, 1, 1, 0, 0, 0, 1, 0, 1, 0, 0, 1, 0, 0, 0, 1, 1, 1, 1,\n",
       "        0, 0, 0, 1, 1, 1, 0, 0, 0, 0], dtype=int64),\n",
       " array([0, 1, 1, 0, 1, 0, 0, 1, 0, 1, 1, 1, 1, 1, 1, 1, 0, 1, 1, 0, 1, 0,\n",
       "        0, 0, 0, 0, 0, 0, 1, 0, 1, 0], dtype=int64)]"
      ]
     },
     "execution_count": 145,
     "metadata": {},
     "output_type": "execute_result"
    }
   ],
   "source": [
    "test_labels[0:2]"
   ]
  },
  {
   "cell_type": "code",
   "execution_count": 146,
   "id": "08e54a6f",
   "metadata": {},
   "outputs": [
    {
     "data": {
      "text/plain": [
       "[array([[0.00001265, 0.9999778 , 0.00000955],\n",
       "        [0.9999418 , 0.00005085, 0.00000722],\n",
       "        [0.99994063, 0.00005149, 0.00000782],\n",
       "        [0.00001523, 0.9999739 , 0.00001089],\n",
       "        [0.00026182, 0.9997167 , 0.00002146],\n",
       "        [0.00001292, 0.9999769 , 0.00001026],\n",
       "        [0.9999373 , 0.00005531, 0.00000735],\n",
       "        [0.99994564, 0.00004777, 0.00000651],\n",
       "        [0.9999348 , 0.00005655, 0.00000865],\n",
       "        [0.00001839, 0.99997354, 0.00000805],\n",
       "        [0.9999379 , 0.00005477, 0.00000736],\n",
       "        [0.00002907, 0.9999614 , 0.00000953],\n",
       "        [0.99993455, 0.00005847, 0.00000698],\n",
       "        [0.9999329 , 0.0000594 , 0.00000771],\n",
       "        [0.00001757, 0.9999734 , 0.00000903],\n",
       "        [0.9999361 , 0.0000558 , 0.00000812],\n",
       "        [0.9999465 , 0.00004742, 0.00000604],\n",
       "        [0.99994266, 0.00005064, 0.0000067 ],\n",
       "        [0.00001549, 0.99997306, 0.00001146],\n",
       "        [0.00001574, 0.9999722 , 0.00001201],\n",
       "        [0.0000193 , 0.9999654 , 0.00001525],\n",
       "        [0.00002885, 0.99996364, 0.00000756],\n",
       "        [0.9999467 , 0.00004662, 0.00000668],\n",
       "        [0.99994755, 0.00004638, 0.00000607],\n",
       "        [0.9999386 , 0.00005343, 0.00000794],\n",
       "        [0.00001527, 0.9999752 , 0.00000955],\n",
       "        [0.00001442, 0.9999758 , 0.00000976],\n",
       "        [0.00001364, 0.9999757 , 0.00001076],\n",
       "        [0.99994206, 0.00004995, 0.00000796],\n",
       "        [0.999946  , 0.00004741, 0.00000654],\n",
       "        [0.99994755, 0.00004599, 0.00000639],\n",
       "        [0.00001433, 0.99997663, 0.00000911]], dtype=float32),\n",
       " array([[0.99994516, 0.00004857, 0.00000637],\n",
       "        [0.00001488, 0.9999769 , 0.00000824],\n",
       "        [0.00001283, 0.99997675, 0.00001034],\n",
       "        [0.99994504, 0.00004834, 0.00000657],\n",
       "        [0.00001317, 0.9999783 , 0.00000861],\n",
       "        [0.9999404 , 0.00005164, 0.00000801],\n",
       "        [0.9999137 , 0.00007607, 0.0000102 ],\n",
       "        [0.99991775, 0.00007455, 0.00000775],\n",
       "        [0.99994385, 0.000049  , 0.00000719],\n",
       "        [0.00003134, 0.9999591 , 0.00000959],\n",
       "        [0.00002377, 0.99995947, 0.00001675],\n",
       "        [0.00001325, 0.9999776 , 0.00000919],\n",
       "        [0.00001854, 0.9999708 , 0.00001067],\n",
       "        [0.99993575, 0.00005662, 0.00000758],\n",
       "        [0.00001559, 0.99997425, 0.00001015],\n",
       "        [0.00001323, 0.9999777 , 0.00000906],\n",
       "        [0.9999372 , 0.0000552 , 0.00000769],\n",
       "        [0.00002038, 0.99996614, 0.00001341],\n",
       "        [0.0000169 , 0.999969  , 0.0000141 ],\n",
       "        [0.99994075, 0.00005184, 0.00000744],\n",
       "        [0.00001621, 0.9999734 , 0.00001034],\n",
       "        [0.00003256, 0.9999579 , 0.00000954],\n",
       "        [0.99993956, 0.00005227, 0.00000808],\n",
       "        [0.9998827 , 0.00010447, 0.00001285],\n",
       "        [0.99994075, 0.00005194, 0.00000728],\n",
       "        [0.9999455 , 0.00004753, 0.00000691],\n",
       "        [0.99994004, 0.00005263, 0.00000733],\n",
       "        [0.9999379 , 0.00005388, 0.00000818],\n",
       "        [0.00001394, 0.9999782 , 0.00000792],\n",
       "        [0.99994695, 0.00004683, 0.00000618],\n",
       "        [0.00001488, 0.99997437, 0.00001076],\n",
       "        [0.9999397 , 0.00005266, 0.00000766]], dtype=float32)]"
      ]
     },
     "execution_count": 146,
     "metadata": {},
     "output_type": "execute_result"
    }
   ],
   "source": [
    "predictions[0:2]"
   ]
  },
  {
   "cell_type": "code",
   "execution_count": 147,
   "id": "2173076b",
   "metadata": {},
   "outputs": [],
   "source": [
    "flatten_list = list(chain.from_iterable(predictions))\n",
    "y_pred = np.argmax(flatten_list, axis=-1)"
   ]
  },
  {
   "cell_type": "code",
   "execution_count": 148,
   "id": "e074c55e",
   "metadata": {},
   "outputs": [
    {
     "data": {
      "text/plain": [
       "numpy.ndarray"
      ]
     },
     "execution_count": 148,
     "metadata": {},
     "output_type": "execute_result"
    }
   ],
   "source": [
    "type(y_pred)"
   ]
  },
  {
   "cell_type": "code",
   "execution_count": 149,
   "id": "7789f6f0",
   "metadata": {},
   "outputs": [],
   "source": [
    "y_test = np.array(list(chain.from_iterable(test_labels)))"
   ]
  },
  {
   "cell_type": "code",
   "execution_count": 150,
   "id": "7a068827",
   "metadata": {},
   "outputs": [
    {
     "data": {
      "text/plain": [
       "numpy.ndarray"
      ]
     },
     "execution_count": 150,
     "metadata": {},
     "output_type": "execute_result"
    }
   ],
   "source": [
    "type(y_test)"
   ]
  },
  {
   "cell_type": "code",
   "execution_count": 151,
   "id": "ab1e2dfa",
   "metadata": {},
   "outputs": [
    {
     "data": {
      "text/plain": [
       "array([[103,   4],\n",
       "       [  5, 106]], dtype=int64)"
      ]
     },
     "execution_count": 151,
     "metadata": {},
     "output_type": "execute_result"
    }
   ],
   "source": [
    "confusion_matrix(y_test, y_pred)"
   ]
  },
  {
   "cell_type": "code",
   "execution_count": 152,
   "id": "49645a4b",
   "metadata": {},
   "outputs": [
    {
     "ename": "TypeError",
     "evalue": "must be real number, not set",
     "output_type": "error",
     "traceback": [
      "\u001b[1;31m---------------------------------------------------------------------------\u001b[0m",
      "\u001b[1;31mTypeError\u001b[0m                                 Traceback (most recent call last)",
      "Cell \u001b[1;32mIn[152], line 1\u001b[0m\n\u001b[1;32m----> 1\u001b[0m \u001b[38;5;28mprint\u001b[39m(\u001b[38;5;124;43m'\u001b[39;49m\u001b[38;5;124;43mPrecision: \u001b[39;49m\u001b[38;5;132;43;01m%.3f\u001b[39;49;00m\u001b[38;5;124;43m'\u001b[39;49m\u001b[43m \u001b[49m\u001b[38;5;241;43m%\u001b[39;49m\u001b[43m \u001b[49m\u001b[43m{\u001b[49m\u001b[43mprecision_score\u001b[49m\u001b[43m(\u001b[49m\u001b[43my_test\u001b[49m\u001b[43m,\u001b[49m\u001b[43m \u001b[49m\u001b[43my_pred\u001b[49m\u001b[43m)\u001b[49m\u001b[38;5;241;43m*\u001b[39;49m\u001b[38;5;241;43m100\u001b[39;49m\u001b[43m}\u001b[49m)\n",
      "\u001b[1;31mTypeError\u001b[0m: must be real number, not set"
     ]
    }
   ],
   "source": [
    "print('Precision: %.3f' % precision_score(y_test, y_pred))"
   ]
  },
  {
   "cell_type": "code",
   "execution_count": null,
   "id": "445a721b",
   "metadata": {},
   "outputs": [],
   "source": [
    "print('Recall: %.3f' % recall_score(y_test, y_pred)*100)"
   ]
  },
  {
   "cell_type": "code",
   "execution_count": null,
   "id": "8fdfed80",
   "metadata": {},
   "outputs": [],
   "source": [
    "print('Accuracy: %.3f' % accuracy_score(y_test, y_pred)*100)"
   ]
  },
  {
   "cell_type": "code",
   "execution_count": null,
   "id": "9c64977b",
   "metadata": {},
   "outputs": [],
   "source": [
    "print('F1 Score: %.3f' % f1_score(y_test, y_pred))"
   ]
  },
  {
   "cell_type": "code",
   "execution_count": null,
   "id": "ab494e35",
   "metadata": {},
   "outputs": [],
   "source": []
  },
  {
   "cell_type": "code",
   "execution_count": null,
   "id": "80977ae9",
   "metadata": {},
   "outputs": [],
   "source": []
  }
 ],
 "metadata": {
  "kernelspec": {
   "display_name": "Python 3 (ipykernel)",
   "language": "python",
   "name": "python3"
  },
  "language_info": {
   "codemirror_mode": {
    "name": "ipython",
    "version": 3
   },
   "file_extension": ".py",
   "mimetype": "text/x-python",
   "name": "python",
   "nbconvert_exporter": "python",
   "pygments_lexer": "ipython3",
   "version": "3.9.16"
  }
 },
 "nbformat": 4,
 "nbformat_minor": 5
}
