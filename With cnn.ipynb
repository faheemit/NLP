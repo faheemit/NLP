{
 "cells": [
  {
   "cell_type": "code",
   "execution_count": 1,
   "id": "6879a714",
   "metadata": {},
   "outputs": [
    {
     "name": "stderr",
     "output_type": "stream",
     "text": [
      "C:\\Users\\Faheem\\anaconda3\\envs\\Tensor2\\lib\\site-packages\\tensorflow_addons\\utils\\tfa_eol_msg.py:23: UserWarning: \n",
      "\n",
      "TensorFlow Addons (TFA) has ended development and introduction of new features.\n",
      "TFA has entered a minimal maintenance and release mode until a planned end of life in May 2024.\n",
      "Please modify downstream libraries to take dependencies from other repositories in our TensorFlow community (e.g. Keras, Keras-CV, and Keras-NLP). \n",
      "\n",
      "For more information see: https://github.com/tensorflow/addons/issues/2807 \n",
      "\n",
      "  warnings.warn(\n",
      "C:\\Users\\Faheem\\anaconda3\\envs\\Tensor2\\lib\\site-packages\\tqdm\\auto.py:21: TqdmWarning: IProgress not found. Please update jupyter and ipywidgets. See https://ipywidgets.readthedocs.io/en/stable/user_install.html\n",
      "  from .autonotebook import tqdm as notebook_tqdm\n"
     ]
    }
   ],
   "source": [
    "import tensorflow as tf\n",
    "from tensorflow import keras \n",
    "from keras.models import load_model\n",
    "\n",
    "from tensorflow_models import nlp"
   ]
  },
  {
   "cell_type": "code",
   "execution_count": 2,
   "id": "2e3d04eb",
   "metadata": {},
   "outputs": [],
   "source": [
    "import os\n",
    "import matplotlib.pyplot as plt"
   ]
  },
  {
   "cell_type": "code",
   "execution_count": 3,
   "id": "d8ae3037",
   "metadata": {},
   "outputs": [],
   "source": [
    "import numpy as np\n",
    "import pandas as pd\n",
    "import matplotlib.pyplot as plt\n",
    "import seaborn as sns\n",
    "import os\n",
    "import re\n",
    "from tensorflow_models import nlp\n",
    "from official.nlp import optimization\n",
    "import warnings\n",
    "\n",
    "warnings.filterwarnings(\"ignore\")"
   ]
  },
  {
   "cell_type": "code",
   "execution_count": 4,
   "id": "46f50f53",
   "metadata": {},
   "outputs": [],
   "source": [
    "from sklearn.preprocessing import LabelEncoder\n",
    "from sklearn.model_selection import train_test_split"
   ]
  },
  {
   "cell_type": "code",
   "execution_count": 5,
   "id": "7bada5b3",
   "metadata": {},
   "outputs": [
    {
     "name": "stdout",
     "output_type": "stream",
     "text": [
      "2.10.0\n"
     ]
    }
   ],
   "source": [
    "import pandas as pd\n",
    "import numpy as np\n",
    "from sklearn.model_selection import GroupKFold\n",
    "import matplotlib.pyplot as plt\n",
    "from tqdm.notebook import tqdm\n",
    "import tensorflow as tf\n",
    "import tensorflow_hub as hub\n",
    "import tensorflow_text as text\n",
    "import tensorflow.keras.backend as K\n",
    "from scipy.stats import spearmanr\n",
    "from math import floor, ceil\n",
    "from transformers import *\n",
    "\n",
    "np.set_printoptions(suppress=True)\n",
    "print(tf.__version__)\n",
    "\n",
    "import shutil\n",
    "\n",
    "from official.nlp import optimization  # to create AdamW optmizer\n",
    "\n",
    "tf.get_logger().setLevel('ERROR')"
   ]
  },
  {
   "cell_type": "code",
   "execution_count": 6,
   "id": "f2e72b65",
   "metadata": {},
   "outputs": [],
   "source": [
    "from tensorflow.python.keras.utils import tf_utils"
   ]
  },
  {
   "cell_type": "code",
   "execution_count": 7,
   "id": "aa290313",
   "metadata": {},
   "outputs": [],
   "source": [
    "import urduhack\n",
    "#urduhack.download()\n",
    "from urduhack.normalization import normalize\n",
    "from urduhack.preprocessing import normalize_whitespace, remove_punctuation, remove_accents, replace_urls, replace_emails, replace_numbers, replace_currency_symbols, remove_english_alphabets"
   ]
  },
  {
   "cell_type": "code",
   "execution_count": 8,
   "id": "cba0716f",
   "metadata": {},
   "outputs": [],
   "source": [
    "df = pd.read_csv('ISE-Level1.csv')"
   ]
  },
  {
   "cell_type": "code",
   "execution_count": 9,
   "id": "a77dec2f",
   "metadata": {},
   "outputs": [
    {
     "data": {
      "text/html": [
       "<div>\n",
       "<style scoped>\n",
       "    .dataframe tbody tr th:only-of-type {\n",
       "        vertical-align: middle;\n",
       "    }\n",
       "\n",
       "    .dataframe tbody tr th {\n",
       "        vertical-align: top;\n",
       "    }\n",
       "\n",
       "    .dataframe thead th {\n",
       "        text-align: right;\n",
       "    }\n",
       "</style>\n",
       "<table border=\"1\" class=\"dataframe\">\n",
       "  <thead>\n",
       "    <tr style=\"text-align: right;\">\n",
       "      <th></th>\n",
       "      <th>Tweet_ID</th>\n",
       "      <th>Tweet_Text</th>\n",
       "      <th>Hammad</th>\n",
       "      <th>Khurram</th>\n",
       "      <th>Final_decision</th>\n",
       "    </tr>\n",
       "  </thead>\n",
       "  <tbody>\n",
       "    <tr>\n",
       "      <th>0</th>\n",
       "      <td>12343</td>\n",
       "      <td>جو زیادہ بولتے ہیں وہ کام نہیں کرتے اور جو کام...</td>\n",
       "      <td>0</td>\n",
       "      <td>0</td>\n",
       "      <td>0</td>\n",
       "    </tr>\n",
       "    <tr>\n",
       "      <th>1</th>\n",
       "      <td>6373</td>\n",
       "      <td>کا ٹرینڈ چلانے والے asymptomatic carrier کا مط...</td>\n",
       "      <td>0</td>\n",
       "      <td>0</td>\n",
       "      <td>0</td>\n",
       "    </tr>\n",
       "    <tr>\n",
       "      <th>2</th>\n",
       "      <td>12555</td>\n",
       "      <td>جنکی گواہی خود رب کا قرآن دے جنہیں نبی کریم صل...</td>\n",
       "      <td>0</td>\n",
       "      <td>0</td>\n",
       "      <td>0</td>\n",
       "    </tr>\n",
       "    <tr>\n",
       "      <th>3</th>\n",
       "      <td>19804</td>\n",
       "      <td>KE کےبل عمران خان دے سندھ کوٹرانسپورٹ صاف پانی...</td>\n",
       "      <td>0</td>\n",
       "      <td>0</td>\n",
       "      <td>0</td>\n",
       "    </tr>\n",
       "    <tr>\n",
       "      <th>4</th>\n",
       "      <td>19713</td>\n",
       "      <td>اب اس ناسور کاخاتمہ ناگریز ہو چکا ہے</td>\n",
       "      <td>0</td>\n",
       "      <td>0</td>\n",
       "      <td>0</td>\n",
       "    </tr>\n",
       "    <tr>\n",
       "      <th>...</th>\n",
       "      <td>...</td>\n",
       "      <td>...</td>\n",
       "      <td>...</td>\n",
       "      <td>...</td>\n",
       "      <td>...</td>\n",
       "    </tr>\n",
       "    <tr>\n",
       "      <th>21754</th>\n",
       "      <td>2886</td>\n",
       "      <td>میرے مطابق! ضامن میراثی معافی کی ویڈیومیں کہتا...</td>\n",
       "      <td>1</td>\n",
       "      <td>1</td>\n",
       "      <td>1</td>\n",
       "    </tr>\n",
       "    <tr>\n",
       "      <th>21755</th>\n",
       "      <td>2183</td>\n",
       "      <td>نیز جو شخص اس کے کفر و ارتداد میں شک کرے یا اس...</td>\n",
       "      <td>1</td>\n",
       "      <td>0</td>\n",
       "      <td>1</td>\n",
       "    </tr>\n",
       "    <tr>\n",
       "      <th>21756</th>\n",
       "      <td>18150</td>\n",
       "      <td>الحمداللہ اقلیتی کونسل کی سربراہی بتوں کی پرست...</td>\n",
       "      <td>1</td>\n",
       "      <td>0</td>\n",
       "      <td>1</td>\n",
       "    </tr>\n",
       "    <tr>\n",
       "      <th>21757</th>\n",
       "      <td>8480</td>\n",
       "      <td>شیعہ کے بعض اصول اور نظریات کو اسلامی معاشروں ...</td>\n",
       "      <td>1</td>\n",
       "      <td>0</td>\n",
       "      <td>1</td>\n",
       "    </tr>\n",
       "    <tr>\n",
       "      <th>21758</th>\n",
       "      <td>8275</td>\n",
       "      <td>صرف تبرا ہی نہیں شیعہ کی تمام رسومات شرارت ہی ...</td>\n",
       "      <td>1</td>\n",
       "      <td>0</td>\n",
       "      <td>1</td>\n",
       "    </tr>\n",
       "  </tbody>\n",
       "</table>\n",
       "<p>21759 rows × 5 columns</p>\n",
       "</div>"
      ],
      "text/plain": [
       "       Tweet_ID                                         Tweet_Text  Hammad  \\\n",
       "0         12343  جو زیادہ بولتے ہیں وہ کام نہیں کرتے اور جو کام...       0   \n",
       "1          6373  کا ٹرینڈ چلانے والے asymptomatic carrier کا مط...       0   \n",
       "2         12555  جنکی گواہی خود رب کا قرآن دے جنہیں نبی کریم صل...       0   \n",
       "3         19804  KE کےبل عمران خان دے سندھ کوٹرانسپورٹ صاف پانی...       0   \n",
       "4         19713               اب اس ناسور کاخاتمہ ناگریز ہو چکا ہے       0   \n",
       "...         ...                                                ...     ...   \n",
       "21754      2886  میرے مطابق! ضامن میراثی معافی کی ویڈیومیں کہتا...       1   \n",
       "21755      2183  نیز جو شخص اس کے کفر و ارتداد میں شک کرے یا اس...       1   \n",
       "21756     18150  الحمداللہ اقلیتی کونسل کی سربراہی بتوں کی پرست...       1   \n",
       "21757      8480  شیعہ کے بعض اصول اور نظریات کو اسلامی معاشروں ...       1   \n",
       "21758      8275  صرف تبرا ہی نہیں شیعہ کی تمام رسومات شرارت ہی ...       1   \n",
       "\n",
       "       Khurram  Final_decision  \n",
       "0            0               0  \n",
       "1            0               0  \n",
       "2            0               0  \n",
       "3            0               0  \n",
       "4            0               0  \n",
       "...        ...             ...  \n",
       "21754        1               1  \n",
       "21755        0               1  \n",
       "21756        0               1  \n",
       "21757        0               1  \n",
       "21758        0               1  \n",
       "\n",
       "[21759 rows x 5 columns]"
      ]
     },
     "execution_count": 9,
     "metadata": {},
     "output_type": "execute_result"
    }
   ],
   "source": [
    "df"
   ]
  },
  {
   "cell_type": "code",
   "execution_count": 10,
   "id": "e4303c0f",
   "metadata": {},
   "outputs": [
    {
     "data": {
      "text/plain": [
       "[<matplotlib.lines.Line2D at 0x203afd11280>]"
      ]
     },
     "execution_count": 10,
     "metadata": {},
     "output_type": "execute_result"
    },
    {
     "data": {
      "image/png": "[encoded data removed]",
      "text/plain": [
       "<Figure size 640x480 with 1 Axes>"
      ]
     },
     "metadata": {},
     "output_type": "display_data"
    }
   ],
   "source": [
    "plt.plot(df['Final_decision'].value_counts())"
   ]
  },
  {
   "cell_type": "code",
   "execution_count": 11,
   "id": "5c177abe",
   "metadata": {},
   "outputs": [
    {
     "data": {
      "image/png": "[encoded data removed]",
      "text/plain": [
       "<Figure size 640x480 with 1 Axes>"
      ]
     },
     "metadata": {},
     "output_type": "display_data"
    }
   ],
   "source": [
    "sns.countplot( x = 'Final_decision', data = df );"
   ]
  },
  {
   "cell_type": "code",
   "execution_count": 12,
   "id": "2f2b4364",
   "metadata": {},
   "outputs": [],
   "source": [
    "df['Tweet_Text'] = df['Tweet_Text'].apply(normalize) # To normalize some text, all you need to do pass unicode text. It will return a str with normalized characters both single and combined, proper spaces after digits and punctuations and diacritics(Zabar - Paish) removed.\n",
    "df['Tweet_Text'] = df['Tweet_Text'].apply(remove_punctuation) # Remove punctuation from text by removing all instances of marks. marks=',;:'\n",
    "df['Tweet_Text'] = df['Tweet_Text'].apply(remove_accents) # Remove accents from any accented unicode characters in text str, either by transforming them into ascii equivalents or removing them entirely.\n",
    "df['Tweet_Text'] = df['Tweet_Text'].apply(replace_urls) # Replace all URLs in text str with replace_with str.\n",
    "df['Tweet_Text'] = df['Tweet_Text'].apply(replace_emails) # Replace all emails in text str with replace_with str.df['comment_text'] = df['comment_text'].apply(replace_numbers) # Replace all numbers in text str with replace_with str.\n",
    "df['Tweet_Text'] = df['Tweet_Text'].apply(replace_currency_symbols) # Replace all currency symbols in text str with string specified by replace_with str.\n",
    "df['Tweet_Text'] = df['Tweet_Text'].apply(remove_english_alphabets) # Removes English words and digits from a text\n",
    "df['Tweet_Text'] = df['Tweet_Text'].apply(normalize_whitespace) ## Given text str, replace one or more spacings with a single space, and one or more linebreaks with a single newline. Also strip leading/trailing whitespace."
   ]
  },
  {
   "cell_type": "code",
   "execution_count": 13,
   "id": "74f6519e",
   "metadata": {},
   "outputs": [],
   "source": [
    "from typing import FrozenSet\n",
    "\n",
    "# Urdu Language Stop words list\n",
    "STOP_WORDS: FrozenSet[str] = frozenset(\"\"\"\n",
    " آ آئی آئیں آئے آتا آتی آتے آس آمدید آنا آنسہ آنی آنے آپ آگے آہ آہا آیا اب ابھی ابے\n",
    " ارے اس اسکا اسکی اسکے اسی اسے اف افوہ البتہ الف ان اندر انکا انکی انکے انہوں انہی انہیں اوئے اور اوپر\n",
    " اوہو اپ اپنا اپنوں اپنی اپنے اپنےآپ اکثر اگر اگرچہ اہاہا ایسا ایسی ایسے ایک بائیں بار بارے بالکل باوجود باہر\n",
    " بج بجے بخیر بشرطیکہ بعد بعض بغیر بلکہ بن بنا بناؤ بند بڑی بھر بھریں بھی بہت بہتر تاکہ تاہم تب تجھ\n",
    " تجھی تجھے ترا تری تلک تم تمام تمہارا تمہاروں تمہاری تمہارے تمہیں تو تک تھا تھی تھیں تھے تیرا تیری تیرے\n",
    " جا جاؤ جائیں جائے جاتا جاتی جاتے جانی جانے جب جبکہ جدھر جس جسے جن جناب جنہوں جنہیں جو جہاں جی جیسا\n",
    " جیسوں جیسی جیسے حالانکہ حالاں حصہ حضرت خاطر خالی خواہ خوب خود دائیں درمیان دریں دو دوران دوسرا دوسروں دوسری دوں\n",
    " دکھائیں دی دیئے دیا دیتا دیتی دیتے دیر دینا دینی دینے دیکھو دیں دیے دے ذریعے رکھا رکھتا رکھتی رکھتے رکھنا رکھنی\n",
    " رکھنے رکھو رکھی رکھے رہ رہا رہتا رہتی رہتے رہنا رہنی رہنے رہو رہی رہیں رہے ساتھ سامنے ساڑھے سب سبھی\n",
    " سراسر سمیت سوا سوائے سکا سکتا سکتے سہ سہی سی سے شاید شکریہ صاحب صاحبہ صرف ضرور طرح طرف طور علاوہ عین\n",
    " فقط فلاں فی قبل قطا لئے لائی لائے لاتا لاتی لاتے لانا لانی لانے لایا لو لوجی لوگوں لگ لگا لگتا\n",
    " لگتی لگی لگیں لگے لہذا لی لیا لیتا لیتی لیتے لیکن لیں لیے لے ماسوا مت مجھ مجھی مجھے محترم محترمہ محض\n",
    " مرا مرحبا مری مرے مزید مس مسز مسٹر مطابق مل مکرمی مگر مگھر مہربانی میرا میروں میری میرے میں نا نزدیک\n",
    " نما نہ نہیں نیز نیچے نے و وار واسطے واقعی والا والوں والی والے واہ وجہ ورنہ وغیرہ ولے وگرنہ وہ وہاں\n",
    " وہی وہیں ویسا ویسے ویں پاس پایا پر پس پلیز پون پونی پونے پھر پہ پہلا پہلی پہلے پیر پیچھے چاہئے\n",
    " چاہتے چاہیئے چاہے چلا چلو چلیں چلے چناچہ چند چونکہ چکی چکیں چکے ڈالنا ڈالنی ڈالنے ڈالے کئے کا کاش کب کبھی\n",
    " کدھر کر کرتا کرتی کرتے کرم کرنا کرنے کرو کریں کرے کس کسی کسے کم کن کنہیں کو کوئی کون کونسا\n",
    " کونسے کچھ کہ کہا کہاں کہہ کہی کہیں کہے کی کیا کیسا کیسے کیونکر کیونکہ کیوں کیے کے گئی گئے گا گنا\n",
    " گو گویا گی گیا ہائیں ہائے ہاں ہر ہرچند ہرگز ہم ہمارا ہماری ہمارے ہمی ہمیں ہو ہوئی ہوئیں ہوئے ہوا\n",
    " ہوبہو ہوتا ہوتی ہوتیں ہوتے ہونا ہونگے ہونی ہونے ہوں ہی ہیلو ہیں ہے یا یات یعنی یک یہ یہاں یہی یہیں\n",
    "\"\"\".split())\n",
    "\n",
    "\n",
    "def remove_stopwords(text: str):\n",
    "    return \" \".join(word for word in text.split() if word not in STOP_WORDS)"
   ]
  },
  {
   "cell_type": "code",
   "execution_count": 14,
   "id": "94a8b544",
   "metadata": {},
   "outputs": [
    {
     "data": {
      "text/html": [
       "<div>\n",
       "<style scoped>\n",
       "    .dataframe tbody tr th:only-of-type {\n",
       "        vertical-align: middle;\n",
       "    }\n",
       "\n",
       "    .dataframe tbody tr th {\n",
       "        vertical-align: top;\n",
       "    }\n",
       "\n",
       "    .dataframe thead th {\n",
       "        text-align: right;\n",
       "    }\n",
       "</style>\n",
       "<table border=\"1\" class=\"dataframe\">\n",
       "  <thead>\n",
       "    <tr style=\"text-align: right;\">\n",
       "      <th></th>\n",
       "      <th>Tweet_Text</th>\n",
       "    </tr>\n",
       "  </thead>\n",
       "  <tbody>\n",
       "    <tr>\n",
       "      <th>0</th>\n",
       "      <td>جو زیادہ بولتے ہیں وہ کام نہیں کرتے اور جو کام...</td>\n",
       "    </tr>\n",
       "    <tr>\n",
       "      <th>1</th>\n",
       "      <td>کا ٹرینڈ چلانے والے کا مطلب اور کے فوائد سے وا...</td>\n",
       "    </tr>\n",
       "    <tr>\n",
       "      <th>2</th>\n",
       "      <td>جنکی گواہی خود رب کا قرآن دے جنہیں نبی کریم صل...</td>\n",
       "    </tr>\n",
       "    <tr>\n",
       "      <th>3</th>\n",
       "      <td>کےبل عمران خان دے سندھ کوٹرانسپورٹ صاف پانی بھ...</td>\n",
       "    </tr>\n",
       "    <tr>\n",
       "      <th>4</th>\n",
       "      <td>اب اس ناسور کاخاتمہ ناگریز ہو چکا ہے</td>\n",
       "    </tr>\n",
       "    <tr>\n",
       "      <th>5</th>\n",
       "      <td>یقین مانو اللہ تعالی ہم سے ناراض ہیں اتنا نارا...</td>\n",
       "    </tr>\n",
       "    <tr>\n",
       "      <th>6</th>\n",
       "      <td>واہ جمیل بھائی آپ نے اپنے فاروقی نام کی لاج رک...</td>\n",
       "    </tr>\n",
       "    <tr>\n",
       "      <th>7</th>\n",
       "      <td>ڈاکٹر صاحب کی ٹویٹ کے نیچے دیکھیں</td>\n",
       "    </tr>\n",
       "    <tr>\n",
       "      <th>8</th>\n",
       "      <td>پوری دنیا بیماری کا اعلاج تلاش کر رہی ھے پاکست...</td>\n",
       "    </tr>\n",
       "    <tr>\n",
       "      <th>9</th>\n",
       "      <td>دوستوں آج آپ نے ٹویٹ کے ساتھ ساتھ ریٹوٹ پر بھی...</td>\n",
       "    </tr>\n",
       "  </tbody>\n",
       "</table>\n",
       "</div>"
      ],
      "text/plain": [
       "                                          Tweet_Text\n",
       "0  جو زیادہ بولتے ہیں وہ کام نہیں کرتے اور جو کام...\n",
       "1  کا ٹرینڈ چلانے والے کا مطلب اور کے فوائد سے وا...\n",
       "2  جنکی گواہی خود رب کا قرآن دے جنہیں نبی کریم صل...\n",
       "3  کےبل عمران خان دے سندھ کوٹرانسپورٹ صاف پانی بھ...\n",
       "4               اب اس ناسور کاخاتمہ ناگریز ہو چکا ہے\n",
       "5  یقین مانو اللہ تعالی ہم سے ناراض ہیں اتنا نارا...\n",
       "6  واہ جمیل بھائی آپ نے اپنے فاروقی نام کی لاج رک...\n",
       "7                  ڈاکٹر صاحب کی ٹویٹ کے نیچے دیکھیں\n",
       "8  پوری دنیا بیماری کا اعلاج تلاش کر رہی ھے پاکست...\n",
       "9  دوستوں آج آپ نے ٹویٹ کے ساتھ ساتھ ریٹوٹ پر بھی..."
      ]
     },
     "execution_count": 14,
     "metadata": {},
     "output_type": "execute_result"
    }
   ],
   "source": [
    "df[['Tweet_Text']].head(10)"
   ]
  },
  {
   "cell_type": "code",
   "execution_count": 15,
   "id": "03433e3c",
   "metadata": {},
   "outputs": [
    {
     "data": {
      "text/html": [
       "<div>\n",
       "<style scoped>\n",
       "    .dataframe tbody tr th:only-of-type {\n",
       "        vertical-align: middle;\n",
       "    }\n",
       "\n",
       "    .dataframe tbody tr th {\n",
       "        vertical-align: top;\n",
       "    }\n",
       "\n",
       "    .dataframe thead th {\n",
       "        text-align: right;\n",
       "    }\n",
       "</style>\n",
       "<table border=\"1\" class=\"dataframe\">\n",
       "  <thead>\n",
       "    <tr style=\"text-align: right;\">\n",
       "      <th></th>\n",
       "      <th>Tweet_ID</th>\n",
       "      <th>Tweet_Text</th>\n",
       "      <th>Hammad</th>\n",
       "      <th>Khurram</th>\n",
       "      <th>Final_decision</th>\n",
       "    </tr>\n",
       "  </thead>\n",
       "  <tbody>\n",
       "    <tr>\n",
       "      <th>0</th>\n",
       "      <td>12343</td>\n",
       "      <td>جو زیادہ بولتے ہیں وہ کام نہیں کرتے اور جو کام...</td>\n",
       "      <td>0</td>\n",
       "      <td>0</td>\n",
       "      <td>0</td>\n",
       "    </tr>\n",
       "    <tr>\n",
       "      <th>1</th>\n",
       "      <td>6373</td>\n",
       "      <td>کا ٹرینڈ چلانے والے کا مطلب اور کے فوائد سے وا...</td>\n",
       "      <td>0</td>\n",
       "      <td>0</td>\n",
       "      <td>0</td>\n",
       "    </tr>\n",
       "    <tr>\n",
       "      <th>2</th>\n",
       "      <td>12555</td>\n",
       "      <td>جنکی گواہی خود رب کا قرآن دے جنہیں نبی کریم صل...</td>\n",
       "      <td>0</td>\n",
       "      <td>0</td>\n",
       "      <td>0</td>\n",
       "    </tr>\n",
       "    <tr>\n",
       "      <th>3</th>\n",
       "      <td>19804</td>\n",
       "      <td>کےبل عمران خان دے سندھ کوٹرانسپورٹ صاف پانی بھ...</td>\n",
       "      <td>0</td>\n",
       "      <td>0</td>\n",
       "      <td>0</td>\n",
       "    </tr>\n",
       "    <tr>\n",
       "      <th>4</th>\n",
       "      <td>19713</td>\n",
       "      <td>اب اس ناسور کاخاتمہ ناگریز ہو چکا ہے</td>\n",
       "      <td>0</td>\n",
       "      <td>0</td>\n",
       "      <td>0</td>\n",
       "    </tr>\n",
       "    <tr>\n",
       "      <th>...</th>\n",
       "      <td>...</td>\n",
       "      <td>...</td>\n",
       "      <td>...</td>\n",
       "      <td>...</td>\n",
       "      <td>...</td>\n",
       "    </tr>\n",
       "    <tr>\n",
       "      <th>21754</th>\n",
       "      <td>2886</td>\n",
       "      <td>میرے مطابق ضامن میراثی معافی کی ویڈیومیں کہتا ...</td>\n",
       "      <td>1</td>\n",
       "      <td>1</td>\n",
       "      <td>1</td>\n",
       "    </tr>\n",
       "    <tr>\n",
       "      <th>21755</th>\n",
       "      <td>2183</td>\n",
       "      <td>نیز جو شخص اس کے کفر و ارتداد میں شک کرے یا اس...</td>\n",
       "      <td>1</td>\n",
       "      <td>0</td>\n",
       "      <td>1</td>\n",
       "    </tr>\n",
       "    <tr>\n",
       "      <th>21756</th>\n",
       "      <td>18150</td>\n",
       "      <td>الحمداللہ اقلیتی کونسل کی سربراہی بتوں کی پرست...</td>\n",
       "      <td>1</td>\n",
       "      <td>0</td>\n",
       "      <td>1</td>\n",
       "    </tr>\n",
       "    <tr>\n",
       "      <th>21757</th>\n",
       "      <td>8480</td>\n",
       "      <td>شیعہ کے بعض اصول اور نظریات کو اسلامی معاشروں ...</td>\n",
       "      <td>1</td>\n",
       "      <td>0</td>\n",
       "      <td>1</td>\n",
       "    </tr>\n",
       "    <tr>\n",
       "      <th>21758</th>\n",
       "      <td>8275</td>\n",
       "      <td>صرف تبرا ہی نہیں شیعہ کی تمام رسومات شرارت ہی ...</td>\n",
       "      <td>1</td>\n",
       "      <td>0</td>\n",
       "      <td>1</td>\n",
       "    </tr>\n",
       "  </tbody>\n",
       "</table>\n",
       "<p>21759 rows × 5 columns</p>\n",
       "</div>"
      ],
      "text/plain": [
       "       Tweet_ID                                         Tweet_Text  Hammad  \\\n",
       "0         12343  جو زیادہ بولتے ہیں وہ کام نہیں کرتے اور جو کام...       0   \n",
       "1          6373  کا ٹرینڈ چلانے والے کا مطلب اور کے فوائد سے وا...       0   \n",
       "2         12555  جنکی گواہی خود رب کا قرآن دے جنہیں نبی کریم صل...       0   \n",
       "3         19804  کےبل عمران خان دے سندھ کوٹرانسپورٹ صاف پانی بھ...       0   \n",
       "4         19713               اب اس ناسور کاخاتمہ ناگریز ہو چکا ہے       0   \n",
       "...         ...                                                ...     ...   \n",
       "21754      2886  میرے مطابق ضامن میراثی معافی کی ویڈیومیں کہتا ...       1   \n",
       "21755      2183  نیز جو شخص اس کے کفر و ارتداد میں شک کرے یا اس...       1   \n",
       "21756     18150  الحمداللہ اقلیتی کونسل کی سربراہی بتوں کی پرست...       1   \n",
       "21757      8480  شیعہ کے بعض اصول اور نظریات کو اسلامی معاشروں ...       1   \n",
       "21758      8275  صرف تبرا ہی نہیں شیعہ کی تمام رسومات شرارت ہی ...       1   \n",
       "\n",
       "       Khurram  Final_decision  \n",
       "0            0               0  \n",
       "1            0               0  \n",
       "2            0               0  \n",
       "3            0               0  \n",
       "4            0               0  \n",
       "...        ...             ...  \n",
       "21754        1               1  \n",
       "21755        0               1  \n",
       "21756        0               1  \n",
       "21757        0               1  \n",
       "21758        0               1  \n",
       "\n",
       "[21759 rows x 5 columns]"
      ]
     },
     "execution_count": 15,
     "metadata": {},
     "output_type": "execute_result"
    }
   ],
   "source": [
    "df"
   ]
  },
  {
   "cell_type": "code",
   "execution_count": 16,
   "id": "8d3d696e",
   "metadata": {},
   "outputs": [
    {
     "data": {
      "text/html": [
       "<div>\n",
       "<style scoped>\n",
       "    .dataframe tbody tr th:only-of-type {\n",
       "        vertical-align: middle;\n",
       "    }\n",
       "\n",
       "    .dataframe tbody tr th {\n",
       "        vertical-align: top;\n",
       "    }\n",
       "\n",
       "    .dataframe thead th {\n",
       "        text-align: right;\n",
       "    }\n",
       "</style>\n",
       "<table border=\"1\" class=\"dataframe\">\n",
       "  <thead>\n",
       "    <tr style=\"text-align: right;\">\n",
       "      <th></th>\n",
       "      <th>text</th>\n",
       "      <th>category</th>\n",
       "      <th>label</th>\n",
       "    </tr>\n",
       "  </thead>\n",
       "  <tbody>\n",
       "    <tr>\n",
       "      <th>0</th>\n",
       "      <td>جو زیادہ بولتے ہیں وہ کام نہیں کرتے اور جو کام...</td>\n",
       "      <td>False</td>\n",
       "      <td>0</td>\n",
       "    </tr>\n",
       "    <tr>\n",
       "      <th>1</th>\n",
       "      <td>کا ٹرینڈ چلانے والے کا مطلب اور کے فوائد سے وا...</td>\n",
       "      <td>False</td>\n",
       "      <td>0</td>\n",
       "    </tr>\n",
       "    <tr>\n",
       "      <th>2</th>\n",
       "      <td>جنکی گواہی خود رب کا قرآن دے جنہیں نبی کریم صل...</td>\n",
       "      <td>False</td>\n",
       "      <td>0</td>\n",
       "    </tr>\n",
       "    <tr>\n",
       "      <th>3</th>\n",
       "      <td>کےبل عمران خان دے سندھ کوٹرانسپورٹ صاف پانی بھ...</td>\n",
       "      <td>False</td>\n",
       "      <td>0</td>\n",
       "    </tr>\n",
       "    <tr>\n",
       "      <th>4</th>\n",
       "      <td>اب اس ناسور کاخاتمہ ناگریز ہو چکا ہے</td>\n",
       "      <td>False</td>\n",
       "      <td>0</td>\n",
       "    </tr>\n",
       "    <tr>\n",
       "      <th>...</th>\n",
       "      <td>...</td>\n",
       "      <td>...</td>\n",
       "      <td>...</td>\n",
       "    </tr>\n",
       "    <tr>\n",
       "      <th>21754</th>\n",
       "      <td>میرے مطابق ضامن میراثی معافی کی ویڈیومیں کہتا ...</td>\n",
       "      <td>True</td>\n",
       "      <td>1</td>\n",
       "    </tr>\n",
       "    <tr>\n",
       "      <th>21755</th>\n",
       "      <td>نیز جو شخص اس کے کفر و ارتداد میں شک کرے یا اس...</td>\n",
       "      <td>True</td>\n",
       "      <td>1</td>\n",
       "    </tr>\n",
       "    <tr>\n",
       "      <th>21756</th>\n",
       "      <td>الحمداللہ اقلیتی کونسل کی سربراہی بتوں کی پرست...</td>\n",
       "      <td>True</td>\n",
       "      <td>1</td>\n",
       "    </tr>\n",
       "    <tr>\n",
       "      <th>21757</th>\n",
       "      <td>شیعہ کے بعض اصول اور نظریات کو اسلامی معاشروں ...</td>\n",
       "      <td>True</td>\n",
       "      <td>1</td>\n",
       "    </tr>\n",
       "    <tr>\n",
       "      <th>21758</th>\n",
       "      <td>صرف تبرا ہی نہیں شیعہ کی تمام رسومات شرارت ہی ...</td>\n",
       "      <td>True</td>\n",
       "      <td>1</td>\n",
       "    </tr>\n",
       "  </tbody>\n",
       "</table>\n",
       "<p>21759 rows × 3 columns</p>\n",
       "</div>"
      ],
      "text/plain": [
       "                                                    text category  label\n",
       "0      جو زیادہ بولتے ہیں وہ کام نہیں کرتے اور جو کام...    False      0\n",
       "1      کا ٹرینڈ چلانے والے کا مطلب اور کے فوائد سے وا...    False      0\n",
       "2      جنکی گواہی خود رب کا قرآن دے جنہیں نبی کریم صل...    False      0\n",
       "3      کےبل عمران خان دے سندھ کوٹرانسپورٹ صاف پانی بھ...    False      0\n",
       "4                   اب اس ناسور کاخاتمہ ناگریز ہو چکا ہے    False      0\n",
       "...                                                  ...      ...    ...\n",
       "21754  میرے مطابق ضامن میراثی معافی کی ویڈیومیں کہتا ...     True      1\n",
       "21755  نیز جو شخص اس کے کفر و ارتداد میں شک کرے یا اس...     True      1\n",
       "21756  الحمداللہ اقلیتی کونسل کی سربراہی بتوں کی پرست...     True      1\n",
       "21757  شیعہ کے بعض اصول اور نظریات کو اسلامی معاشروں ...     True      1\n",
       "21758  صرف تبرا ہی نہیں شیعہ کی تمام رسومات شرارت ہی ...     True      1\n",
       "\n",
       "[21759 rows x 3 columns]"
      ]
     },
     "execution_count": 16,
     "metadata": {},
     "output_type": "execute_result"
    }
   ],
   "source": [
    "c=df['Final_decision']\n",
    "df.rename(columns={'Tweet_Text' : 'text',\n",
    "                   'Final_decision' : 'category'}, \n",
    "                    inplace=True)\n",
    "a=df['text']\n",
    "b=df['category'].map({0: 'False', 1: 'True'})\n",
    "\n",
    "df= pd.concat([a,b,c], axis=1)\n",
    "df.rename(columns={'Final_decision' : 'label'}, \n",
    "                    inplace=True)\n",
    "df"
   ]
  },
  {
   "cell_type": "code",
   "execution_count": 17,
   "id": "de197578",
   "metadata": {},
   "outputs": [
    {
     "data": {
      "text/html": [
       "<div>\n",
       "<style scoped>\n",
       "    .dataframe tbody tr th:only-of-type {\n",
       "        vertical-align: middle;\n",
       "    }\n",
       "\n",
       "    .dataframe tbody tr th {\n",
       "        vertical-align: top;\n",
       "    }\n",
       "\n",
       "    .dataframe thead th {\n",
       "        text-align: right;\n",
       "    }\n",
       "</style>\n",
       "<table border=\"1\" class=\"dataframe\">\n",
       "  <thead>\n",
       "    <tr style=\"text-align: right;\">\n",
       "      <th></th>\n",
       "      <th>text</th>\n",
       "      <th>category</th>\n",
       "    </tr>\n",
       "    <tr>\n",
       "      <th>label</th>\n",
       "      <th></th>\n",
       "      <th></th>\n",
       "    </tr>\n",
       "  </thead>\n",
       "  <tbody>\n",
       "    <tr>\n",
       "      <th>0</th>\n",
       "      <td>13107</td>\n",
       "      <td>13107</td>\n",
       "    </tr>\n",
       "    <tr>\n",
       "      <th>1</th>\n",
       "      <td>8652</td>\n",
       "      <td>8652</td>\n",
       "    </tr>\n",
       "  </tbody>\n",
       "</table>\n",
       "</div>"
      ],
      "text/plain": [
       "        text  category\n",
       "label                 \n",
       "0      13107     13107\n",
       "1       8652      8652"
      ]
     },
     "execution_count": 17,
     "metadata": {},
     "output_type": "execute_result"
    }
   ],
   "source": [
    "df.groupby('label').count()"
   ]
  },
  {
   "cell_type": "code",
   "execution_count": 18,
   "id": "a6ed41ba",
   "metadata": {},
   "outputs": [
    {
     "name": "stdout",
     "output_type": "stream",
     "text": [
      "Examples:\n",
      "    Total: 21759\n",
      "    hate: 13107 (60.24% of total)\n",
      "\n",
      "Examples:\n",
      "    Total: 21759\n",
      "    Ofensive: 8652 (39.76% of total)\n",
      "\n"
     ]
    }
   ],
   "source": [
    "false, true = np.bincount(df['label'])\n",
    "total = false + true\n",
    "print('Examples:\\n    Total: {}\\n    hate: {} ({:.2f}% of total)\\n'.format(\n",
    "    total, false, 100 * false / total))\n",
    "print('Examples:\\n    Total: {}\\n    Ofensive: {} ({:.2f}% of total)\\n'.format(\n",
    "    total, true, 100 * true / total))"
   ]
  },
  {
   "cell_type": "code",
   "execution_count": 19,
   "id": "5e2c4dc8",
   "metadata": {},
   "outputs": [],
   "source": [
    "X_train_, X_test, y_train_, y_test = train_test_split(\n",
    "    df.index.values,\n",
    "    df.label.values,\n",
    "    test_size=0.10,\n",
    "    random_state=42,\n",
    "    stratify=df.label.values,    \n",
    ")"
   ]
  },
  {
   "cell_type": "code",
   "execution_count": 20,
   "id": "c5efe062",
   "metadata": {},
   "outputs": [],
   "source": [
    "X_train, X_val, y_train, y_val = train_test_split(\n",
    "    df.loc[X_train_].index.values,\n",
    "    df.loc[X_train_].label.values,\n",
    "    test_size=0.10,\n",
    "    random_state=42,\n",
    "    stratify=df.loc[X_train_].label.values,  \n",
    ")"
   ]
  },
  {
   "cell_type": "code",
   "execution_count": 21,
   "id": "0a54159d",
   "metadata": {},
   "outputs": [],
   "source": [
    "df['data_type'] = ['not_set']*df.shape[0]\n",
    "df.loc[X_train, 'data_type'] = 'train'\n",
    "df.loc[X_val, 'data_type'] = 'val'\n",
    "df.loc[X_test, 'data_type'] = 'test'"
   ]
  },
  {
   "cell_type": "code",
   "execution_count": 22,
   "id": "00f86171",
   "metadata": {},
   "outputs": [
    {
     "data": {
      "text/html": [
       "<div>\n",
       "<style scoped>\n",
       "    .dataframe tbody tr th:only-of-type {\n",
       "        vertical-align: middle;\n",
       "    }\n",
       "\n",
       "    .dataframe tbody tr th {\n",
       "        vertical-align: top;\n",
       "    }\n",
       "\n",
       "    .dataframe thead th {\n",
       "        text-align: right;\n",
       "    }\n",
       "</style>\n",
       "<table border=\"1\" class=\"dataframe\">\n",
       "  <thead>\n",
       "    <tr style=\"text-align: right;\">\n",
       "      <th></th>\n",
       "      <th></th>\n",
       "      <th></th>\n",
       "      <th>text</th>\n",
       "    </tr>\n",
       "    <tr>\n",
       "      <th>category</th>\n",
       "      <th>label</th>\n",
       "      <th>data_type</th>\n",
       "      <th></th>\n",
       "    </tr>\n",
       "  </thead>\n",
       "  <tbody>\n",
       "    <tr>\n",
       "      <th rowspan=\"3\" valign=\"top\">False</th>\n",
       "      <th rowspan=\"3\" valign=\"top\">0</th>\n",
       "      <th>test</th>\n",
       "      <td>1311</td>\n",
       "    </tr>\n",
       "    <tr>\n",
       "      <th>train</th>\n",
       "      <td>10616</td>\n",
       "    </tr>\n",
       "    <tr>\n",
       "      <th>val</th>\n",
       "      <td>1180</td>\n",
       "    </tr>\n",
       "    <tr>\n",
       "      <th rowspan=\"3\" valign=\"top\">True</th>\n",
       "      <th rowspan=\"3\" valign=\"top\">1</th>\n",
       "      <th>test</th>\n",
       "      <td>865</td>\n",
       "    </tr>\n",
       "    <tr>\n",
       "      <th>train</th>\n",
       "      <td>7008</td>\n",
       "    </tr>\n",
       "    <tr>\n",
       "      <th>val</th>\n",
       "      <td>779</td>\n",
       "    </tr>\n",
       "  </tbody>\n",
       "</table>\n",
       "</div>"
      ],
      "text/plain": [
       "                           text\n",
       "category label data_type       \n",
       "False    0     test        1311\n",
       "               train      10616\n",
       "               val         1180\n",
       "True     1     test         865\n",
       "               train       7008\n",
       "               val          779"
      ]
     },
     "execution_count": 22,
     "metadata": {},
     "output_type": "execute_result"
    }
   ],
   "source": [
    "df.groupby(['category', 'label', 'data_type']).count()"
   ]
  },
  {
   "cell_type": "code",
   "execution_count": 23,
   "id": "f4a8183e",
   "metadata": {},
   "outputs": [
    {
     "data": {
      "text/html": [
       "<div>\n",
       "<style scoped>\n",
       "    .dataframe tbody tr th:only-of-type {\n",
       "        vertical-align: middle;\n",
       "    }\n",
       "\n",
       "    .dataframe tbody tr th {\n",
       "        vertical-align: top;\n",
       "    }\n",
       "\n",
       "    .dataframe thead th {\n",
       "        text-align: right;\n",
       "    }\n",
       "</style>\n",
       "<table border=\"1\" class=\"dataframe\">\n",
       "  <thead>\n",
       "    <tr style=\"text-align: right;\">\n",
       "      <th></th>\n",
       "      <th>text</th>\n",
       "      <th>category</th>\n",
       "      <th>label</th>\n",
       "      <th>data_type</th>\n",
       "    </tr>\n",
       "  </thead>\n",
       "  <tbody>\n",
       "    <tr>\n",
       "      <th>0</th>\n",
       "      <td>جو زیادہ بولتے ہیں وہ کام نہیں کرتے اور جو کام...</td>\n",
       "      <td>False</td>\n",
       "      <td>0</td>\n",
       "      <td>train</td>\n",
       "    </tr>\n",
       "    <tr>\n",
       "      <th>1</th>\n",
       "      <td>کا ٹرینڈ چلانے والے کا مطلب اور کے فوائد سے وا...</td>\n",
       "      <td>False</td>\n",
       "      <td>0</td>\n",
       "      <td>train</td>\n",
       "    </tr>\n",
       "    <tr>\n",
       "      <th>2</th>\n",
       "      <td>جنکی گواہی خود رب کا قرآن دے جنہیں نبی کریم صل...</td>\n",
       "      <td>False</td>\n",
       "      <td>0</td>\n",
       "      <td>train</td>\n",
       "    </tr>\n",
       "    <tr>\n",
       "      <th>3</th>\n",
       "      <td>کےبل عمران خان دے سندھ کوٹرانسپورٹ صاف پانی بھ...</td>\n",
       "      <td>False</td>\n",
       "      <td>0</td>\n",
       "      <td>train</td>\n",
       "    </tr>\n",
       "    <tr>\n",
       "      <th>4</th>\n",
       "      <td>اب اس ناسور کاخاتمہ ناگریز ہو چکا ہے</td>\n",
       "      <td>False</td>\n",
       "      <td>0</td>\n",
       "      <td>test</td>\n",
       "    </tr>\n",
       "    <tr>\n",
       "      <th>...</th>\n",
       "      <td>...</td>\n",
       "      <td>...</td>\n",
       "      <td>...</td>\n",
       "      <td>...</td>\n",
       "    </tr>\n",
       "    <tr>\n",
       "      <th>21754</th>\n",
       "      <td>میرے مطابق ضامن میراثی معافی کی ویڈیومیں کہتا ...</td>\n",
       "      <td>True</td>\n",
       "      <td>1</td>\n",
       "      <td>val</td>\n",
       "    </tr>\n",
       "    <tr>\n",
       "      <th>21755</th>\n",
       "      <td>نیز جو شخص اس کے کفر و ارتداد میں شک کرے یا اس...</td>\n",
       "      <td>True</td>\n",
       "      <td>1</td>\n",
       "      <td>train</td>\n",
       "    </tr>\n",
       "    <tr>\n",
       "      <th>21756</th>\n",
       "      <td>الحمداللہ اقلیتی کونسل کی سربراہی بتوں کی پرست...</td>\n",
       "      <td>True</td>\n",
       "      <td>1</td>\n",
       "      <td>train</td>\n",
       "    </tr>\n",
       "    <tr>\n",
       "      <th>21757</th>\n",
       "      <td>شیعہ کے بعض اصول اور نظریات کو اسلامی معاشروں ...</td>\n",
       "      <td>True</td>\n",
       "      <td>1</td>\n",
       "      <td>train</td>\n",
       "    </tr>\n",
       "    <tr>\n",
       "      <th>21758</th>\n",
       "      <td>صرف تبرا ہی نہیں شیعہ کی تمام رسومات شرارت ہی ...</td>\n",
       "      <td>True</td>\n",
       "      <td>1</td>\n",
       "      <td>train</td>\n",
       "    </tr>\n",
       "  </tbody>\n",
       "</table>\n",
       "<p>21759 rows × 4 columns</p>\n",
       "</div>"
      ],
      "text/plain": [
       "                                                    text category  label  \\\n",
       "0      جو زیادہ بولتے ہیں وہ کام نہیں کرتے اور جو کام...    False      0   \n",
       "1      کا ٹرینڈ چلانے والے کا مطلب اور کے فوائد سے وا...    False      0   \n",
       "2      جنکی گواہی خود رب کا قرآن دے جنہیں نبی کریم صل...    False      0   \n",
       "3      کےبل عمران خان دے سندھ کوٹرانسپورٹ صاف پانی بھ...    False      0   \n",
       "4                   اب اس ناسور کاخاتمہ ناگریز ہو چکا ہے    False      0   \n",
       "...                                                  ...      ...    ...   \n",
       "21754  میرے مطابق ضامن میراثی معافی کی ویڈیومیں کہتا ...     True      1   \n",
       "21755  نیز جو شخص اس کے کفر و ارتداد میں شک کرے یا اس...     True      1   \n",
       "21756  الحمداللہ اقلیتی کونسل کی سربراہی بتوں کی پرست...     True      1   \n",
       "21757  شیعہ کے بعض اصول اور نظریات کو اسلامی معاشروں ...     True      1   \n",
       "21758  صرف تبرا ہی نہیں شیعہ کی تمام رسومات شرارت ہی ...     True      1   \n",
       "\n",
       "      data_type  \n",
       "0         train  \n",
       "1         train  \n",
       "2         train  \n",
       "3         train  \n",
       "4          test  \n",
       "...         ...  \n",
       "21754       val  \n",
       "21755     train  \n",
       "21756     train  \n",
       "21757     train  \n",
       "21758     train  \n",
       "\n",
       "[21759 rows x 4 columns]"
      ]
     },
     "execution_count": 23,
     "metadata": {},
     "output_type": "execute_result"
    }
   ],
   "source": [
    "df"
   ]
  },
  {
   "cell_type": "code",
   "execution_count": 24,
   "id": "b584d850",
   "metadata": {},
   "outputs": [
    {
     "data": {
      "text/html": [
       "<div>\n",
       "<style scoped>\n",
       "    .dataframe tbody tr th:only-of-type {\n",
       "        vertical-align: middle;\n",
       "    }\n",
       "\n",
       "    .dataframe tbody tr th {\n",
       "        vertical-align: top;\n",
       "    }\n",
       "\n",
       "    .dataframe thead th {\n",
       "        text-align: right;\n",
       "    }\n",
       "</style>\n",
       "<table border=\"1\" class=\"dataframe\">\n",
       "  <thead>\n",
       "    <tr style=\"text-align: right;\">\n",
       "      <th></th>\n",
       "      <th>text</th>\n",
       "      <th>category</th>\n",
       "      <th>label</th>\n",
       "      <th>data_type</th>\n",
       "    </tr>\n",
       "  </thead>\n",
       "  <tbody>\n",
       "    <tr>\n",
       "      <th>0</th>\n",
       "      <td>جو زیادہ بولتے ہیں وہ کام نہیں کرتے اور جو کام...</td>\n",
       "      <td>False</td>\n",
       "      <td>0</td>\n",
       "      <td>train</td>\n",
       "    </tr>\n",
       "    <tr>\n",
       "      <th>1</th>\n",
       "      <td>کا ٹرینڈ چلانے والے کا مطلب اور کے فوائد سے وا...</td>\n",
       "      <td>False</td>\n",
       "      <td>0</td>\n",
       "      <td>train</td>\n",
       "    </tr>\n",
       "    <tr>\n",
       "      <th>2</th>\n",
       "      <td>جنکی گواہی خود رب کا قرآن دے جنہیں نبی کریم صل...</td>\n",
       "      <td>False</td>\n",
       "      <td>0</td>\n",
       "      <td>train</td>\n",
       "    </tr>\n",
       "    <tr>\n",
       "      <th>3</th>\n",
       "      <td>کےبل عمران خان دے سندھ کوٹرانسپورٹ صاف پانی بھ...</td>\n",
       "      <td>False</td>\n",
       "      <td>0</td>\n",
       "      <td>train</td>\n",
       "    </tr>\n",
       "    <tr>\n",
       "      <th>6</th>\n",
       "      <td>واہ جمیل بھائی آپ نے اپنے فاروقی نام کی لاج رک...</td>\n",
       "      <td>False</td>\n",
       "      <td>0</td>\n",
       "      <td>train</td>\n",
       "    </tr>\n",
       "  </tbody>\n",
       "</table>\n",
       "</div>"
      ],
      "text/plain": [
       "                                                text category  label data_type\n",
       "0  جو زیادہ بولتے ہیں وہ کام نہیں کرتے اور جو کام...    False      0     train\n",
       "1  کا ٹرینڈ چلانے والے کا مطلب اور کے فوائد سے وا...    False      0     train\n",
       "2  جنکی گواہی خود رب کا قرآن دے جنہیں نبی کریم صل...    False      0     train\n",
       "3  کےبل عمران خان دے سندھ کوٹرانسپورٹ صاف پانی بھ...    False      0     train\n",
       "6  واہ جمیل بھائی آپ نے اپنے فاروقی نام کی لاج رک...    False      0     train"
      ]
     },
     "execution_count": 24,
     "metadata": {},
     "output_type": "execute_result"
    }
   ],
   "source": [
    "df_train = df.loc[df[\"data_type\"]==\"train\"]\n",
    "df_train.head(5)"
   ]
  },
  {
   "cell_type": "code",
   "execution_count": 25,
   "id": "bebebf86",
   "metadata": {},
   "outputs": [
    {
     "data": {
      "text/html": [
       "<div>\n",
       "<style scoped>\n",
       "    .dataframe tbody tr th:only-of-type {\n",
       "        vertical-align: middle;\n",
       "    }\n",
       "\n",
       "    .dataframe tbody tr th {\n",
       "        vertical-align: top;\n",
       "    }\n",
       "\n",
       "    .dataframe thead th {\n",
       "        text-align: right;\n",
       "    }\n",
       "</style>\n",
       "<table border=\"1\" class=\"dataframe\">\n",
       "  <thead>\n",
       "    <tr style=\"text-align: right;\">\n",
       "      <th></th>\n",
       "      <th>text</th>\n",
       "      <th>category</th>\n",
       "      <th>label</th>\n",
       "      <th>data_type</th>\n",
       "    </tr>\n",
       "  </thead>\n",
       "  <tbody>\n",
       "    <tr>\n",
       "      <th>10</th>\n",
       "      <td>انسان کی زندگی میں سب سے زیادہ اہمیت کی حامل ج...</td>\n",
       "      <td>False</td>\n",
       "      <td>0</td>\n",
       "      <td>val</td>\n",
       "    </tr>\n",
       "    <tr>\n",
       "      <th>25</th>\n",
       "      <td>ہمارا جینا مرنا اپنے پیارے آقا ﷺ کیلئے ہے عقید...</td>\n",
       "      <td>False</td>\n",
       "      <td>0</td>\n",
       "      <td>val</td>\n",
       "    </tr>\n",
       "    <tr>\n",
       "      <th>26</th>\n",
       "      <td>حب علی یا بغض معاویہ کی وجہ سے ٹویٹ کرنے والوں...</td>\n",
       "      <td>False</td>\n",
       "      <td>0</td>\n",
       "      <td>val</td>\n",
       "    </tr>\n",
       "    <tr>\n",
       "      <th>28</th>\n",
       "      <td>حضرت ابوھریرہ رضی اللہ عنہ روایت کرتے ہیں کہ ن...</td>\n",
       "      <td>False</td>\n",
       "      <td>0</td>\n",
       "      <td>val</td>\n",
       "    </tr>\n",
       "    <tr>\n",
       "      <th>29</th>\n",
       "      <td>بھائہ سہہیتو باقی باتیں بعد میں پہلے</td>\n",
       "      <td>False</td>\n",
       "      <td>0</td>\n",
       "      <td>val</td>\n",
       "    </tr>\n",
       "  </tbody>\n",
       "</table>\n",
       "</div>"
      ],
      "text/plain": [
       "                                                 text category  label  \\\n",
       "10  انسان کی زندگی میں سب سے زیادہ اہمیت کی حامل ج...    False      0   \n",
       "25  ہمارا جینا مرنا اپنے پیارے آقا ﷺ کیلئے ہے عقید...    False      0   \n",
       "26  حب علی یا بغض معاویہ کی وجہ سے ٹویٹ کرنے والوں...    False      0   \n",
       "28  حضرت ابوھریرہ رضی اللہ عنہ روایت کرتے ہیں کہ ن...    False      0   \n",
       "29               بھائہ سہہیتو باقی باتیں بعد میں پہلے    False      0   \n",
       "\n",
       "   data_type  \n",
       "10       val  \n",
       "25       val  \n",
       "26       val  \n",
       "28       val  \n",
       "29       val  "
      ]
     },
     "execution_count": 25,
     "metadata": {},
     "output_type": "execute_result"
    }
   ],
   "source": [
    "df_val = df.loc[df[\"data_type\"]==\"val\"]\n",
    "df_val.head(5)"
   ]
  },
  {
   "cell_type": "code",
   "execution_count": 26,
   "id": "5a3f85ab",
   "metadata": {},
   "outputs": [
    {
     "data": {
      "text/html": [
       "<div>\n",
       "<style scoped>\n",
       "    .dataframe tbody tr th:only-of-type {\n",
       "        vertical-align: middle;\n",
       "    }\n",
       "\n",
       "    .dataframe tbody tr th {\n",
       "        vertical-align: top;\n",
       "    }\n",
       "\n",
       "    .dataframe thead th {\n",
       "        text-align: right;\n",
       "    }\n",
       "</style>\n",
       "<table border=\"1\" class=\"dataframe\">\n",
       "  <thead>\n",
       "    <tr style=\"text-align: right;\">\n",
       "      <th></th>\n",
       "      <th>text</th>\n",
       "      <th>category</th>\n",
       "      <th>label</th>\n",
       "      <th>data_type</th>\n",
       "    </tr>\n",
       "  </thead>\n",
       "  <tbody>\n",
       "    <tr>\n",
       "      <th>4</th>\n",
       "      <td>اب اس ناسور کاخاتمہ ناگریز ہو چکا ہے</td>\n",
       "      <td>False</td>\n",
       "      <td>0</td>\n",
       "      <td>test</td>\n",
       "    </tr>\n",
       "    <tr>\n",
       "      <th>5</th>\n",
       "      <td>یقین مانو اللہ تعالی ہم سے ناراض ہیں اتنا نارا...</td>\n",
       "      <td>False</td>\n",
       "      <td>0</td>\n",
       "      <td>test</td>\n",
       "    </tr>\n",
       "    <tr>\n",
       "      <th>9</th>\n",
       "      <td>دوستوں آج آپ نے ٹویٹ کے ساتھ ساتھ ریٹوٹ پر بھی...</td>\n",
       "      <td>False</td>\n",
       "      <td>0</td>\n",
       "      <td>test</td>\n",
       "    </tr>\n",
       "    <tr>\n",
       "      <th>55</th>\n",
       "      <td>ڈوب جانے خوف ہے جنکو چھوڑ جاٸیں ابھی توبہتر ہے...</td>\n",
       "      <td>False</td>\n",
       "      <td>0</td>\n",
       "      <td>test</td>\n",
       "    </tr>\n",
       "    <tr>\n",
       "      <th>64</th>\n",
       "      <td>اس امداد کا تو کسی نے سوچاہی نہ تھا</td>\n",
       "      <td>False</td>\n",
       "      <td>0</td>\n",
       "      <td>test</td>\n",
       "    </tr>\n",
       "  </tbody>\n",
       "</table>\n",
       "</div>"
      ],
      "text/plain": [
       "                                                 text category  label  \\\n",
       "4                اب اس ناسور کاخاتمہ ناگریز ہو چکا ہے    False      0   \n",
       "5   یقین مانو اللہ تعالی ہم سے ناراض ہیں اتنا نارا...    False      0   \n",
       "9   دوستوں آج آپ نے ٹویٹ کے ساتھ ساتھ ریٹوٹ پر بھی...    False      0   \n",
       "55  ڈوب جانے خوف ہے جنکو چھوڑ جاٸیں ابھی توبہتر ہے...    False      0   \n",
       "64                اس امداد کا تو کسی نے سوچاہی نہ تھا    False      0   \n",
       "\n",
       "   data_type  \n",
       "4       test  \n",
       "5       test  \n",
       "9       test  \n",
       "55      test  \n",
       "64      test  "
      ]
     },
     "execution_count": 26,
     "metadata": {},
     "output_type": "execute_result"
    }
   ],
   "source": [
    "df_test = df.loc[df[\"data_type\"]==\"test\"]\n",
    "df_test.head(5)"
   ]
  },
  {
   "cell_type": "code",
   "execution_count": 27,
   "id": "fae80ced",
   "metadata": {},
   "outputs": [
    {
     "data": {
      "text/plain": [
       "text         object\n",
       "category     object\n",
       "label         int64\n",
       "data_type    object\n",
       "dtype: object"
      ]
     },
     "execution_count": 27,
     "metadata": {},
     "output_type": "execute_result"
    }
   ],
   "source": [
    "df.dtypes"
   ]
  },
  {
   "cell_type": "code",
   "execution_count": 28,
   "id": "2b808651",
   "metadata": {},
   "outputs": [],
   "source": [
    "train_ds = tf.data.Dataset.from_tensor_slices((df_train.text.values, df_train.label.values))\n",
    "val_ds = tf.data.Dataset.from_tensor_slices((df_val.text.values, df_val.label.values))\n",
    "test_ds = tf.data.Dataset.from_tensor_slices((df_test.text.values, df_test.label.values))\n"
   ]
  },
  {
   "cell_type": "code",
   "execution_count": 29,
   "id": "f231f709",
   "metadata": {},
   "outputs": [
    {
     "data": {
      "text/plain": [
       "<TensorSliceDataset element_spec=(TensorSpec(shape=(), dtype=tf.string, name=None), TensorSpec(shape=(), dtype=tf.int64, name=None))>"
      ]
     },
     "execution_count": 29,
     "metadata": {},
     "output_type": "execute_result"
    }
   ],
   "source": [
    "train_ds"
   ]
  },
  {
   "cell_type": "code",
   "execution_count": 30,
   "id": "6a0c0999",
   "metadata": {},
   "outputs": [
    {
     "data": {
      "text/plain": [
       "<BatchDataset element_spec=(TensorSpec(shape=(None,), dtype=tf.string, name=None), TensorSpec(shape=(None,), dtype=tf.int64, name=None))>"
      ]
     },
     "execution_count": 30,
     "metadata": {},
     "output_type": "execute_result"
    }
   ],
   "source": [
    "train_ds = train_ds.shuffle(len(df_train)).batch(32, drop_remainder=False)\n",
    "train_ds"
   ]
  },
  {
   "cell_type": "code",
   "execution_count": 31,
   "id": "b990938c",
   "metadata": {},
   "outputs": [
    {
     "data": {
      "text/plain": [
       "<BatchDataset element_spec=(TensorSpec(shape=(None,), dtype=tf.string, name=None), TensorSpec(shape=(None,), dtype=tf.int64, name=None))>"
      ]
     },
     "execution_count": 31,
     "metadata": {},
     "output_type": "execute_result"
    }
   ],
   "source": [
    "val_ds = val_ds.shuffle(len(df_val)).batch(32, drop_remainder=False)\n",
    "val_ds"
   ]
  },
  {
   "cell_type": "code",
   "execution_count": 32,
   "id": "97833f06",
   "metadata": {},
   "outputs": [
    {
     "data": {
      "text/plain": [
       "<BatchDataset element_spec=(TensorSpec(shape=(None,), dtype=tf.string, name=None), TensorSpec(shape=(None,), dtype=tf.int64, name=None))>"
      ]
     },
     "execution_count": 32,
     "metadata": {},
     "output_type": "execute_result"
    }
   ],
   "source": [
    "test_ds = test_ds.shuffle(len(df_test)).batch(32, drop_remainder=False)\n",
    "test_ds"
   ]
  },
  {
   "cell_type": "code",
   "execution_count": 33,
   "id": "5a7d5122",
   "metadata": {},
   "outputs": [
    {
     "name": "stdout",
     "output_type": "stream",
     "text": [
      "BERT model selected           : https://tfhub.dev/tensorflow/bert_multi_cased_L-12_H-768_A-12/4\n",
      "Preprocess model auto-selected: https://tfhub.dev/tensorflow/bert_multi_cased_preprocess/3\n"
     ]
    }
   ],
   "source": [
    "tfhub_handle_encoder = 'https://tfhub.dev/tensorflow/bert_multi_cased_L-12_H-768_A-12/4'\n",
    "tfhub_handle_preprocess = 'https://tfhub.dev/tensorflow/bert_multi_cased_preprocess/3'\n",
    "print(f'BERT model selected           : {tfhub_handle_encoder}')\n",
    "print(f'Preprocess model auto-selected: {tfhub_handle_preprocess}')"
   ]
  },
  {
   "cell_type": "code",
   "execution_count": 34,
   "id": "2e78a09c",
   "metadata": {},
   "outputs": [],
   "source": [
    "bert_preprocess_model = hub.KerasLayer(tfhub_handle_preprocess)"
   ]
  },
  {
   "cell_type": "code",
   "execution_count": 35,
   "id": "2eeffd06",
   "metadata": {},
   "outputs": [
    {
     "name": "stdout",
     "output_type": "stream",
     "text": [
      "Tweet: b'\\xd9\\x88\\xd8\\xb2\\xdb\\x8c\\xd8\\xb1 \\xd8\\xa7\\xd8\\xb9\\xd9\\x84\\xdb\\x8c \\xd8\\xb3\\xd9\\x86\\xd8\\xaf\\xda\\xbe \\xda\\xa9\\xdb\\x8c \\xd8\\xa8\\xd9\\x84\\xd8\\xa7 \\xd8\\xb3\\xdb\\x92 \\xd8\\xaf\\xd9\\x88\\xda\\xa9\\xd8\\xa7\\xd9\\x86\\xd8\\xaf\\xd8\\xa7\\xd8\\xb1 \\xd8\\xac\\xd8\\xa7\\xd8\\xa6\\xdb\\x8c\\xda\\xba \\xd8\\xa8\\xda\\xbe\\xd8\\xa7\\xda\\x91 \\xd9\\x85\\xdb\\x8c\\xda\\xba'\n",
      "Label : 1\n",
      "Keys       : ['input_type_ids', 'input_mask', 'input_word_ids']\n",
      "Shape      : (1, 128)\n",
      "Word Ids   : [  101 44556   763 69124 17818 44521 11076 42678 10429 11689 13669 87359]\n",
      "Input Mask : [1 1 1 1 1 1 1 1 1 1 1 1]\n",
      "Type Ids   : [0 0 0 0 0 0 0 0 0 0 0 0]\n"
     ]
    }
   ],
   "source": [
    "for text_batch, label_batch in train_ds.take(1):\n",
    "  for i in range(1):\n",
    "    tweet = text_batch.numpy()[i]\n",
    "    print(f'Tweet: {text_batch.numpy()[i]}')\n",
    "    label = label_batch.numpy()[i]\n",
    "    print(f'Label : {label}')\n",
    "\n",
    "text_test = ['جنکی گواہی خود رب کا قرآن دے جنہیں نبی کریم صل اللہ علیہ و آلہ و سلم جنت کی بشارت دیں اور آج کچھ چرسی بھنگی اعتراض کریں ہم ان تمام دشمنان صحابہ کرام رضی اللہ عنہ کو جوتے کی نوک پر رکھتے ہیں']\n",
    "text_test = [tweet]\n",
    "\n",
    "\n",
    "text_preprocessed = bert_preprocess_model(text_test)\n",
    "\n",
    "print(f'Keys       : {list(text_preprocessed.keys())}')\n",
    "print(f'Shape      : {text_preprocessed[\"input_word_ids\"].shape}')\n",
    "print(f'Word Ids   : {text_preprocessed[\"input_word_ids\"][0, :12]}')\n",
    "print(f'Input Mask : {text_preprocessed[\"input_mask\"][0, :12]}')\n",
    "print(f'Type Ids   : {text_preprocessed[\"input_type_ids\"][0, :12]}')"
   ]
  },
  {
   "cell_type": "code",
   "execution_count": 36,
   "id": "49ec70c0",
   "metadata": {},
   "outputs": [],
   "source": [
    "bert_model = hub.KerasLayer(tfhub_handle_encoder)"
   ]
  },
  {
   "cell_type": "code",
   "execution_count": 37,
   "id": "55aae2d8",
   "metadata": {},
   "outputs": [
    {
     "name": "stdout",
     "output_type": "stream",
     "text": [
      "Loaded BERT: https://tfhub.dev/tensorflow/bert_multi_cased_L-12_H-768_A-12/4\n",
      "Pooled Outputs Shape:(1, 768)\n",
      "Pooled Outputs Values:[ 0.146252    0.04929201  0.34982944 -0.18985789  0.03380747  0.19671859\n",
      "  0.15082689  0.08023612 -0.18876359  0.18850105 -0.0052603  -0.00991157]\n",
      "Sequence Outputs Shape:(1, 128, 768)\n",
      "Sequence Outputs Values:[[ 0.0864637   0.03770181  0.0174588  ...  0.11237131 -0.02513243\n",
      "   0.03323346]\n",
      " [-0.54455805  0.03473775  0.8217001  ... -0.09372638 -0.36991453\n",
      "   0.16968277]\n",
      " [-0.31201488  0.06463974  0.81884956 ... -0.19306788 -0.41676784\n",
      "   0.32569224]\n",
      " ...\n",
      " [ 0.22079329  0.18271047  0.87785655 ...  0.4778839  -0.6724776\n",
      "   0.02172885]\n",
      " [ 0.15212165 -0.27573454 -0.05574593 ... -0.00815344  0.22809158\n",
      "   0.3145172 ]\n",
      " [-0.11045214 -0.41196758  0.1371057  ...  0.19267496 -0.2406458\n",
      "   0.5177655 ]]\n"
     ]
    }
   ],
   "source": [
    "bert_results = bert_model(text_preprocessed)\n",
    "\n",
    "print(f'Loaded BERT: {tfhub_handle_encoder}')\n",
    "print(f'Pooled Outputs Shape:{bert_results[\"pooled_output\"].shape}')\n",
    "print(f'Pooled Outputs Values:{bert_results[\"pooled_output\"][0, :12]}')\n",
    "print(f'Sequence Outputs Shape:{bert_results[\"sequence_output\"].shape}')\n",
    "print(f'Sequence Outputs Values:{bert_results[\"sequence_output\"][0, :12]}')"
   ]
  },
  {
   "cell_type": "code",
   "execution_count": 38,
   "id": "f3879750",
   "metadata": {},
   "outputs": [
    {
     "name": "stdout",
     "output_type": "stream",
     "text": [
      "Weight for class 0: 0.55\n",
      "Weight for class 1: 0.84\n"
     ]
    }
   ],
   "source": [
    "weight_for_0 = (1 / false)*(total)/3.0 \n",
    "weight_for_1 = (1 / true)*(total)/3.0\n",
    "#weight_for_2 = (1 / neither)*(total)/3.0\n",
    "\n",
    "\n",
    "class_weight = {0: weight_for_0, 1: weight_for_1}\n",
    "\n",
    "print('Weight for class 0: {:.2f}'.format(weight_for_0))\n",
    "print('Weight for class 1: {:.2f}'.format(weight_for_1))\n",
    "#print('Weight for class 2: {:.2f}'.format(weight_for_2))"
   ]
  },
  {
   "cell_type": "code",
   "execution_count": 39,
   "id": "e487403a",
   "metadata": {},
   "outputs": [
    {
     "data": {
      "text/plain": [
       "array([ 3.938462, 15.      ,  5.      ])"
      ]
     },
     "execution_count": 39,
     "metadata": {},
     "output_type": "execute_result"
    }
   ],
   "source": [
    "initial_output_bias = np.array([3.938462, 15, 5.])\n",
    "initial_output_bias "
   ]
  },
  {
   "cell_type": "code",
   "execution_count": 48,
   "id": "9e100fc3",
   "metadata": {},
   "outputs": [],
   "source": [
    "def build_CNN_classifier_model():\n",
    "    text_input = tf.keras.layers.Input(shape=(), dtype=tf.string, name='text')\n",
    "    preprocessing_layer = hub.KerasLayer(tfhub_handle_preprocess, name='preprocessing')\n",
    "    encoder_inputs = preprocessing_layer(text_input)\n",
    "    encoder = hub.KerasLayer(tfhub_handle_encoder, trainable=True, name='BERT_encoder')\n",
    "    outputs = encoder(encoder_inputs)\n",
    "    #net = outputs['pooled_output'] # [batch_size, 768].\n",
    "    net = sequence_output = outputs[\"sequence_output\"] # [batch_size, seq_length, 768]\n",
    "      \n",
    "    \n",
    "    net = tf.keras.layers.Conv1D(250, (3), activation='relu')(net)\n",
    "    #net = tf.keras.layers.MaxPooling1D(2)(net)\n",
    "    \n",
    "    net = tf.keras.layers.Conv1D(250, (3), activation='relu')(net)\n",
    "    #net = tf.keras.layers.MaxPooling1D(2)(net)\n",
    "    net = tf.keras.layers.GlobalMaxPool1D()(net)\n",
    "    \n",
    "#    net = tf.keras.layers.Flatten()(net)\n",
    "    \n",
    "    net = tf.keras.layers.Dense(250, activation=\"relu\")(net)\n",
    "    \n",
    "    net = tf.keras.layers.Dropout(0.2)(net)\n",
    "#   net = tf.keras.layers.Dense(1, activation=None, name='classifier')(net)\n",
    "    net = tf.keras.layers.Dense(3, activation=\"softmax\", name='classifier')(net)\n",
    "    \n",
    "    return tf.keras.Model(text_input, net)"
   ]
  },
  {
   "cell_type": "code",
   "execution_count": 49,
   "id": "8f48b651",
   "metadata": {},
   "outputs": [
    {
     "name": "stdout",
     "output_type": "stream",
     "text": [
      "tf.Tensor([[0.563118   0.53982705 0.642568  ]], shape=(1, 3), dtype=float32)\n"
     ]
    }
   ],
   "source": [
    "cnn_classifier_model = build_CNN_classifier_model()\n",
    "bert_raw_result = cnn_classifier_model(tf.constant(text_test))\n",
    "print(tf.sigmoid(bert_raw_result))"
   ]
  },
  {
   "cell_type": "code",
   "execution_count": 50,
   "id": "6518a2a9",
   "metadata": {},
   "outputs": [
    {
     "data": {
      "text/plain": [
       "[b'\\xd9\\x88\\xd8\\xb2\\xdb\\x8c\\xd8\\xb1 \\xd8\\xa7\\xd8\\xb9\\xd9\\x84\\xdb\\x8c \\xd8\\xb3\\xd9\\x86\\xd8\\xaf\\xda\\xbe \\xda\\xa9\\xdb\\x8c \\xd8\\xa8\\xd9\\x84\\xd8\\xa7 \\xd8\\xb3\\xdb\\x92 \\xd8\\xaf\\xd9\\x88\\xda\\xa9\\xd8\\xa7\\xd9\\x86\\xd8\\xaf\\xd8\\xa7\\xd8\\xb1 \\xd8\\xac\\xd8\\xa7\\xd8\\xa6\\xdb\\x8c\\xda\\xba \\xd8\\xa8\\xda\\xbe\\xd8\\xa7\\xda\\x91 \\xd9\\x85\\xdb\\x8c\\xda\\xba']"
      ]
     },
     "execution_count": 50,
     "metadata": {},
     "output_type": "execute_result"
    }
   ],
   "source": [
    "text_test"
   ]
  },
  {
   "cell_type": "code",
   "execution_count": 51,
   "id": "45c12ff2",
   "metadata": {},
   "outputs": [
    {
     "name": "stdout",
     "output_type": "stream",
     "text": [
      "Model: \"model_1\"\n",
      "__________________________________________________________________________________________________\n",
      " Layer (type)                   Output Shape         Param #     Connected to                     \n",
      "==================================================================================================\n",
      " text (InputLayer)              [(None,)]            0           []                               \n",
      "                                                                                                  \n",
      " preprocessing (KerasLayer)     {'input_type_ids':   0           ['text[0][0]']                   \n",
      "                                (None, 128),                                                      \n",
      "                                 'input_word_ids':                                                \n",
      "                                (None, 128),                                                      \n",
      "                                 'input_mask': (Non                                               \n",
      "                                e, 128)}                                                          \n",
      "                                                                                                  \n",
      " BERT_encoder (KerasLayer)      {'pooled_output': (  177853441   ['preprocessing[0][0]',          \n",
      "                                None, 768),                       'preprocessing[0][1]',          \n",
      "                                 'default': (None,                'preprocessing[0][2]']          \n",
      "                                768),                                                             \n",
      "                                 'sequence_output':                                               \n",
      "                                 (None, 128, 768),                                                \n",
      "                                 'encoder_outputs':                                               \n",
      "                                 [(None, 128, 768),                                               \n",
      "                                 (None, 128, 768),                                                \n",
      "                                 (None, 128, 768),                                                \n",
      "                                 (None, 128, 768),                                                \n",
      "                                 (None, 128, 768),                                                \n",
      "                                 (None, 128, 768),                                                \n",
      "                                 (None, 128, 768),                                                \n",
      "                                 (None, 128, 768),                                                \n",
      "                                 (None, 128, 768),                                                \n",
      "                                 (None, 128, 768),                                                \n",
      "                                 (None, 128, 768),                                                \n",
      "                                 (None, 128, 768)]}                                               \n",
      "                                                                                                  \n",
      " conv1d_2 (Conv1D)              (None, 126, 250)     576250      ['BERT_encoder[0][14]']          \n",
      "                                                                                                  \n",
      " conv1d_3 (Conv1D)              (None, 124, 250)     187750      ['conv1d_2[0][0]']               \n",
      "                                                                                                  \n",
      " global_max_pooling1d_1 (Global  (None, 250)         0           ['conv1d_3[0][0]']               \n",
      " MaxPooling1D)                                                                                    \n",
      "                                                                                                  \n",
      " dense_1 (Dense)                (None, 250)          62750       ['global_max_pooling1d_1[0][0]'] \n",
      "                                                                                                  \n",
      " dropout_1 (Dropout)            (None, 250)          0           ['dense_1[0][0]']                \n",
      "                                                                                                  \n",
      " classifier (Dense)             (None, 3)            753         ['dropout_1[0][0]']              \n",
      "                                                                                                  \n",
      "==================================================================================================\n",
      "Total params: 178,680,944\n",
      "Trainable params: 178,680,943\n",
      "Non-trainable params: 1\n",
      "__________________________________________________________________________________________________\n"
     ]
    }
   ],
   "source": [
    "cnn_classifier_model.summary()"
   ]
  },
  {
   "cell_type": "code",
   "execution_count": 52,
   "id": "b333faae",
   "metadata": {},
   "outputs": [
    {
     "name": "stdout",
     "output_type": "stream",
     "text": [
      "You must install pydot (`pip install pydot`) and install graphviz (see instructions at https://graphviz.gitlab.io/download/) for plot_model to work.\n"
     ]
    }
   ],
   "source": [
    "tf.keras.utils.plot_model(cnn_classifier_model)"
   ]
  },
  {
   "cell_type": "code",
   "execution_count": null,
   "id": "8875bfb5",
   "metadata": {},
   "outputs": [],
   "source": []
  },
  {
   "cell_type": "code",
   "execution_count": 53,
   "id": "5cc9044c",
   "metadata": {},
   "outputs": [],
   "source": [
    "loss = tf.keras.losses.SparseCategoricalCrossentropy(from_logits=True)"
   ]
  },
  {
   "cell_type": "code",
   "execution_count": 54,
   "id": "ebc25967",
   "metadata": {},
   "outputs": [],
   "source": [
    "epochs = 2\n",
    "steps_per_epoch = tf.data.experimental.cardinality(train_ds).numpy()\n",
    "num_train_steps = steps_per_epoch * epochs\n",
    "num_warmup_steps = int(0.1*num_train_steps)\n",
    "\n",
    "init_lr = 3e-5\n",
    "optimizer = optimization.create_optimizer(init_lr=init_lr,\n",
    "                                          num_train_steps=num_train_steps,\n",
    "                                          num_warmup_steps=num_warmup_steps,\n",
    "                                          optimizer_type='adamw')\n",
    "\n",
    "cnn_classifier_model.compile(optimizer=optimizer,\n",
    "                          loss=tf.keras.losses.SparseCategoricalCrossentropy(from_logits=True),\n",
    "                          metrics=tf.keras.metrics.SparseCategoricalAccuracy('accuracy'))"
   ]
  },
  {
   "cell_type": "code",
   "execution_count": 56,
   "id": "d4e4890a",
   "metadata": {},
   "outputs": [
    {
     "name": "stdout",
     "output_type": "stream",
     "text": [
      "Training model with https://tfhub.dev/tensorflow/bert_multi_cased_L-12_H-768_A-12/4\n",
      "Epoch 1/2\n",
      "551/551 [==============================] - 21553s 39s/step - loss: 0.2161 - accuracy: 0.8652 - val_loss: 0.3836 - val_accuracy: 0.8387\n",
      "Epoch 2/2\n",
      "551/551 [==============================] - 20120s 37s/step - loss: 0.1780 - accuracy: 0.8905 - val_loss: 0.3905 - val_accuracy: 0.8341\n"
     ]
    }
   ],
   "source": [
    "print(f'Training model with {tfhub_handle_encoder}')\n",
    "cnn_history = cnn_classifier_model.fit(x=train_ds,\n",
    "                                       validation_data=val_ds,\n",
    "                                       epochs=epochs,\n",
    "                                       class_weight=class_weight\n",
    "                                      )"
   ]
  },
  {
   "cell_type": "code",
   "execution_count": 57,
   "id": "eb8ee8ca",
   "metadata": {},
   "outputs": [
    {
     "name": "stdout",
     "output_type": "stream",
     "text": [
      "68/68 [==============================] - 895s 13s/step - loss: 0.3493 - accuracy: 0.8442\n",
      "Loss: 0.3492565453052521\n",
      "Accuracy: 0.8442095518112183\n"
     ]
    }
   ],
   "source": [
    "loss, accuracy = cnn_classifier_model.evaluate(test_ds)\n",
    "\n",
    "print(f'Loss: {loss}')\n",
    "print(f'Accuracy: {accuracy}')"
   ]
  },
  {
   "cell_type": "code",
   "execution_count": 58,
   "id": "20f6c658",
   "metadata": {},
   "outputs": [
    {
     "name": "stdout",
     "output_type": "stream",
     "text": [
      "dict_keys(['loss', 'accuracy', 'val_loss', 'val_accuracy'])\n"
     ]
    },
    {
     "data": {
      "text/plain": [
       "<matplotlib.legend.Legend at 0x2044df324c0>"
      ]
     },
     "execution_count": 58,
     "metadata": {},
     "output_type": "execute_result"
    },
    {
     "data": {
      "image/png": "[encoded data removed]",
      "text/plain": [
       "<Figure size 1200x1000 with 2 Axes>"
      ]
     },
     "metadata": {},
     "output_type": "display_data"
    }
   ],
   "source": [
    "history_dict = cnn_history.history\n",
    "print(history_dict.keys())\n",
    "\n",
    "acc = history_dict['accuracy']\n",
    "val_acc = history_dict['val_accuracy']\n",
    "# acc = history_dict['binary_accuracy']\n",
    "# val_acc = history_dict['val_binary_accuracy']\n",
    "loss = history_dict['loss']\n",
    "val_loss = history_dict['val_loss']\n",
    "\n",
    "epochs = range(1, len(acc) + 1)\n",
    "fig = plt.figure(figsize=(12, 10))\n",
    "fig.tight_layout()\n",
    "\n",
    "plt.subplot(2, 1, 1)\n",
    "# \"bo\" is for \"blue dot\"\n",
    "plt.plot(epochs, loss, 'r', label='Training loss')\n",
    "# b is for \"solid blue line\"\n",
    "plt.plot(epochs, val_loss, 'b', label='Validation loss')\n",
    "plt.title('Training and validation loss')\n",
    "# plt.xlabel('Epochs')\n",
    "plt.ylabel('Loss')\n",
    "plt.legend()\n",
    "\n",
    "plt.subplot(2, 1, 2)\n",
    "plt.plot(epochs, acc, 'r', label='Training acc')\n",
    "plt.plot(epochs, val_acc, 'b', label='Validation acc')\n",
    "plt.title('Training and validation accuracy')\n",
    "plt.xlabel('Epochs')\n",
    "plt.ylabel('Accuracy')\n",
    "plt.legend(loc='lower right')"
   ]
  },
  {
   "cell_type": "code",
   "execution_count": 59,
   "id": "61e09864",
   "metadata": {},
   "outputs": [
    {
     "name": "stderr",
     "output_type": "stream",
     "text": [
      "WARNING:absl:Found untraced functions such as _jit_compiled_convolution_op, _jit_compiled_convolution_op, restored_function_body, restored_function_body, restored_function_body while saving (showing 5 of 368). These functions will not be directly callable after loading.\n"
     ]
    }
   ],
   "source": [
    "dataset_name = 'New-dataset-BERT-CNN-2epochs-3kernels'\n",
    "saved_model_path = './{}_bert'.format(dataset_name.replace('/', '_'))\n",
    "\n",
    "cnn_classifier_model.save(saved_model_path, include_optimizer=False)"
   ]
  },
  {
   "cell_type": "code",
   "execution_count": 60,
   "id": "68353afa",
   "metadata": {},
   "outputs": [],
   "source": [
    "reloaded_model = tf.saved_model.load(saved_model_path)"
   ]
  },
  {
   "cell_type": "code",
   "execution_count": 61,
   "id": "99bd7b13",
   "metadata": {},
   "outputs": [
    {
     "name": "stdout",
     "output_type": "stream",
     "text": [
      "68/68 [==============================] - 835s 12s/step\n",
      "(2176, 3)\n"
     ]
    }
   ],
   "source": [
    "result =  cnn_classifier_model.predict(test_ds)\n",
    "print(result.shape)"
   ]
  },
  {
   "cell_type": "code",
   "execution_count": 62,
   "id": "3354ac5c",
   "metadata": {},
   "outputs": [
    {
     "data": {
      "text/plain": [
       "array([[0.9718156 , 0.02749175, 0.00069272],\n",
       "       [0.6823197 , 0.31319705, 0.00448334]], dtype=float32)"
      ]
     },
     "execution_count": 62,
     "metadata": {},
     "output_type": "execute_result"
    }
   ],
   "source": [
    "result[0:2]"
   ]
  },
  {
   "cell_type": "code",
   "execution_count": 63,
   "id": "4b5bf591",
   "metadata": {},
   "outputs": [],
   "source": [
    "classes = np.argmax(result, axis=-1)"
   ]
  },
  {
   "cell_type": "code",
   "execution_count": 64,
   "id": "492caacf",
   "metadata": {
    "scrolled": true
   },
   "outputs": [
    {
     "name": "stdout",
     "output_type": "stream",
     "text": [
      "1/1 [==============================] - 15s 15s/step\n",
      "1/1 [==============================] - 12s 12s/step\n",
      "1/1 [==============================] - 12s 12s/step\n",
      "1/1 [==============================] - 12s 12s/step\n",
      "1/1 [==============================] - 12s 12s/step\n",
      "1/1 [==============================] - 12s 12s/step\n",
      "1/1 [==============================] - 12s 12s/step\n",
      "1/1 [==============================] - 12s 12s/step\n",
      "1/1 [==============================] - 12s 12s/step\n",
      "1/1 [==============================] - 13s 13s/step\n",
      "1/1 [==============================] - 12s 12s/step\n",
      "1/1 [==============================] - 12s 12s/step\n",
      "1/1 [==============================] - 12s 12s/step\n",
      "1/1 [==============================] - 12s 12s/step\n",
      "1/1 [==============================] - 12s 12s/step\n",
      "1/1 [==============================] - 15s 15s/step\n",
      "1/1 [==============================] - 15s 15s/step\n",
      "1/1 [==============================] - 15s 15s/step\n",
      "1/1 [==============================] - 13s 13s/step\n",
      "1/1 [==============================] - 16s 16s/step\n",
      "1/1 [==============================] - 16s 16s/step\n",
      "1/1 [==============================] - 15s 15s/step\n",
      "1/1 [==============================] - 16s 16s/step\n",
      "1/1 [==============================] - 16s 16s/step\n",
      "1/1 [==============================] - 16s 16s/step\n",
      "1/1 [==============================] - 17s 17s/step\n",
      "1/1 [==============================] - 17s 17s/step\n",
      "1/1 [==============================] - 16s 16s/step\n",
      "1/1 [==============================] - 16s 16s/step\n",
      "1/1 [==============================] - 15s 15s/step\n",
      "1/1 [==============================] - 14s 14s/step\n",
      "1/1 [==============================] - 15s 15s/step\n",
      "1/1 [==============================] - 15s 15s/step\n",
      "1/1 [==============================] - 14s 14s/step\n",
      "1/1 [==============================] - 14s 14s/step\n",
      "1/1 [==============================] - 15s 15s/step\n",
      "1/1 [==============================] - 14s 14s/step\n",
      "1/1 [==============================] - 14s 14s/step\n",
      "1/1 [==============================] - 14s 14s/step\n",
      "1/1 [==============================] - 14s 14s/step\n",
      "1/1 [==============================] - 15s 15s/step\n",
      "1/1 [==============================] - 15s 15s/step\n",
      "1/1 [==============================] - 14s 14s/step\n",
      "1/1 [==============================] - 14s 14s/step\n",
      "1/1 [==============================] - 14s 14s/step\n",
      "1/1 [==============================] - 15s 15s/step\n",
      "1/1 [==============================] - 15s 15s/step\n",
      "1/1 [==============================] - 14s 14s/step\n",
      "1/1 [==============================] - 15s 15s/step\n",
      "1/1 [==============================] - 15s 15s/step\n",
      "1/1 [==============================] - 14s 14s/step\n",
      "1/1 [==============================] - 15s 15s/step\n",
      "1/1 [==============================] - 15s 15s/step\n",
      "1/1 [==============================] - 14s 14s/step\n",
      "1/1 [==============================] - 15s 15s/step\n",
      "1/1 [==============================] - 15s 15s/step\n",
      "1/1 [==============================] - 14s 14s/step\n",
      "1/1 [==============================] - 17s 17s/step\n",
      "1/1 [==============================] - 14s 14s/step\n",
      "1/1 [==============================] - 14s 14s/step\n",
      "1/1 [==============================] - 13s 13s/step\n",
      "1/1 [==============================] - 13s 13s/step\n",
      "1/1 [==============================] - 15s 15s/step\n",
      "1/1 [==============================] - 14s 14s/step\n",
      "1/1 [==============================] - 13s 13s/step\n",
      "1/1 [==============================] - 17s 17s/step\n",
      "1/1 [==============================] - 12s 12s/step\n",
      "1/1 [==============================] - 14s 14s/step\n"
     ]
    }
   ],
   "source": [
    "tweet = []\n",
    "test_labels = []\n",
    "predictions = []\n",
    "for tweet, labels in test_ds.take(-1):\n",
    "  tweet = tweet.numpy()\n",
    "  test_labels.append(labels.numpy())\n",
    "  predictions.append(cnn_classifier_model.predict(tweet))"
   ]
  },
  {
   "cell_type": "code",
   "execution_count": 65,
   "id": "3e89e85d",
   "metadata": {},
   "outputs": [
    {
     "data": {
      "text/plain": [
       "[array([0, 0, 1, 0, 1, 0, 0, 0, 0, 1, 0, 0, 1, 0, 1, 0, 0, 0, 0, 0, 0, 0,\n",
       "        1, 1, 1, 1, 0, 0, 1, 0, 0, 1], dtype=int64),\n",
       " array([1, 1, 1, 1, 0, 0, 0, 1, 1, 0, 1, 1, 1, 0, 0, 1, 0, 0, 0, 0, 0, 0,\n",
       "        1, 0, 0, 1, 1, 1, 1, 0, 1, 1], dtype=int64)]"
      ]
     },
     "execution_count": 65,
     "metadata": {},
     "output_type": "execute_result"
    }
   ],
   "source": [
    "test_labels[0:2]"
   ]
  },
  {
   "cell_type": "code",
   "execution_count": 66,
   "id": "aec2ebfe",
   "metadata": {},
   "outputs": [
    {
     "data": {
      "text/plain": [
       "[array([[0.96374923, 0.03544296, 0.00080791],\n",
       "        [0.9720544 , 0.02715195, 0.00079369],\n",
       "        [0.02467565, 0.97441655, 0.00090781],\n",
       "        [0.6984345 , 0.29847145, 0.003094  ],\n",
       "        [0.0138512 , 0.98531556, 0.00083319],\n",
       "        [0.96104026, 0.03824707, 0.00071274],\n",
       "        [0.98944575, 0.01027084, 0.00028343],\n",
       "        [0.9067863 , 0.09150556, 0.001708  ],\n",
       "        [0.8275668 , 0.17009099, 0.00234216],\n",
       "        [0.91455054, 0.08382813, 0.0016213 ],\n",
       "        [0.9690139 , 0.03028768, 0.00069844],\n",
       "        [0.9283195 , 0.07045162, 0.00122878],\n",
       "        [0.00211111, 0.99725705, 0.00063183],\n",
       "        [0.41284856, 0.5842414 , 0.00291007],\n",
       "        [0.00580786, 0.9934628 , 0.00072946],\n",
       "        [0.9511876 , 0.04784199, 0.00097042],\n",
       "        [0.45978388, 0.5384053 , 0.00181082],\n",
       "        [0.74967325, 0.24784836, 0.00247846],\n",
       "        [0.99642926, 0.00341795, 0.00015273],\n",
       "        [0.26114205, 0.73690385, 0.0019541 ],\n",
       "        [0.94243115, 0.05639432, 0.00117448],\n",
       "        [0.5157962 , 0.48094472, 0.00325914],\n",
       "        [0.00750325, 0.99211544, 0.00038135],\n",
       "        [0.4912005 , 0.50529677, 0.00350273],\n",
       "        [0.00242489, 0.99710125, 0.00047382],\n",
       "        [0.02627583, 0.9727084 , 0.00101581],\n",
       "        [0.9195107 , 0.07941581, 0.00107342],\n",
       "        [0.9793129 , 0.02008639, 0.00060077],\n",
       "        [0.00517571, 0.9943494 , 0.00047486],\n",
       "        [0.9904094 , 0.00936552, 0.00022513],\n",
       "        [0.5431165 , 0.45174626, 0.00513726],\n",
       "        [0.00179514, 0.9973665 , 0.00083844]], dtype=float32),\n",
       " array([[0.01893281, 0.9803868 , 0.00068045],\n",
       "        [0.01668038, 0.9819879 , 0.00133167],\n",
       "        [0.09355209, 0.90444976, 0.00199813],\n",
       "        [0.76631296, 0.23030066, 0.00338639],\n",
       "        [0.39040342, 0.60754025, 0.0020564 ],\n",
       "        [0.1650088 , 0.83306575, 0.0019255 ],\n",
       "        [0.90623736, 0.09162729, 0.00213533],\n",
       "        [0.00754014, 0.9918785 , 0.00058134],\n",
       "        [0.0028924 , 0.996421  , 0.00068662],\n",
       "        [0.7074425 , 0.28895232, 0.00360521],\n",
       "        [0.04131106, 0.95803803, 0.00065086],\n",
       "        [0.00213012, 0.9970324 , 0.00083751],\n",
       "        [0.2739875 , 0.723946  , 0.00206657],\n",
       "        [0.9970816 , 0.00280317, 0.00011514],\n",
       "        [0.86571383, 0.13243547, 0.00185073],\n",
       "        [0.40659678, 0.5898615 , 0.00354171],\n",
       "        [0.37203926, 0.62479824, 0.00316247],\n",
       "        [0.9741776 , 0.02510074, 0.00072164],\n",
       "        [0.99018514, 0.0094429 , 0.00037195],\n",
       "        [0.8722201 , 0.12582569, 0.00195424],\n",
       "        [0.9825502 , 0.01695595, 0.00049387],\n",
       "        [0.9587935 , 0.04032039, 0.00088618],\n",
       "        [0.00203909, 0.99723995, 0.00072099],\n",
       "        [0.930803  , 0.06789131, 0.00130571],\n",
       "        [0.9790507 , 0.02046149, 0.00048785],\n",
       "        [0.00926814, 0.990235  , 0.00049696],\n",
       "        [0.25490674, 0.7434711 , 0.00162215],\n",
       "        [0.00313526, 0.9963566 , 0.00050814],\n",
       "        [0.27587906, 0.7209532 , 0.00316774],\n",
       "        [0.8068966 , 0.18999875, 0.00310463],\n",
       "        [0.02449875, 0.9746499 , 0.00085132],\n",
       "        [0.00421923, 0.9948308 , 0.00095006]], dtype=float32)]"
      ]
     },
     "execution_count": 66,
     "metadata": {},
     "output_type": "execute_result"
    }
   ],
   "source": [
    "predictions[0:2]"
   ]
  },
  {
   "cell_type": "code",
   "execution_count": 67,
   "id": "7fdb05ed",
   "metadata": {},
   "outputs": [],
   "source": [
    "from itertools import chain"
   ]
  },
  {
   "cell_type": "code",
   "execution_count": 68,
   "id": "84448a50",
   "metadata": {},
   "outputs": [],
   "source": [
    "flatten_list = list(chain.from_iterable(predictions))\n",
    "y_pred = np.argmax(flatten_list, axis=-1)"
   ]
  },
  {
   "cell_type": "code",
   "execution_count": 69,
   "id": "41d3f9b7",
   "metadata": {},
   "outputs": [
    {
     "data": {
      "text/plain": [
       "numpy.ndarray"
      ]
     },
     "execution_count": 69,
     "metadata": {},
     "output_type": "execute_result"
    }
   ],
   "source": [
    "type(y_pred)"
   ]
  },
  {
   "cell_type": "code",
   "execution_count": 70,
   "id": "65fa8779",
   "metadata": {},
   "outputs": [],
   "source": [
    "y_test = np.array(list(chain.from_iterable(test_labels)))"
   ]
  },
  {
   "cell_type": "code",
   "execution_count": 71,
   "id": "3bbf7fa5",
   "metadata": {},
   "outputs": [
    {
     "data": {
      "text/plain": [
       "numpy.ndarray"
      ]
     },
     "execution_count": 71,
     "metadata": {},
     "output_type": "execute_result"
    }
   ],
   "source": [
    "type(y_test)"
   ]
  },
  {
   "cell_type": "code",
   "execution_count": 72,
   "id": "b9d00d7d",
   "metadata": {},
   "outputs": [
    {
     "data": {
      "text/plain": [
       "array([[1100,  211],\n",
       "       [ 134,  731]], dtype=int64)"
      ]
     },
     "execution_count": 72,
     "metadata": {},
     "output_type": "execute_result"
    }
   ],
   "source": [
    "from sklearn.metrics import confusion_matrix\n",
    "confusion_matrix(y_test, y_pred)"
   ]
  },
  {
   "cell_type": "code",
   "execution_count": 73,
   "id": "dc6d3d1d",
   "metadata": {},
   "outputs": [],
   "source": [
    "from sklearn.metrics import f1_score, accuracy_score, precision_score, recall_score, classification_report"
   ]
  },
  {
   "cell_type": "code",
   "execution_count": 74,
   "id": "d878d57e",
   "metadata": {},
   "outputs": [
    {
     "name": "stdout",
     "output_type": "stream",
     "text": [
      "Precision: 77.60084925690022\n"
     ]
    }
   ],
   "source": [
    "print(f'Precision: {precision_score(y_test, y_pred)*100}')"
   ]
  },
  {
   "cell_type": "code",
   "execution_count": 75,
   "id": "88b44f72",
   "metadata": {},
   "outputs": [
    {
     "name": "stdout",
     "output_type": "stream",
     "text": [
      "Recall: 84.5086705202312\n"
     ]
    }
   ],
   "source": [
    "print(f'Recall: {recall_score(y_test, y_pred)*100}')"
   ]
  },
  {
   "cell_type": "code",
   "execution_count": 76,
   "id": "4a5e405b",
   "metadata": {},
   "outputs": [
    {
     "name": "stdout",
     "output_type": "stream",
     "text": [
      "Accuracy:  84.14522058823529\n"
     ]
    }
   ],
   "source": [
    "print(f'Accuracy:  {accuracy_score(y_test, y_pred)*100}')"
   ]
  },
  {
   "cell_type": "code",
   "execution_count": 77,
   "id": "0ebe3a11",
   "metadata": {},
   "outputs": [
    {
     "name": "stdout",
     "output_type": "stream",
     "text": [
      "F1 Score:  80.90758162700608\n"
     ]
    }
   ],
   "source": [
    "print(f'F1 Score:  {f1_score(y_test, y_pred)*100}')"
   ]
  },
  {
   "cell_type": "code",
   "execution_count": 78,
   "id": "fe8aa033",
   "metadata": {},
   "outputs": [
    {
     "name": "stdout",
     "output_type": "stream",
     "text": [
      "              precision    recall  f1-score   support\n",
      "\n",
      "           0       0.89      0.84      0.86      1311\n",
      "           1       0.78      0.85      0.81       865\n",
      "\n",
      "    accuracy                           0.84      2176\n",
      "   macro avg       0.83      0.84      0.84      2176\n",
      "weighted avg       0.85      0.84      0.84      2176\n",
      "\n"
     ]
    }
   ],
   "source": [
    "print(classification_report(y_test, y_pred))"
   ]
  },
  {
   "cell_type": "code",
   "execution_count": 79,
   "id": "ff9a272a",
   "metadata": {},
   "outputs": [
    {
     "name": "stdout",
     "output_type": "stream",
     "text": [
      "F1 Score:  83.67579474277613\n"
     ]
    }
   ],
   "source": [
    "print(f'F1 Score:  {f1_score(y_test, y_pred, average = \"macro\")*100}')"
   ]
  },
  {
   "cell_type": "code",
   "execution_count": 80,
   "id": "227bb925",
   "metadata": {},
   "outputs": [
    {
     "name": "stdout",
     "output_type": "stream",
     "text": [
      "Precision: 83.37092705956842\n"
     ]
    }
   ],
   "source": [
    "print(f'Precision: {precision_score(y_test, y_pred, average = \"macro\")*100}')"
   ]
  },
  {
   "cell_type": "code",
   "execution_count": 81,
   "id": "c4cbd922",
   "metadata": {},
   "outputs": [
    {
     "name": "stdout",
     "output_type": "stream",
     "text": [
      "Recall: 84.20704311671362\n"
     ]
    }
   ],
   "source": [
    "print(f'Recall: {recall_score(y_test, y_pred, average = \"macro\")*100}')"
   ]
  },
  {
   "cell_type": "code",
   "execution_count": 82,
   "id": "491571b5",
   "metadata": {},
   "outputs": [
    {
     "name": "stdout",
     "output_type": "stream",
     "text": [
      "              precision    recall  f1-score   support\n",
      "\n",
      "           0       0.89      0.84      0.86      1311\n",
      "           1       0.78      0.85      0.81       865\n",
      "\n",
      "    accuracy                           0.84      2176\n",
      "   macro avg       0.83      0.84      0.84      2176\n",
      "weighted avg       0.85      0.84      0.84      2176\n",
      "\n"
     ]
    }
   ],
   "source": [
    "print(classification_report(y_test, y_pred))"
   ]
  },
  {
   "cell_type": "code",
   "execution_count": null,
   "id": "7dfe057f",
   "metadata": {},
   "outputs": [],
   "source": []
  },
  {
   "cell_type": "code",
   "execution_count": null,
   "id": "b84db1b8",
   "metadata": {},
   "outputs": [],
   "source": []
  }
 ],
 "metadata": {
  "kernelspec": {
   "display_name": "Python 3 (ipykernel)",
   "language": "python",
   "name": "python3"
  },
  "language_info": {
   "codemirror_mode": {
    "name": "ipython",
    "version": 3
   },
   "file_extension": ".py",
   "mimetype": "text/x-python",
   "name": "python",
   "nbconvert_exporter": "python",
   "pygments_lexer": "ipython3",
   "version": "3.9.16"
  }
 },
 "nbformat": 4,
 "nbformat_minor": 5
}
