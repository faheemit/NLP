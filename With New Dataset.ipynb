{
 "cells": [
  {
   "cell_type": "code",
   "execution_count": 1,
   "id": "581eb831",
   "metadata": {},
   "outputs": [
    {
     "name": "stderr",
     "output_type": "stream",
     "text": [
      "C:\\Users\\fahee\\Anaconda3\\envs\\Tensor3\\lib\\site-packages\\tensorflow_addons\\utils\\tfa_eol_msg.py:23: UserWarning: \n",
      "\n",
      "TensorFlow Addons (TFA) has ended development and introduction of new features.\n",
      "TFA has entered a minimal maintenance and release mode until a planned end of life in May 2024.\n",
      "Please modify downstream libraries to take dependencies from other repositories in our TensorFlow community (e.g. Keras, Keras-CV, and Keras-NLP). \n",
      "\n",
      "For more information see: https://github.com/tensorflow/addons/issues/2807 \n",
      "\n",
      "  warnings.warn(\n",
      "C:\\Users\\fahee\\Anaconda3\\envs\\Tensor3\\lib\\site-packages\\tqdm\\auto.py:21: TqdmWarning: IProgress not found. Please update jupyter and ipywidgets. See https://ipywidgets.readthedocs.io/en/stable/user_install.html\n",
      "  from .autonotebook import tqdm as notebook_tqdm\n"
     ]
    }
   ],
   "source": [
    "import tensorflow as tf\n",
    "from tensorflow import keras \n",
    "from keras.models import load_model\n",
    "\n",
    "from tensorflow_models import nlp"
   ]
  },
  {
   "cell_type": "code",
   "execution_count": 2,
   "id": "509b589e",
   "metadata": {},
   "outputs": [],
   "source": [
    "import os\n",
    "import matplotlib.pyplot as plt"
   ]
  },
  {
   "cell_type": "code",
   "execution_count": 3,
   "id": "aa74ab80",
   "metadata": {},
   "outputs": [],
   "source": [
    "import numpy as np\n",
    "import pandas as pd\n",
    "import matplotlib.pyplot as plt\n",
    "import seaborn as sns\n",
    "import os\n",
    "import nltk\n",
    "import re\n",
    "from nltk.corpus import stopwords\n",
    "from nltk.tokenize import word_tokenize\n",
    "from nltk.stem import SnowballStemmer\n",
    "from nltk.stem import WordNetLemmatizer\n",
    "from tensorflow_models import nlp\n",
    "from official.nlp import optimization\n",
    "import warnings\n",
    "\n",
    "warnings.filterwarnings(\"ignore\")"
   ]
  },
  {
   "cell_type": "code",
   "execution_count": 4,
   "id": "ec487ccc",
   "metadata": {},
   "outputs": [],
   "source": [
    "from sklearn.preprocessing import LabelEncoder\n",
    "from sklearn.model_selection import train_test_split"
   ]
  },
  {
   "cell_type": "code",
   "execution_count": 5,
   "id": "34ca73ac",
   "metadata": {},
   "outputs": [
    {
     "name": "stdout",
     "output_type": "stream",
     "text": [
      "2.10.0\n"
     ]
    }
   ],
   "source": [
    "import pandas as pd\n",
    "import numpy as np\n",
    "from sklearn.model_selection import GroupKFold\n",
    "import matplotlib.pyplot as plt\n",
    "from tqdm.notebook import tqdm\n",
    "import tensorflow as tf\n",
    "import tensorflow_hub as hub\n",
    "import tensorflow_text as text\n",
    "import tensorflow.keras.backend as K\n",
    "from scipy.stats import spearmanr\n",
    "from math import floor, ceil\n",
    "from transformers import *\n",
    "\n",
    "np.set_printoptions(suppress=True)\n",
    "print(tf.__version__)\n",
    "\n",
    "import shutil\n",
    "\n",
    "from official.nlp import optimization  # to create AdamW optmizer\n",
    "\n",
    "tf.get_logger().setLevel('ERROR')"
   ]
  },
  {
   "cell_type": "code",
   "execution_count": 6,
   "id": "2fe08693",
   "metadata": {},
   "outputs": [],
   "source": [
    "from tensorflow.python.keras.utils import tf_utils"
   ]
  },
  {
   "cell_type": "code",
   "execution_count": 7,
   "id": "790b369a",
   "metadata": {},
   "outputs": [],
   "source": [
    "import urduhack\n",
    "#urduhack.download()\n",
    "from urduhack.normalization import normalize\n",
    "from urduhack.preprocessing import normalize_whitespace, remove_punctuation, remove_accents, replace_urls, replace_emails, replace_numbers, replace_currency_symbols, remove_english_alphabets"
   ]
  },
  {
   "cell_type": "code",
   "execution_count": 8,
   "id": "b9ae4e37",
   "metadata": {},
   "outputs": [],
   "source": [
    "df = pd.read_csv('ISE-Level1.csv')"
   ]
  },
  {
   "cell_type": "code",
   "execution_count": 9,
   "id": "e9690a7e",
   "metadata": {},
   "outputs": [
    {
     "data": {
      "text/html": [
       "<div>\n",
       "<style scoped>\n",
       "    .dataframe tbody tr th:only-of-type {\n",
       "        vertical-align: middle;\n",
       "    }\n",
       "\n",
       "    .dataframe tbody tr th {\n",
       "        vertical-align: top;\n",
       "    }\n",
       "\n",
       "    .dataframe thead th {\n",
       "        text-align: right;\n",
       "    }\n",
       "</style>\n",
       "<table border=\"1\" class=\"dataframe\">\n",
       "  <thead>\n",
       "    <tr style=\"text-align: right;\">\n",
       "      <th></th>\n",
       "      <th>Tweet_ID</th>\n",
       "      <th>Tweet_Text</th>\n",
       "      <th>Hammad</th>\n",
       "      <th>Khurram</th>\n",
       "      <th>Final_decision</th>\n",
       "    </tr>\n",
       "  </thead>\n",
       "  <tbody>\n",
       "    <tr>\n",
       "      <th>0</th>\n",
       "      <td>12343</td>\n",
       "      <td>جو زیادہ بولتے ہیں وہ کام نہیں کرتے اور جو کام...</td>\n",
       "      <td>0</td>\n",
       "      <td>0</td>\n",
       "      <td>0</td>\n",
       "    </tr>\n",
       "    <tr>\n",
       "      <th>1</th>\n",
       "      <td>6373</td>\n",
       "      <td>کا ٹرینڈ چلانے والے asymptomatic carrier کا مط...</td>\n",
       "      <td>0</td>\n",
       "      <td>0</td>\n",
       "      <td>0</td>\n",
       "    </tr>\n",
       "    <tr>\n",
       "      <th>2</th>\n",
       "      <td>12555</td>\n",
       "      <td>جنکی گواہی خود رب کا قرآن دے جنہیں نبی کریم صل...</td>\n",
       "      <td>0</td>\n",
       "      <td>0</td>\n",
       "      <td>0</td>\n",
       "    </tr>\n",
       "    <tr>\n",
       "      <th>3</th>\n",
       "      <td>19804</td>\n",
       "      <td>KE کےبل عمران خان دے سندھ کوٹرانسپورٹ صاف پانی...</td>\n",
       "      <td>0</td>\n",
       "      <td>0</td>\n",
       "      <td>0</td>\n",
       "    </tr>\n",
       "    <tr>\n",
       "      <th>4</th>\n",
       "      <td>19713</td>\n",
       "      <td>اب اس ناسور کاخاتمہ ناگریز ہو چکا ہے</td>\n",
       "      <td>0</td>\n",
       "      <td>0</td>\n",
       "      <td>0</td>\n",
       "    </tr>\n",
       "    <tr>\n",
       "      <th>...</th>\n",
       "      <td>...</td>\n",
       "      <td>...</td>\n",
       "      <td>...</td>\n",
       "      <td>...</td>\n",
       "      <td>...</td>\n",
       "    </tr>\n",
       "    <tr>\n",
       "      <th>21754</th>\n",
       "      <td>2886</td>\n",
       "      <td>میرے مطابق! ضامن میراثی معافی کی ویڈیومیں کہتا...</td>\n",
       "      <td>1</td>\n",
       "      <td>1</td>\n",
       "      <td>1</td>\n",
       "    </tr>\n",
       "    <tr>\n",
       "      <th>21755</th>\n",
       "      <td>2183</td>\n",
       "      <td>نیز جو شخص اس کے کفر و ارتداد میں شک کرے یا اس...</td>\n",
       "      <td>1</td>\n",
       "      <td>0</td>\n",
       "      <td>1</td>\n",
       "    </tr>\n",
       "    <tr>\n",
       "      <th>21756</th>\n",
       "      <td>18150</td>\n",
       "      <td>الحمداللہ اقلیتی کونسل کی سربراہی بتوں کی پرست...</td>\n",
       "      <td>1</td>\n",
       "      <td>0</td>\n",
       "      <td>1</td>\n",
       "    </tr>\n",
       "    <tr>\n",
       "      <th>21757</th>\n",
       "      <td>8480</td>\n",
       "      <td>شیعہ کے بعض اصول اور نظریات کو اسلامی معاشروں ...</td>\n",
       "      <td>1</td>\n",
       "      <td>0</td>\n",
       "      <td>1</td>\n",
       "    </tr>\n",
       "    <tr>\n",
       "      <th>21758</th>\n",
       "      <td>8275</td>\n",
       "      <td>صرف تبرا ہی نہیں شیعہ کی تمام رسومات شرارت ہی ...</td>\n",
       "      <td>1</td>\n",
       "      <td>0</td>\n",
       "      <td>1</td>\n",
       "    </tr>\n",
       "  </tbody>\n",
       "</table>\n",
       "<p>21759 rows × 5 columns</p>\n",
       "</div>"
      ],
      "text/plain": [
       "       Tweet_ID                                         Tweet_Text  Hammad  \\\n",
       "0         12343  جو زیادہ بولتے ہیں وہ کام نہیں کرتے اور جو کام...       0   \n",
       "1          6373  کا ٹرینڈ چلانے والے asymptomatic carrier کا مط...       0   \n",
       "2         12555  جنکی گواہی خود رب کا قرآن دے جنہیں نبی کریم صل...       0   \n",
       "3         19804  KE کےبل عمران خان دے سندھ کوٹرانسپورٹ صاف پانی...       0   \n",
       "4         19713               اب اس ناسور کاخاتمہ ناگریز ہو چکا ہے       0   \n",
       "...         ...                                                ...     ...   \n",
       "21754      2886  میرے مطابق! ضامن میراثی معافی کی ویڈیومیں کہتا...       1   \n",
       "21755      2183  نیز جو شخص اس کے کفر و ارتداد میں شک کرے یا اس...       1   \n",
       "21756     18150  الحمداللہ اقلیتی کونسل کی سربراہی بتوں کی پرست...       1   \n",
       "21757      8480  شیعہ کے بعض اصول اور نظریات کو اسلامی معاشروں ...       1   \n",
       "21758      8275  صرف تبرا ہی نہیں شیعہ کی تمام رسومات شرارت ہی ...       1   \n",
       "\n",
       "       Khurram  Final_decision  \n",
       "0            0               0  \n",
       "1            0               0  \n",
       "2            0               0  \n",
       "3            0               0  \n",
       "4            0               0  \n",
       "...        ...             ...  \n",
       "21754        1               1  \n",
       "21755        0               1  \n",
       "21756        0               1  \n",
       "21757        0               1  \n",
       "21758        0               1  \n",
       "\n",
       "[21759 rows x 5 columns]"
      ]
     },
     "execution_count": 9,
     "metadata": {},
     "output_type": "execute_result"
    }
   ],
   "source": [
    "df"
   ]
  },
  {
   "cell_type": "code",
   "execution_count": null,
   "id": "bf5729e0",
   "metadata": {},
   "outputs": [],
   "source": []
  },
  {
   "cell_type": "code",
   "execution_count": 10,
   "id": "6ea9babd",
   "metadata": {},
   "outputs": [
    {
     "data": {
      "text/plain": [
       "[<matplotlib.lines.Line2D at 0x1f17691e970>]"
      ]
     },
     "execution_count": 10,
     "metadata": {},
     "output_type": "execute_result"
    },
    {
     "data": {
      "image/png": "[encoded data removed]",
      "text/plain": [
       "<Figure size 640x480 with 1 Axes>"
      ]
     },
     "metadata": {},
     "output_type": "display_data"
    }
   ],
   "source": [
    "plt.plot(df['Final_decision'].value_counts())"
   ]
  },
  {
   "cell_type": "code",
   "execution_count": 11,
   "id": "9fda30d3",
   "metadata": {},
   "outputs": [
    {
     "data": {
      "image/png": "[encoded data removed]",
      "text/plain": [
       "<Figure size 640x480 with 1 Axes>"
      ]
     },
     "metadata": {},
     "output_type": "display_data"
    }
   ],
   "source": [
    "sns.countplot( x = 'Final_decision', data = df );"
   ]
  },
  {
   "cell_type": "code",
   "execution_count": 12,
   "id": "03fdd46d",
   "metadata": {},
   "outputs": [],
   "source": [
    "df['Tweet_Text'] = df['Tweet_Text'].apply(normalize) # To normalize some text, all you need to do pass unicode text. It will return a str with normalized characters both single and combined, proper spaces after digits and punctuations and diacritics(Zabar - Paish) removed.\n",
    "df['Tweet_Text'] = df['Tweet_Text'].apply(remove_punctuation) # Remove punctuation from text by removing all instances of marks. marks=',;:'\n",
    "df['Tweet_Text'] = df['Tweet_Text'].apply(remove_accents) # Remove accents from any accented unicode characters in text str, either by transforming them into ascii equivalents or removing them entirely.\n",
    "df['Tweet_Text'] = df['Tweet_Text'].apply(replace_urls) # Replace all URLs in text str with replace_with str.\n",
    "df['Tweet_Text'] = df['Tweet_Text'].apply(replace_emails) # Replace all emails in text str with replace_with str.df['comment_text'] = df['comment_text'].apply(replace_numbers) # Replace all numbers in text str with replace_with str.\n",
    "df['Tweet_Text'] = df['Tweet_Text'].apply(replace_currency_symbols) # Replace all currency symbols in text str with string specified by replace_with str.\n",
    "df['Tweet_Text'] = df['Tweet_Text'].apply(remove_english_alphabets) # Removes English words and digits from a text\n",
    "df['Tweet_Text'] = df['Tweet_Text'].apply(normalize_whitespace) ## Given text str, replace one or more spacings with a single space, and one or more linebreaks with a single newline. Also strip leading/trailing whitespace."
   ]
  },
  {
   "cell_type": "code",
   "execution_count": 13,
   "id": "4fd1d4a0",
   "metadata": {},
   "outputs": [],
   "source": [
    "from typing import FrozenSet\n",
    "\n",
    "# Urdu Language Stop words list\n",
    "STOP_WORDS: FrozenSet[str] = frozenset(\"\"\"\n",
    " آ آئی آئیں آئے آتا آتی آتے آس آمدید آنا آنسہ آنی آنے آپ آگے آہ آہا آیا اب ابھی ابے\n",
    " ارے اس اسکا اسکی اسکے اسی اسے اف افوہ البتہ الف ان اندر انکا انکی انکے انہوں انہی انہیں اوئے اور اوپر\n",
    " اوہو اپ اپنا اپنوں اپنی اپنے اپنےآپ اکثر اگر اگرچہ اہاہا ایسا ایسی ایسے ایک بائیں بار بارے بالکل باوجود باہر\n",
    " بج بجے بخیر بشرطیکہ بعد بعض بغیر بلکہ بن بنا بناؤ بند بڑی بھر بھریں بھی بہت بہتر تاکہ تاہم تب تجھ\n",
    " تجھی تجھے ترا تری تلک تم تمام تمہارا تمہاروں تمہاری تمہارے تمہیں تو تک تھا تھی تھیں تھے تیرا تیری تیرے\n",
    " جا جاؤ جائیں جائے جاتا جاتی جاتے جانی جانے جب جبکہ جدھر جس جسے جن جناب جنہوں جنہیں جو جہاں جی جیسا\n",
    " جیسوں جیسی جیسے حالانکہ حالاں حصہ حضرت خاطر خالی خواہ خوب خود دائیں درمیان دریں دو دوران دوسرا دوسروں دوسری دوں\n",
    " دکھائیں دی دیئے دیا دیتا دیتی دیتے دیر دینا دینی دینے دیکھو دیں دیے دے ذریعے رکھا رکھتا رکھتی رکھتے رکھنا رکھنی\n",
    " رکھنے رکھو رکھی رکھے رہ رہا رہتا رہتی رہتے رہنا رہنی رہنے رہو رہی رہیں رہے ساتھ سامنے ساڑھے سب سبھی\n",
    " سراسر سمیت سوا سوائے سکا سکتا سکتے سہ سہی سی سے شاید شکریہ صاحب صاحبہ صرف ضرور طرح طرف طور علاوہ عین\n",
    " فقط فلاں فی قبل قطا لئے لائی لائے لاتا لاتی لاتے لانا لانی لانے لایا لو لوجی لوگوں لگ لگا لگتا\n",
    " لگتی لگی لگیں لگے لہذا لی لیا لیتا لیتی لیتے لیکن لیں لیے لے ماسوا مت مجھ مجھی مجھے محترم محترمہ محض\n",
    " مرا مرحبا مری مرے مزید مس مسز مسٹر مطابق مل مکرمی مگر مگھر مہربانی میرا میروں میری میرے میں نا نزدیک\n",
    " نما نہ نہیں نیز نیچے نے و وار واسطے واقعی والا والوں والی والے واہ وجہ ورنہ وغیرہ ولے وگرنہ وہ وہاں\n",
    " وہی وہیں ویسا ویسے ویں پاس پایا پر پس پلیز پون پونی پونے پھر پہ پہلا پہلی پہلے پیر پیچھے چاہئے\n",
    " چاہتے چاہیئے چاہے چلا چلو چلیں چلے چناچہ چند چونکہ چکی چکیں چکے ڈالنا ڈالنی ڈالنے ڈالے کئے کا کاش کب کبھی\n",
    " کدھر کر کرتا کرتی کرتے کرم کرنا کرنے کرو کریں کرے کس کسی کسے کم کن کنہیں کو کوئی کون کونسا\n",
    " کونسے کچھ کہ کہا کہاں کہہ کہی کہیں کہے کی کیا کیسا کیسے کیونکر کیونکہ کیوں کیے کے گئی گئے گا گنا\n",
    " گو گویا گی گیا ہائیں ہائے ہاں ہر ہرچند ہرگز ہم ہمارا ہماری ہمارے ہمی ہمیں ہو ہوئی ہوئیں ہوئے ہوا\n",
    " ہوبہو ہوتا ہوتی ہوتیں ہوتے ہونا ہونگے ہونی ہونے ہوں ہی ہیلو ہیں ہے یا یات یعنی یک یہ یہاں یہی یہیں\n",
    "\"\"\".split())\n",
    "\n",
    "\n",
    "def remove_stopwords(text: str):\n",
    "    return \" \".join(word for word in text.split() if word not in STOP_WORDS)"
   ]
  },
  {
   "cell_type": "code",
   "execution_count": 14,
   "id": "d9fc82a5",
   "metadata": {},
   "outputs": [
    {
     "data": {
      "text/html": [
       "<div>\n",
       "<style scoped>\n",
       "    .dataframe tbody tr th:only-of-type {\n",
       "        vertical-align: middle;\n",
       "    }\n",
       "\n",
       "    .dataframe tbody tr th {\n",
       "        vertical-align: top;\n",
       "    }\n",
       "\n",
       "    .dataframe thead th {\n",
       "        text-align: right;\n",
       "    }\n",
       "</style>\n",
       "<table border=\"1\" class=\"dataframe\">\n",
       "  <thead>\n",
       "    <tr style=\"text-align: right;\">\n",
       "      <th></th>\n",
       "      <th>Tweet_Text</th>\n",
       "    </tr>\n",
       "  </thead>\n",
       "  <tbody>\n",
       "    <tr>\n",
       "      <th>0</th>\n",
       "      <td>جو زیادہ بولتے ہیں وہ کام نہیں کرتے اور جو کام...</td>\n",
       "    </tr>\n",
       "    <tr>\n",
       "      <th>1</th>\n",
       "      <td>کا ٹرینڈ چلانے والے کا مطلب اور کے فوائد سے وا...</td>\n",
       "    </tr>\n",
       "    <tr>\n",
       "      <th>2</th>\n",
       "      <td>جنکی گواہی خود رب کا قرآن دے جنہیں نبی کریم صل...</td>\n",
       "    </tr>\n",
       "    <tr>\n",
       "      <th>3</th>\n",
       "      <td>کےبل عمران خان دے سندھ کوٹرانسپورٹ صاف پانی بھ...</td>\n",
       "    </tr>\n",
       "    <tr>\n",
       "      <th>4</th>\n",
       "      <td>اب اس ناسور کاخاتمہ ناگریز ہو چکا ہے</td>\n",
       "    </tr>\n",
       "    <tr>\n",
       "      <th>5</th>\n",
       "      <td>یقین مانو اللہ تعالی ہم سے ناراض ہیں اتنا نارا...</td>\n",
       "    </tr>\n",
       "    <tr>\n",
       "      <th>6</th>\n",
       "      <td>واہ جمیل بھائی آپ نے اپنے فاروقی نام کی لاج رک...</td>\n",
       "    </tr>\n",
       "    <tr>\n",
       "      <th>7</th>\n",
       "      <td>ڈاکٹر صاحب کی ٹویٹ کے نیچے دیکھیں</td>\n",
       "    </tr>\n",
       "    <tr>\n",
       "      <th>8</th>\n",
       "      <td>پوری دنیا بیماری کا اعلاج تلاش کر رہی ھے پاکست...</td>\n",
       "    </tr>\n",
       "    <tr>\n",
       "      <th>9</th>\n",
       "      <td>دوستوں آج آپ نے ٹویٹ کے ساتھ ساتھ ریٹوٹ پر بھی...</td>\n",
       "    </tr>\n",
       "  </tbody>\n",
       "</table>\n",
       "</div>"
      ],
      "text/plain": [
       "                                          Tweet_Text\n",
       "0  جو زیادہ بولتے ہیں وہ کام نہیں کرتے اور جو کام...\n",
       "1  کا ٹرینڈ چلانے والے کا مطلب اور کے فوائد سے وا...\n",
       "2  جنکی گواہی خود رب کا قرآن دے جنہیں نبی کریم صل...\n",
       "3  کےبل عمران خان دے سندھ کوٹرانسپورٹ صاف پانی بھ...\n",
       "4               اب اس ناسور کاخاتمہ ناگریز ہو چکا ہے\n",
       "5  یقین مانو اللہ تعالی ہم سے ناراض ہیں اتنا نارا...\n",
       "6  واہ جمیل بھائی آپ نے اپنے فاروقی نام کی لاج رک...\n",
       "7                  ڈاکٹر صاحب کی ٹویٹ کے نیچے دیکھیں\n",
       "8  پوری دنیا بیماری کا اعلاج تلاش کر رہی ھے پاکست...\n",
       "9  دوستوں آج آپ نے ٹویٹ کے ساتھ ساتھ ریٹوٹ پر بھی..."
      ]
     },
     "execution_count": 14,
     "metadata": {},
     "output_type": "execute_result"
    }
   ],
   "source": [
    "df[['Tweet_Text']].head(10)"
   ]
  },
  {
   "cell_type": "code",
   "execution_count": 15,
   "id": "c5fcaf4a",
   "metadata": {},
   "outputs": [
    {
     "data": {
      "text/html": [
       "<div>\n",
       "<style scoped>\n",
       "    .dataframe tbody tr th:only-of-type {\n",
       "        vertical-align: middle;\n",
       "    }\n",
       "\n",
       "    .dataframe tbody tr th {\n",
       "        vertical-align: top;\n",
       "    }\n",
       "\n",
       "    .dataframe thead th {\n",
       "        text-align: right;\n",
       "    }\n",
       "</style>\n",
       "<table border=\"1\" class=\"dataframe\">\n",
       "  <thead>\n",
       "    <tr style=\"text-align: right;\">\n",
       "      <th></th>\n",
       "      <th>Tweet_ID</th>\n",
       "      <th>Tweet_Text</th>\n",
       "      <th>Hammad</th>\n",
       "      <th>Khurram</th>\n",
       "      <th>Final_decision</th>\n",
       "    </tr>\n",
       "  </thead>\n",
       "  <tbody>\n",
       "    <tr>\n",
       "      <th>0</th>\n",
       "      <td>12343</td>\n",
       "      <td>جو زیادہ بولتے ہیں وہ کام نہیں کرتے اور جو کام...</td>\n",
       "      <td>0</td>\n",
       "      <td>0</td>\n",
       "      <td>0</td>\n",
       "    </tr>\n",
       "    <tr>\n",
       "      <th>1</th>\n",
       "      <td>6373</td>\n",
       "      <td>کا ٹرینڈ چلانے والے کا مطلب اور کے فوائد سے وا...</td>\n",
       "      <td>0</td>\n",
       "      <td>0</td>\n",
       "      <td>0</td>\n",
       "    </tr>\n",
       "    <tr>\n",
       "      <th>2</th>\n",
       "      <td>12555</td>\n",
       "      <td>جنکی گواہی خود رب کا قرآن دے جنہیں نبی کریم صل...</td>\n",
       "      <td>0</td>\n",
       "      <td>0</td>\n",
       "      <td>0</td>\n",
       "    </tr>\n",
       "    <tr>\n",
       "      <th>3</th>\n",
       "      <td>19804</td>\n",
       "      <td>کےبل عمران خان دے سندھ کوٹرانسپورٹ صاف پانی بھ...</td>\n",
       "      <td>0</td>\n",
       "      <td>0</td>\n",
       "      <td>0</td>\n",
       "    </tr>\n",
       "    <tr>\n",
       "      <th>4</th>\n",
       "      <td>19713</td>\n",
       "      <td>اب اس ناسور کاخاتمہ ناگریز ہو چکا ہے</td>\n",
       "      <td>0</td>\n",
       "      <td>0</td>\n",
       "      <td>0</td>\n",
       "    </tr>\n",
       "    <tr>\n",
       "      <th>...</th>\n",
       "      <td>...</td>\n",
       "      <td>...</td>\n",
       "      <td>...</td>\n",
       "      <td>...</td>\n",
       "      <td>...</td>\n",
       "    </tr>\n",
       "    <tr>\n",
       "      <th>21754</th>\n",
       "      <td>2886</td>\n",
       "      <td>میرے مطابق ضامن میراثی معافی کی ویڈیومیں کہتا ...</td>\n",
       "      <td>1</td>\n",
       "      <td>1</td>\n",
       "      <td>1</td>\n",
       "    </tr>\n",
       "    <tr>\n",
       "      <th>21755</th>\n",
       "      <td>2183</td>\n",
       "      <td>نیز جو شخص اس کے کفر و ارتداد میں شک کرے یا اس...</td>\n",
       "      <td>1</td>\n",
       "      <td>0</td>\n",
       "      <td>1</td>\n",
       "    </tr>\n",
       "    <tr>\n",
       "      <th>21756</th>\n",
       "      <td>18150</td>\n",
       "      <td>الحمداللہ اقلیتی کونسل کی سربراہی بتوں کی پرست...</td>\n",
       "      <td>1</td>\n",
       "      <td>0</td>\n",
       "      <td>1</td>\n",
       "    </tr>\n",
       "    <tr>\n",
       "      <th>21757</th>\n",
       "      <td>8480</td>\n",
       "      <td>شیعہ کے بعض اصول اور نظریات کو اسلامی معاشروں ...</td>\n",
       "      <td>1</td>\n",
       "      <td>0</td>\n",
       "      <td>1</td>\n",
       "    </tr>\n",
       "    <tr>\n",
       "      <th>21758</th>\n",
       "      <td>8275</td>\n",
       "      <td>صرف تبرا ہی نہیں شیعہ کی تمام رسومات شرارت ہی ...</td>\n",
       "      <td>1</td>\n",
       "      <td>0</td>\n",
       "      <td>1</td>\n",
       "    </tr>\n",
       "  </tbody>\n",
       "</table>\n",
       "<p>21759 rows × 5 columns</p>\n",
       "</div>"
      ],
      "text/plain": [
       "       Tweet_ID                                         Tweet_Text  Hammad  \\\n",
       "0         12343  جو زیادہ بولتے ہیں وہ کام نہیں کرتے اور جو کام...       0   \n",
       "1          6373  کا ٹرینڈ چلانے والے کا مطلب اور کے فوائد سے وا...       0   \n",
       "2         12555  جنکی گواہی خود رب کا قرآن دے جنہیں نبی کریم صل...       0   \n",
       "3         19804  کےبل عمران خان دے سندھ کوٹرانسپورٹ صاف پانی بھ...       0   \n",
       "4         19713               اب اس ناسور کاخاتمہ ناگریز ہو چکا ہے       0   \n",
       "...         ...                                                ...     ...   \n",
       "21754      2886  میرے مطابق ضامن میراثی معافی کی ویڈیومیں کہتا ...       1   \n",
       "21755      2183  نیز جو شخص اس کے کفر و ارتداد میں شک کرے یا اس...       1   \n",
       "21756     18150  الحمداللہ اقلیتی کونسل کی سربراہی بتوں کی پرست...       1   \n",
       "21757      8480  شیعہ کے بعض اصول اور نظریات کو اسلامی معاشروں ...       1   \n",
       "21758      8275  صرف تبرا ہی نہیں شیعہ کی تمام رسومات شرارت ہی ...       1   \n",
       "\n",
       "       Khurram  Final_decision  \n",
       "0            0               0  \n",
       "1            0               0  \n",
       "2            0               0  \n",
       "3            0               0  \n",
       "4            0               0  \n",
       "...        ...             ...  \n",
       "21754        1               1  \n",
       "21755        0               1  \n",
       "21756        0               1  \n",
       "21757        0               1  \n",
       "21758        0               1  \n",
       "\n",
       "[21759 rows x 5 columns]"
      ]
     },
     "execution_count": 15,
     "metadata": {},
     "output_type": "execute_result"
    }
   ],
   "source": [
    "df"
   ]
  },
  {
   "cell_type": "code",
   "execution_count": 16,
   "id": "617b8e6d",
   "metadata": {},
   "outputs": [
    {
     "data": {
      "text/html": [
       "<div>\n",
       "<style scoped>\n",
       "    .dataframe tbody tr th:only-of-type {\n",
       "        vertical-align: middle;\n",
       "    }\n",
       "\n",
       "    .dataframe tbody tr th {\n",
       "        vertical-align: top;\n",
       "    }\n",
       "\n",
       "    .dataframe thead th {\n",
       "        text-align: right;\n",
       "    }\n",
       "</style>\n",
       "<table border=\"1\" class=\"dataframe\">\n",
       "  <thead>\n",
       "    <tr style=\"text-align: right;\">\n",
       "      <th></th>\n",
       "      <th>text</th>\n",
       "      <th>category</th>\n",
       "      <th>label</th>\n",
       "    </tr>\n",
       "  </thead>\n",
       "  <tbody>\n",
       "    <tr>\n",
       "      <th>0</th>\n",
       "      <td>جو زیادہ بولتے ہیں وہ کام نہیں کرتے اور جو کام...</td>\n",
       "      <td>False</td>\n",
       "      <td>0</td>\n",
       "    </tr>\n",
       "    <tr>\n",
       "      <th>1</th>\n",
       "      <td>کا ٹرینڈ چلانے والے کا مطلب اور کے فوائد سے وا...</td>\n",
       "      <td>False</td>\n",
       "      <td>0</td>\n",
       "    </tr>\n",
       "    <tr>\n",
       "      <th>2</th>\n",
       "      <td>جنکی گواہی خود رب کا قرآن دے جنہیں نبی کریم صل...</td>\n",
       "      <td>False</td>\n",
       "      <td>0</td>\n",
       "    </tr>\n",
       "    <tr>\n",
       "      <th>3</th>\n",
       "      <td>کےبل عمران خان دے سندھ کوٹرانسپورٹ صاف پانی بھ...</td>\n",
       "      <td>False</td>\n",
       "      <td>0</td>\n",
       "    </tr>\n",
       "    <tr>\n",
       "      <th>4</th>\n",
       "      <td>اب اس ناسور کاخاتمہ ناگریز ہو چکا ہے</td>\n",
       "      <td>False</td>\n",
       "      <td>0</td>\n",
       "    </tr>\n",
       "    <tr>\n",
       "      <th>...</th>\n",
       "      <td>...</td>\n",
       "      <td>...</td>\n",
       "      <td>...</td>\n",
       "    </tr>\n",
       "    <tr>\n",
       "      <th>21754</th>\n",
       "      <td>میرے مطابق ضامن میراثی معافی کی ویڈیومیں کہتا ...</td>\n",
       "      <td>True</td>\n",
       "      <td>1</td>\n",
       "    </tr>\n",
       "    <tr>\n",
       "      <th>21755</th>\n",
       "      <td>نیز جو شخص اس کے کفر و ارتداد میں شک کرے یا اس...</td>\n",
       "      <td>True</td>\n",
       "      <td>1</td>\n",
       "    </tr>\n",
       "    <tr>\n",
       "      <th>21756</th>\n",
       "      <td>الحمداللہ اقلیتی کونسل کی سربراہی بتوں کی پرست...</td>\n",
       "      <td>True</td>\n",
       "      <td>1</td>\n",
       "    </tr>\n",
       "    <tr>\n",
       "      <th>21757</th>\n",
       "      <td>شیعہ کے بعض اصول اور نظریات کو اسلامی معاشروں ...</td>\n",
       "      <td>True</td>\n",
       "      <td>1</td>\n",
       "    </tr>\n",
       "    <tr>\n",
       "      <th>21758</th>\n",
       "      <td>صرف تبرا ہی نہیں شیعہ کی تمام رسومات شرارت ہی ...</td>\n",
       "      <td>True</td>\n",
       "      <td>1</td>\n",
       "    </tr>\n",
       "  </tbody>\n",
       "</table>\n",
       "<p>21759 rows × 3 columns</p>\n",
       "</div>"
      ],
      "text/plain": [
       "                                                    text category  label\n",
       "0      جو زیادہ بولتے ہیں وہ کام نہیں کرتے اور جو کام...    False      0\n",
       "1      کا ٹرینڈ چلانے والے کا مطلب اور کے فوائد سے وا...    False      0\n",
       "2      جنکی گواہی خود رب کا قرآن دے جنہیں نبی کریم صل...    False      0\n",
       "3      کےبل عمران خان دے سندھ کوٹرانسپورٹ صاف پانی بھ...    False      0\n",
       "4                   اب اس ناسور کاخاتمہ ناگریز ہو چکا ہے    False      0\n",
       "...                                                  ...      ...    ...\n",
       "21754  میرے مطابق ضامن میراثی معافی کی ویڈیومیں کہتا ...     True      1\n",
       "21755  نیز جو شخص اس کے کفر و ارتداد میں شک کرے یا اس...     True      1\n",
       "21756  الحمداللہ اقلیتی کونسل کی سربراہی بتوں کی پرست...     True      1\n",
       "21757  شیعہ کے بعض اصول اور نظریات کو اسلامی معاشروں ...     True      1\n",
       "21758  صرف تبرا ہی نہیں شیعہ کی تمام رسومات شرارت ہی ...     True      1\n",
       "\n",
       "[21759 rows x 3 columns]"
      ]
     },
     "execution_count": 16,
     "metadata": {},
     "output_type": "execute_result"
    }
   ],
   "source": [
    "c=df['Final_decision']\n",
    "df.rename(columns={'Tweet_Text' : 'text',\n",
    "                   'Final_decision' : 'category'}, \n",
    "                    inplace=True)\n",
    "a=df['text']\n",
    "b=df['category'].map({0: 'False', 1: 'True'})\n",
    "\n",
    "df= pd.concat([a,b,c], axis=1)\n",
    "df.rename(columns={'Final_decision' : 'label'}, \n",
    "                    inplace=True)\n",
    "df"
   ]
  },
  {
   "cell_type": "code",
   "execution_count": 17,
   "id": "705fa99c",
   "metadata": {},
   "outputs": [
    {
     "data": {
      "text/html": [
       "<div>\n",
       "<style scoped>\n",
       "    .dataframe tbody tr th:only-of-type {\n",
       "        vertical-align: middle;\n",
       "    }\n",
       "\n",
       "    .dataframe tbody tr th {\n",
       "        vertical-align: top;\n",
       "    }\n",
       "\n",
       "    .dataframe thead th {\n",
       "        text-align: right;\n",
       "    }\n",
       "</style>\n",
       "<table border=\"1\" class=\"dataframe\">\n",
       "  <thead>\n",
       "    <tr style=\"text-align: right;\">\n",
       "      <th></th>\n",
       "      <th>text</th>\n",
       "      <th>category</th>\n",
       "    </tr>\n",
       "    <tr>\n",
       "      <th>label</th>\n",
       "      <th></th>\n",
       "      <th></th>\n",
       "    </tr>\n",
       "  </thead>\n",
       "  <tbody>\n",
       "    <tr>\n",
       "      <th>0</th>\n",
       "      <td>13107</td>\n",
       "      <td>13107</td>\n",
       "    </tr>\n",
       "    <tr>\n",
       "      <th>1</th>\n",
       "      <td>8652</td>\n",
       "      <td>8652</td>\n",
       "    </tr>\n",
       "  </tbody>\n",
       "</table>\n",
       "</div>"
      ],
      "text/plain": [
       "        text  category\n",
       "label                 \n",
       "0      13107     13107\n",
       "1       8652      8652"
      ]
     },
     "execution_count": 17,
     "metadata": {},
     "output_type": "execute_result"
    }
   ],
   "source": [
    "df.groupby('label').count()"
   ]
  },
  {
   "cell_type": "code",
   "execution_count": 18,
   "id": "8d093635",
   "metadata": {},
   "outputs": [
    {
     "name": "stdout",
     "output_type": "stream",
     "text": [
      "Examples:\n",
      "    Total: 21759\n",
      "    hate: 13107 (60.24% of total)\n",
      "\n",
      "Examples:\n",
      "    Total: 21759\n",
      "    Ofensive: 8652 (39.76% of total)\n",
      "\n"
     ]
    }
   ],
   "source": [
    "false, true = np.bincount(df['label'])\n",
    "total = false + true\n",
    "print('Examples:\\n    Total: {}\\n    hate: {} ({:.2f}% of total)\\n'.format(\n",
    "    total, false, 100 * false / total))\n",
    "print('Examples:\\n    Total: {}\\n    Ofensive: {} ({:.2f}% of total)\\n'.format(\n",
    "    total, true, 100 * true / total))"
   ]
  },
  {
   "cell_type": "code",
   "execution_count": 19,
   "id": "1b3272c4",
   "metadata": {},
   "outputs": [],
   "source": [
    "X_train_, X_test, y_train_, y_test = train_test_split(\n",
    "    df.index.values,\n",
    "    df.label.values,\n",
    "    test_size=0.10,\n",
    "    random_state=42,\n",
    "    stratify=df.label.values,    \n",
    ")"
   ]
  },
  {
   "cell_type": "code",
   "execution_count": 20,
   "id": "d6711c73",
   "metadata": {},
   "outputs": [],
   "source": [
    "X_train, X_val, y_train, y_val = train_test_split(\n",
    "    df.loc[X_train_].index.values,\n",
    "    df.loc[X_train_].label.values,\n",
    "    test_size=0.10,\n",
    "    random_state=42,\n",
    "    stratify=df.loc[X_train_].label.values,  \n",
    ")"
   ]
  },
  {
   "cell_type": "code",
   "execution_count": 21,
   "id": "4c1238ff",
   "metadata": {},
   "outputs": [],
   "source": [
    "df['data_type'] = ['not_set']*df.shape[0]\n",
    "df.loc[X_train, 'data_type'] = 'train'\n",
    "df.loc[X_val, 'data_type'] = 'val'\n",
    "df.loc[X_test, 'data_type'] = 'test'"
   ]
  },
  {
   "cell_type": "code",
   "execution_count": 22,
   "id": "8316de26",
   "metadata": {},
   "outputs": [
    {
     "data": {
      "text/html": [
       "<div>\n",
       "<style scoped>\n",
       "    .dataframe tbody tr th:only-of-type {\n",
       "        vertical-align: middle;\n",
       "    }\n",
       "\n",
       "    .dataframe tbody tr th {\n",
       "        vertical-align: top;\n",
       "    }\n",
       "\n",
       "    .dataframe thead th {\n",
       "        text-align: right;\n",
       "    }\n",
       "</style>\n",
       "<table border=\"1\" class=\"dataframe\">\n",
       "  <thead>\n",
       "    <tr style=\"text-align: right;\">\n",
       "      <th></th>\n",
       "      <th></th>\n",
       "      <th></th>\n",
       "      <th>text</th>\n",
       "    </tr>\n",
       "    <tr>\n",
       "      <th>category</th>\n",
       "      <th>label</th>\n",
       "      <th>data_type</th>\n",
       "      <th></th>\n",
       "    </tr>\n",
       "  </thead>\n",
       "  <tbody>\n",
       "    <tr>\n",
       "      <th rowspan=\"3\" valign=\"top\">False</th>\n",
       "      <th rowspan=\"3\" valign=\"top\">0</th>\n",
       "      <th>test</th>\n",
       "      <td>1311</td>\n",
       "    </tr>\n",
       "    <tr>\n",
       "      <th>train</th>\n",
       "      <td>10616</td>\n",
       "    </tr>\n",
       "    <tr>\n",
       "      <th>val</th>\n",
       "      <td>1180</td>\n",
       "    </tr>\n",
       "    <tr>\n",
       "      <th rowspan=\"3\" valign=\"top\">True</th>\n",
       "      <th rowspan=\"3\" valign=\"top\">1</th>\n",
       "      <th>test</th>\n",
       "      <td>865</td>\n",
       "    </tr>\n",
       "    <tr>\n",
       "      <th>train</th>\n",
       "      <td>7008</td>\n",
       "    </tr>\n",
       "    <tr>\n",
       "      <th>val</th>\n",
       "      <td>779</td>\n",
       "    </tr>\n",
       "  </tbody>\n",
       "</table>\n",
       "</div>"
      ],
      "text/plain": [
       "                           text\n",
       "category label data_type       \n",
       "False    0     test        1311\n",
       "               train      10616\n",
       "               val         1180\n",
       "True     1     test         865\n",
       "               train       7008\n",
       "               val          779"
      ]
     },
     "execution_count": 22,
     "metadata": {},
     "output_type": "execute_result"
    }
   ],
   "source": [
    "df.groupby(['category', 'label', 'data_type']).count()"
   ]
  },
  {
   "cell_type": "code",
   "execution_count": 23,
   "id": "84b53c4b",
   "metadata": {},
   "outputs": [
    {
     "data": {
      "text/html": [
       "<div>\n",
       "<style scoped>\n",
       "    .dataframe tbody tr th:only-of-type {\n",
       "        vertical-align: middle;\n",
       "    }\n",
       "\n",
       "    .dataframe tbody tr th {\n",
       "        vertical-align: top;\n",
       "    }\n",
       "\n",
       "    .dataframe thead th {\n",
       "        text-align: right;\n",
       "    }\n",
       "</style>\n",
       "<table border=\"1\" class=\"dataframe\">\n",
       "  <thead>\n",
       "    <tr style=\"text-align: right;\">\n",
       "      <th></th>\n",
       "      <th>text</th>\n",
       "      <th>category</th>\n",
       "      <th>label</th>\n",
       "      <th>data_type</th>\n",
       "    </tr>\n",
       "  </thead>\n",
       "  <tbody>\n",
       "    <tr>\n",
       "      <th>0</th>\n",
       "      <td>جو زیادہ بولتے ہیں وہ کام نہیں کرتے اور جو کام...</td>\n",
       "      <td>False</td>\n",
       "      <td>0</td>\n",
       "      <td>train</td>\n",
       "    </tr>\n",
       "    <tr>\n",
       "      <th>1</th>\n",
       "      <td>کا ٹرینڈ چلانے والے کا مطلب اور کے فوائد سے وا...</td>\n",
       "      <td>False</td>\n",
       "      <td>0</td>\n",
       "      <td>train</td>\n",
       "    </tr>\n",
       "    <tr>\n",
       "      <th>2</th>\n",
       "      <td>جنکی گواہی خود رب کا قرآن دے جنہیں نبی کریم صل...</td>\n",
       "      <td>False</td>\n",
       "      <td>0</td>\n",
       "      <td>train</td>\n",
       "    </tr>\n",
       "    <tr>\n",
       "      <th>3</th>\n",
       "      <td>کےبل عمران خان دے سندھ کوٹرانسپورٹ صاف پانی بھ...</td>\n",
       "      <td>False</td>\n",
       "      <td>0</td>\n",
       "      <td>train</td>\n",
       "    </tr>\n",
       "    <tr>\n",
       "      <th>4</th>\n",
       "      <td>اب اس ناسور کاخاتمہ ناگریز ہو چکا ہے</td>\n",
       "      <td>False</td>\n",
       "      <td>0</td>\n",
       "      <td>test</td>\n",
       "    </tr>\n",
       "    <tr>\n",
       "      <th>...</th>\n",
       "      <td>...</td>\n",
       "      <td>...</td>\n",
       "      <td>...</td>\n",
       "      <td>...</td>\n",
       "    </tr>\n",
       "    <tr>\n",
       "      <th>21754</th>\n",
       "      <td>میرے مطابق ضامن میراثی معافی کی ویڈیومیں کہتا ...</td>\n",
       "      <td>True</td>\n",
       "      <td>1</td>\n",
       "      <td>val</td>\n",
       "    </tr>\n",
       "    <tr>\n",
       "      <th>21755</th>\n",
       "      <td>نیز جو شخص اس کے کفر و ارتداد میں شک کرے یا اس...</td>\n",
       "      <td>True</td>\n",
       "      <td>1</td>\n",
       "      <td>train</td>\n",
       "    </tr>\n",
       "    <tr>\n",
       "      <th>21756</th>\n",
       "      <td>الحمداللہ اقلیتی کونسل کی سربراہی بتوں کی پرست...</td>\n",
       "      <td>True</td>\n",
       "      <td>1</td>\n",
       "      <td>train</td>\n",
       "    </tr>\n",
       "    <tr>\n",
       "      <th>21757</th>\n",
       "      <td>شیعہ کے بعض اصول اور نظریات کو اسلامی معاشروں ...</td>\n",
       "      <td>True</td>\n",
       "      <td>1</td>\n",
       "      <td>train</td>\n",
       "    </tr>\n",
       "    <tr>\n",
       "      <th>21758</th>\n",
       "      <td>صرف تبرا ہی نہیں شیعہ کی تمام رسومات شرارت ہی ...</td>\n",
       "      <td>True</td>\n",
       "      <td>1</td>\n",
       "      <td>train</td>\n",
       "    </tr>\n",
       "  </tbody>\n",
       "</table>\n",
       "<p>21759 rows × 4 columns</p>\n",
       "</div>"
      ],
      "text/plain": [
       "                                                    text category  label  \\\n",
       "0      جو زیادہ بولتے ہیں وہ کام نہیں کرتے اور جو کام...    False      0   \n",
       "1      کا ٹرینڈ چلانے والے کا مطلب اور کے فوائد سے وا...    False      0   \n",
       "2      جنکی گواہی خود رب کا قرآن دے جنہیں نبی کریم صل...    False      0   \n",
       "3      کےبل عمران خان دے سندھ کوٹرانسپورٹ صاف پانی بھ...    False      0   \n",
       "4                   اب اس ناسور کاخاتمہ ناگریز ہو چکا ہے    False      0   \n",
       "...                                                  ...      ...    ...   \n",
       "21754  میرے مطابق ضامن میراثی معافی کی ویڈیومیں کہتا ...     True      1   \n",
       "21755  نیز جو شخص اس کے کفر و ارتداد میں شک کرے یا اس...     True      1   \n",
       "21756  الحمداللہ اقلیتی کونسل کی سربراہی بتوں کی پرست...     True      1   \n",
       "21757  شیعہ کے بعض اصول اور نظریات کو اسلامی معاشروں ...     True      1   \n",
       "21758  صرف تبرا ہی نہیں شیعہ کی تمام رسومات شرارت ہی ...     True      1   \n",
       "\n",
       "      data_type  \n",
       "0         train  \n",
       "1         train  \n",
       "2         train  \n",
       "3         train  \n",
       "4          test  \n",
       "...         ...  \n",
       "21754       val  \n",
       "21755     train  \n",
       "21756     train  \n",
       "21757     train  \n",
       "21758     train  \n",
       "\n",
       "[21759 rows x 4 columns]"
      ]
     },
     "execution_count": 23,
     "metadata": {},
     "output_type": "execute_result"
    }
   ],
   "source": [
    "df"
   ]
  },
  {
   "cell_type": "code",
   "execution_count": 24,
   "id": "1ee77263",
   "metadata": {},
   "outputs": [
    {
     "data": {
      "text/html": [
       "<div>\n",
       "<style scoped>\n",
       "    .dataframe tbody tr th:only-of-type {\n",
       "        vertical-align: middle;\n",
       "    }\n",
       "\n",
       "    .dataframe tbody tr th {\n",
       "        vertical-align: top;\n",
       "    }\n",
       "\n",
       "    .dataframe thead th {\n",
       "        text-align: right;\n",
       "    }\n",
       "</style>\n",
       "<table border=\"1\" class=\"dataframe\">\n",
       "  <thead>\n",
       "    <tr style=\"text-align: right;\">\n",
       "      <th></th>\n",
       "      <th>text</th>\n",
       "      <th>category</th>\n",
       "      <th>label</th>\n",
       "      <th>data_type</th>\n",
       "    </tr>\n",
       "  </thead>\n",
       "  <tbody>\n",
       "    <tr>\n",
       "      <th>0</th>\n",
       "      <td>جو زیادہ بولتے ہیں وہ کام نہیں کرتے اور جو کام...</td>\n",
       "      <td>False</td>\n",
       "      <td>0</td>\n",
       "      <td>train</td>\n",
       "    </tr>\n",
       "    <tr>\n",
       "      <th>1</th>\n",
       "      <td>کا ٹرینڈ چلانے والے کا مطلب اور کے فوائد سے وا...</td>\n",
       "      <td>False</td>\n",
       "      <td>0</td>\n",
       "      <td>train</td>\n",
       "    </tr>\n",
       "    <tr>\n",
       "      <th>2</th>\n",
       "      <td>جنکی گواہی خود رب کا قرآن دے جنہیں نبی کریم صل...</td>\n",
       "      <td>False</td>\n",
       "      <td>0</td>\n",
       "      <td>train</td>\n",
       "    </tr>\n",
       "    <tr>\n",
       "      <th>3</th>\n",
       "      <td>کےبل عمران خان دے سندھ کوٹرانسپورٹ صاف پانی بھ...</td>\n",
       "      <td>False</td>\n",
       "      <td>0</td>\n",
       "      <td>train</td>\n",
       "    </tr>\n",
       "    <tr>\n",
       "      <th>6</th>\n",
       "      <td>واہ جمیل بھائی آپ نے اپنے فاروقی نام کی لاج رک...</td>\n",
       "      <td>False</td>\n",
       "      <td>0</td>\n",
       "      <td>train</td>\n",
       "    </tr>\n",
       "  </tbody>\n",
       "</table>\n",
       "</div>"
      ],
      "text/plain": [
       "                                                text category  label data_type\n",
       "0  جو زیادہ بولتے ہیں وہ کام نہیں کرتے اور جو کام...    False      0     train\n",
       "1  کا ٹرینڈ چلانے والے کا مطلب اور کے فوائد سے وا...    False      0     train\n",
       "2  جنکی گواہی خود رب کا قرآن دے جنہیں نبی کریم صل...    False      0     train\n",
       "3  کےبل عمران خان دے سندھ کوٹرانسپورٹ صاف پانی بھ...    False      0     train\n",
       "6  واہ جمیل بھائی آپ نے اپنے فاروقی نام کی لاج رک...    False      0     train"
      ]
     },
     "execution_count": 24,
     "metadata": {},
     "output_type": "execute_result"
    }
   ],
   "source": [
    "df_train = df.loc[df[\"data_type\"]==\"train\"]\n",
    "df_train.head(5)"
   ]
  },
  {
   "cell_type": "code",
   "execution_count": 25,
   "id": "886d27c4",
   "metadata": {},
   "outputs": [
    {
     "data": {
      "text/html": [
       "<div>\n",
       "<style scoped>\n",
       "    .dataframe tbody tr th:only-of-type {\n",
       "        vertical-align: middle;\n",
       "    }\n",
       "\n",
       "    .dataframe tbody tr th {\n",
       "        vertical-align: top;\n",
       "    }\n",
       "\n",
       "    .dataframe thead th {\n",
       "        text-align: right;\n",
       "    }\n",
       "</style>\n",
       "<table border=\"1\" class=\"dataframe\">\n",
       "  <thead>\n",
       "    <tr style=\"text-align: right;\">\n",
       "      <th></th>\n",
       "      <th>text</th>\n",
       "      <th>category</th>\n",
       "      <th>label</th>\n",
       "      <th>data_type</th>\n",
       "    </tr>\n",
       "  </thead>\n",
       "  <tbody>\n",
       "    <tr>\n",
       "      <th>10</th>\n",
       "      <td>انسان کی زندگی میں سب سے زیادہ اہمیت کی حامل ج...</td>\n",
       "      <td>False</td>\n",
       "      <td>0</td>\n",
       "      <td>val</td>\n",
       "    </tr>\n",
       "    <tr>\n",
       "      <th>25</th>\n",
       "      <td>ہمارا جینا مرنا اپنے پیارے آقا ﷺ کیلئے ہے عقید...</td>\n",
       "      <td>False</td>\n",
       "      <td>0</td>\n",
       "      <td>val</td>\n",
       "    </tr>\n",
       "    <tr>\n",
       "      <th>26</th>\n",
       "      <td>حب علی یا بغض معاویہ کی وجہ سے ٹویٹ کرنے والوں...</td>\n",
       "      <td>False</td>\n",
       "      <td>0</td>\n",
       "      <td>val</td>\n",
       "    </tr>\n",
       "    <tr>\n",
       "      <th>28</th>\n",
       "      <td>حضرت ابوھریرہ رضی اللہ عنہ روایت کرتے ہیں کہ ن...</td>\n",
       "      <td>False</td>\n",
       "      <td>0</td>\n",
       "      <td>val</td>\n",
       "    </tr>\n",
       "    <tr>\n",
       "      <th>29</th>\n",
       "      <td>بھائہ سہہیتو باقی باتیں بعد میں پہلے</td>\n",
       "      <td>False</td>\n",
       "      <td>0</td>\n",
       "      <td>val</td>\n",
       "    </tr>\n",
       "  </tbody>\n",
       "</table>\n",
       "</div>"
      ],
      "text/plain": [
       "                                                 text category  label  \\\n",
       "10  انسان کی زندگی میں سب سے زیادہ اہمیت کی حامل ج...    False      0   \n",
       "25  ہمارا جینا مرنا اپنے پیارے آقا ﷺ کیلئے ہے عقید...    False      0   \n",
       "26  حب علی یا بغض معاویہ کی وجہ سے ٹویٹ کرنے والوں...    False      0   \n",
       "28  حضرت ابوھریرہ رضی اللہ عنہ روایت کرتے ہیں کہ ن...    False      0   \n",
       "29               بھائہ سہہیتو باقی باتیں بعد میں پہلے    False      0   \n",
       "\n",
       "   data_type  \n",
       "10       val  \n",
       "25       val  \n",
       "26       val  \n",
       "28       val  \n",
       "29       val  "
      ]
     },
     "execution_count": 25,
     "metadata": {},
     "output_type": "execute_result"
    }
   ],
   "source": [
    "df_val = df.loc[df[\"data_type\"]==\"val\"]\n",
    "df_val.head(5)"
   ]
  },
  {
   "cell_type": "code",
   "execution_count": 26,
   "id": "546646e7",
   "metadata": {},
   "outputs": [
    {
     "data": {
      "text/html": [
       "<div>\n",
       "<style scoped>\n",
       "    .dataframe tbody tr th:only-of-type {\n",
       "        vertical-align: middle;\n",
       "    }\n",
       "\n",
       "    .dataframe tbody tr th {\n",
       "        vertical-align: top;\n",
       "    }\n",
       "\n",
       "    .dataframe thead th {\n",
       "        text-align: right;\n",
       "    }\n",
       "</style>\n",
       "<table border=\"1\" class=\"dataframe\">\n",
       "  <thead>\n",
       "    <tr style=\"text-align: right;\">\n",
       "      <th></th>\n",
       "      <th>text</th>\n",
       "      <th>category</th>\n",
       "      <th>label</th>\n",
       "      <th>data_type</th>\n",
       "    </tr>\n",
       "  </thead>\n",
       "  <tbody>\n",
       "    <tr>\n",
       "      <th>4</th>\n",
       "      <td>اب اس ناسور کاخاتمہ ناگریز ہو چکا ہے</td>\n",
       "      <td>False</td>\n",
       "      <td>0</td>\n",
       "      <td>test</td>\n",
       "    </tr>\n",
       "    <tr>\n",
       "      <th>5</th>\n",
       "      <td>یقین مانو اللہ تعالی ہم سے ناراض ہیں اتنا نارا...</td>\n",
       "      <td>False</td>\n",
       "      <td>0</td>\n",
       "      <td>test</td>\n",
       "    </tr>\n",
       "    <tr>\n",
       "      <th>9</th>\n",
       "      <td>دوستوں آج آپ نے ٹویٹ کے ساتھ ساتھ ریٹوٹ پر بھی...</td>\n",
       "      <td>False</td>\n",
       "      <td>0</td>\n",
       "      <td>test</td>\n",
       "    </tr>\n",
       "    <tr>\n",
       "      <th>55</th>\n",
       "      <td>ڈوب جانے خوف ہے جنکو چھوڑ جاٸیں ابھی توبہتر ہے...</td>\n",
       "      <td>False</td>\n",
       "      <td>0</td>\n",
       "      <td>test</td>\n",
       "    </tr>\n",
       "    <tr>\n",
       "      <th>64</th>\n",
       "      <td>اس امداد کا تو کسی نے سوچاہی نہ تھا</td>\n",
       "      <td>False</td>\n",
       "      <td>0</td>\n",
       "      <td>test</td>\n",
       "    </tr>\n",
       "  </tbody>\n",
       "</table>\n",
       "</div>"
      ],
      "text/plain": [
       "                                                 text category  label  \\\n",
       "4                اب اس ناسور کاخاتمہ ناگریز ہو چکا ہے    False      0   \n",
       "5   یقین مانو اللہ تعالی ہم سے ناراض ہیں اتنا نارا...    False      0   \n",
       "9   دوستوں آج آپ نے ٹویٹ کے ساتھ ساتھ ریٹوٹ پر بھی...    False      0   \n",
       "55  ڈوب جانے خوف ہے جنکو چھوڑ جاٸیں ابھی توبہتر ہے...    False      0   \n",
       "64                اس امداد کا تو کسی نے سوچاہی نہ تھا    False      0   \n",
       "\n",
       "   data_type  \n",
       "4       test  \n",
       "5       test  \n",
       "9       test  \n",
       "55      test  \n",
       "64      test  "
      ]
     },
     "execution_count": 26,
     "metadata": {},
     "output_type": "execute_result"
    }
   ],
   "source": [
    "df_test = df.loc[df[\"data_type\"]==\"test\"]\n",
    "df_test.head(5)"
   ]
  },
  {
   "cell_type": "code",
   "execution_count": 27,
   "id": "e487f5b7",
   "metadata": {},
   "outputs": [
    {
     "data": {
      "text/plain": [
       "text         object\n",
       "category     object\n",
       "label         int64\n",
       "data_type    object\n",
       "dtype: object"
      ]
     },
     "execution_count": 27,
     "metadata": {},
     "output_type": "execute_result"
    }
   ],
   "source": [
    "df.dtypes"
   ]
  },
  {
   "cell_type": "code",
   "execution_count": 28,
   "id": "d4c87fbb",
   "metadata": {},
   "outputs": [],
   "source": [
    "train_ds = tf.data.Dataset.from_tensor_slices((df_train.text.values, df_train.label.values))\n",
    "val_ds = tf.data.Dataset.from_tensor_slices((df_val.text.values, df_val.label.values))\n",
    "test_ds = tf.data.Dataset.from_tensor_slices((df_test.text.values, df_test.label.values))\n"
   ]
  },
  {
   "cell_type": "code",
   "execution_count": 29,
   "id": "3be96eaf",
   "metadata": {},
   "outputs": [
    {
     "data": {
      "text/plain": [
       "<TensorSliceDataset element_spec=(TensorSpec(shape=(), dtype=tf.string, name=None), TensorSpec(shape=(), dtype=tf.int64, name=None))>"
      ]
     },
     "execution_count": 29,
     "metadata": {},
     "output_type": "execute_result"
    }
   ],
   "source": [
    "train_ds"
   ]
  },
  {
   "cell_type": "code",
   "execution_count": 30,
   "id": "423f0d86",
   "metadata": {},
   "outputs": [
    {
     "data": {
      "text/plain": [
       "<BatchDataset element_spec=(TensorSpec(shape=(None,), dtype=tf.string, name=None), TensorSpec(shape=(None,), dtype=tf.int64, name=None))>"
      ]
     },
     "execution_count": 30,
     "metadata": {},
     "output_type": "execute_result"
    }
   ],
   "source": [
    "train_ds = train_ds.shuffle(len(df_train)).batch(32, drop_remainder=False)\n",
    "train_ds"
   ]
  },
  {
   "cell_type": "code",
   "execution_count": 31,
   "id": "0ba1a18e",
   "metadata": {},
   "outputs": [
    {
     "data": {
      "text/plain": [
       "<BatchDataset element_spec=(TensorSpec(shape=(None,), dtype=tf.string, name=None), TensorSpec(shape=(None,), dtype=tf.int64, name=None))>"
      ]
     },
     "execution_count": 31,
     "metadata": {},
     "output_type": "execute_result"
    }
   ],
   "source": [
    "val_ds = val_ds.shuffle(len(df_val)).batch(32, drop_remainder=False)\n",
    "val_ds"
   ]
  },
  {
   "cell_type": "code",
   "execution_count": 32,
   "id": "b7ada7db",
   "metadata": {},
   "outputs": [
    {
     "data": {
      "text/plain": [
       "<BatchDataset element_spec=(TensorSpec(shape=(None,), dtype=tf.string, name=None), TensorSpec(shape=(None,), dtype=tf.int64, name=None))>"
      ]
     },
     "execution_count": 32,
     "metadata": {},
     "output_type": "execute_result"
    }
   ],
   "source": [
    "test_ds = test_ds.shuffle(len(df_test)).batch(32, drop_remainder=False)\n",
    "test_ds"
   ]
  },
  {
   "cell_type": "code",
   "execution_count": 33,
   "id": "0aa13adc",
   "metadata": {},
   "outputs": [
    {
     "name": "stdout",
     "output_type": "stream",
     "text": [
      "BERT model selected           : https://tfhub.dev/tensorflow/bert_multi_cased_L-12_H-768_A-12/4\n",
      "Preprocess model auto-selected: https://tfhub.dev/tensorflow/bert_multi_cased_preprocess/3\n"
     ]
    }
   ],
   "source": [
    "\n",
    "#tfhub_handle_encoder = map_name_to_handle[bert_model_name]\n",
    "#tfhub_handle_preprocess = map_model_to_preprocess[bert_model_name]\n",
    "tfhub_handle_encoder = 'https://tfhub.dev/tensorflow/bert_multi_cased_L-12_H-768_A-12/4'\n",
    "tfhub_handle_preprocess = 'https://tfhub.dev/tensorflow/bert_multi_cased_preprocess/3'\n",
    "print(f'BERT model selected           : {tfhub_handle_encoder}')\n",
    "print(f'Preprocess model auto-selected: {tfhub_handle_preprocess}')"
   ]
  },
  {
   "cell_type": "code",
   "execution_count": 34,
   "id": "6d9688a6",
   "metadata": {},
   "outputs": [],
   "source": [
    "bert_preprocess_model = hub.KerasLayer(tfhub_handle_preprocess)"
   ]
  },
  {
   "cell_type": "code",
   "execution_count": 35,
   "id": "3412db9e",
   "metadata": {},
   "outputs": [
    {
     "name": "stdout",
     "output_type": "stream",
     "text": [
      "Tweet: b'\\xd8\\xb9\\xd8\\xac\\xd8\\xa8 \\xd8\\xb1\\xd8\\xb3\\xd9\\x85 \\xdb\\x81\\xdb\\x92 \\xda\\x86\\xd8\\xa7\\xd8\\xb1\\xdb\\x81 \\xda\\xaf\\xd8\\xb1\\xd9\\x88\\xda\\xba \\xda\\xa9\\xdb\\x8c \\xd9\\x85\\xd8\\xad\\xd9\\x81\\xd9\\x84 \\xd9\\x85\\xdb\\x8c\\xda\\xba \\xd9\\x84\\xda\\xaf\\xd8\\xa7 \\xda\\xa9\\xdb\\x92 \\xd8\\xb0\\xd8\\xae\\xd9\\x85 \\xd9\\x86\\xd9\\x85\\xda\\xa9 \\xd8\\xb3\\xdb\\x92 \\xd9\\x85\\xd8\\xb3\\xd8\\xa7\\xd8\\xac \\xda\\xa9\\xd8\\xb1\\xd8\\xaa\\xdb\\x92 \\xdb\\x81\\xdb\\x8c\\xda\\xba \\xd8\\xba\\xd8\\xb1\\xdb\\x8c\\xd8\\xa8 \\xd8\\xb4\\xdb\\x81\\xd8\\xb1 \\xd8\\xaa\\xd8\\xb1\\xd8\\xb3\\xd8\\xaa\\xd8\\xa7 \\xdb\\x81\\xdb\\x92 \\xd8\\xa7\\xda\\xa9 \\xd9\\x86\\xd9\\x88\\xd8\\xa7\\xd9\\x84\\xdb\\x92 \\xda\\xa9\\xd9\\x88 \\xd8\\xa7\\xd9\\x85\\xdb\\x8c\\xd8\\xb1 \\xd8\\xb4\\xdb\\x81\\xd8\\xb1 \\xda\\xa9\\xdb\\x92 \\xda\\xa9\\xd8\\xaa\\xdb\\x92 \\xd8\\xa8\\xda\\xbe\\xdb\\x8c \\xd8\\xb1\\xd8\\xa7\\xd8\\xac \\xda\\xa9\\xd8\\xb1\\xd8\\xaa\\xdb\\x92 \\xdb\\x81\\xdb\\x8c\\xda\\xba'\n",
      "Label : 0\n",
      "Keys       : ['input_mask', 'input_type_ids', 'input_word_ids']\n",
      "Shape      : (1, 128)\n",
      "Word Ids   : [   101    781  50576 108271  10861  93325  11242    825  25683  13185\n",
      "  11076    788]\n",
      "Input Mask : [1 1 1 1 1 1 1 1 1 1 1 1]\n",
      "Type Ids   : [0 0 0 0 0 0 0 0 0 0 0 0]\n"
     ]
    }
   ],
   "source": [
    "for text_batch, label_batch in train_ds.take(1):\n",
    "  for i in range(1):\n",
    "    tweet = text_batch.numpy()[i]\n",
    "    print(f'Tweet: {text_batch.numpy()[i]}')\n",
    "    label = label_batch.numpy()[i]\n",
    "    print(f'Label : {label}')\n",
    "\n",
    "text_test = ['اب اس ناسور کاخاتمہ ناگریز ہو چکا ہے']\n",
    "text_test = [tweet]\n",
    "\n",
    "\n",
    "text_preprocessed = bert_preprocess_model(text_test)\n",
    "\n",
    "print(f'Keys       : {list(text_preprocessed.keys())}')\n",
    "print(f'Shape      : {text_preprocessed[\"input_word_ids\"].shape}')\n",
    "print(f'Word Ids   : {text_preprocessed[\"input_word_ids\"][0, :12]}')\n",
    "print(f'Input Mask : {text_preprocessed[\"input_mask\"][0, :12]}')\n",
    "print(f'Type Ids   : {text_preprocessed[\"input_type_ids\"][0, :12]}')"
   ]
  },
  {
   "cell_type": "code",
   "execution_count": 36,
   "id": "06b8b446",
   "metadata": {},
   "outputs": [],
   "source": [
    "bert_model = hub.KerasLayer(tfhub_handle_encoder)"
   ]
  },
  {
   "cell_type": "code",
   "execution_count": 37,
   "id": "d64f7b6a",
   "metadata": {},
   "outputs": [
    {
     "name": "stdout",
     "output_type": "stream",
     "text": [
      "Loaded BERT: https://tfhub.dev/tensorflow/bert_multi_cased_L-12_H-768_A-12/4\n",
      "Pooled Outputs Shape:(1, 768)\n",
      "Pooled Outputs Values:[ 0.08515104 -0.43496835 -0.03752855 -0.9027003  -0.27447152 -0.52543825\n",
      "  0.6922874  -0.46178457  0.58432287 -0.5594799  -0.3704404  -0.02948391]\n",
      "Sequence Outputs Shape:(1, 128, 768)\n",
      "Sequence Outputs Values:[[ 0.6910861  -0.8357992   0.23294613 ...  0.11925076 -0.38062122\n",
      "  -0.60615826]\n",
      " [-0.0542613   0.07486083  0.05186012 ...  0.46193776  0.01018111\n",
      "  -0.2958097 ]\n",
      " [ 0.17811772 -0.32094714  0.3085552  ...  0.5521583   0.5924469\n",
      "  -0.35785466]\n",
      " ...\n",
      " [-0.27721056 -0.540994    1.6593654  ...  0.4732859  -0.00759616\n",
      "  -0.13011578]\n",
      " [-0.23313406 -0.04848265  0.6285243  ...  0.5884115  -0.22770014\n",
      "  -0.47913995]\n",
      " [-0.21059807 -0.29882148  0.138284   ...  0.8685083  -0.16544366\n",
      "  -0.12998727]]\n"
     ]
    }
   ],
   "source": [
    "bert_results = bert_model(text_preprocessed)\n",
    "\n",
    "print(f'Loaded BERT: {tfhub_handle_encoder}')\n",
    "print(f'Pooled Outputs Shape:{bert_results[\"pooled_output\"].shape}')\n",
    "print(f'Pooled Outputs Values:{bert_results[\"pooled_output\"][0, :12]}')\n",
    "print(f'Sequence Outputs Shape:{bert_results[\"sequence_output\"].shape}')\n",
    "print(f'Sequence Outputs Values:{bert_results[\"sequence_output\"][0, :12]}')"
   ]
  },
  {
   "cell_type": "code",
   "execution_count": 38,
   "id": "250493bc",
   "metadata": {},
   "outputs": [
    {
     "name": "stdout",
     "output_type": "stream",
     "text": [
      "Weight for class 0: 0.55\n",
      "Weight for class 1: 0.84\n"
     ]
    }
   ],
   "source": [
    "weight_for_0 = (1 / false)*(total)/3.0 \n",
    "weight_for_1 = (1 / true)*(total)/3.0\n",
    "#weight_for_2 = (1 / neither)*(total)/3.0\n",
    "\n",
    "\n",
    "class_weight = {0: weight_for_0, 1: weight_for_1}\n",
    "\n",
    "print('Weight for class 0: {:.2f}'.format(weight_for_0))\n",
    "print('Weight for class 1: {:.2f}'.format(weight_for_1))\n",
    "#print('Weight for class 2: {:.2f}'.format(weight_for_2))"
   ]
  },
  {
   "cell_type": "code",
   "execution_count": 39,
   "id": "c89d8ab0",
   "metadata": {},
   "outputs": [
    {
     "data": {
      "text/plain": [
       "array([ 3.938462, 15.      ,  5.      ])"
      ]
     },
     "execution_count": 39,
     "metadata": {},
     "output_type": "execute_result"
    }
   ],
   "source": [
    "initial_output_bias = np.array([3.938462, 15, 5.])\n",
    "initial_output_bias "
   ]
  },
  {
   "cell_type": "code",
   "execution_count": 40,
   "id": "3a12f045",
   "metadata": {},
   "outputs": [],
   "source": [
    "def build_classifier_model(output_bias=None):\n",
    "    if output_bias is not None:\n",
    "        output_bias = tf.keras.initializers.Constant(output_bias)\n",
    "        #print(output_bias)\n",
    "        \n",
    "    text_input = tf.keras.layers.Input(shape=(), dtype=tf.string, name='text')\n",
    "    preprocessing_layer = hub.KerasLayer(tfhub_handle_preprocess, name='preprocessing')\n",
    "    encoder_inputs = preprocessing_layer(text_input)\n",
    "    encoder = hub.KerasLayer(tfhub_handle_encoder, trainable=True, name='BERT_encoder')\n",
    "    outputs = encoder(encoder_inputs)\n",
    "    net = outputs['pooled_output']\n",
    "    net = tf.keras.layers.Dense(512, activation=\"relu\")(net)\n",
    "    net = tf.keras.layers.Dropout(0.2)(net)\n",
    "#   net = tf.keras.layers.Dense(1, activation=None, name='classifier')(net)\n",
    "    net = tf.keras.layers.Dense(3, activation=\"softmax\", name='classifier', bias_initializer=output_bias)(net)\n",
    "    \n",
    "    return tf.keras.Model(text_input, net)"
   ]
  },
  {
   "cell_type": "code",
   "execution_count": 41,
   "id": "6c74d5f7",
   "metadata": {},
   "outputs": [
    {
     "name": "stdout",
     "output_type": "stream",
     "text": [
      "tf.Tensor([[0.5000029 0.7310496 0.5000085]], shape=(1, 3), dtype=float32)\n"
     ]
    }
   ],
   "source": [
    "classifier_model = build_classifier_model(output_bias=initial_output_bias)\n",
    "bert_raw_result = classifier_model(tf.constant(text_test))\n",
    "print(tf.sigmoid(bert_raw_result))"
   ]
  },
  {
   "cell_type": "code",
   "execution_count": 42,
   "id": "3f00ed55",
   "metadata": {},
   "outputs": [
    {
     "data": {
      "text/plain": [
       "array([ 3.938462, 15.      ,  5.      ], dtype=float32)"
      ]
     },
     "execution_count": 42,
     "metadata": {},
     "output_type": "execute_result"
    }
   ],
   "source": [
    "classifier_model.get_weights()[-1]"
   ]
  },
  {
   "cell_type": "code",
   "execution_count": 43,
   "id": "ee85b425",
   "metadata": {},
   "outputs": [
    {
     "name": "stdout",
     "output_type": "stream",
     "text": [
      "Model: \"model\"\n",
      "__________________________________________________________________________________________________\n",
      " Layer (type)                   Output Shape         Param #     Connected to                     \n",
      "==================================================================================================\n",
      " text (InputLayer)              [(None,)]            0           []                               \n",
      "                                                                                                  \n",
      " preprocessing (KerasLayer)     {'input_word_ids':   0           ['text[0][0]']                   \n",
      "                                (None, 128),                                                      \n",
      "                                 'input_mask': (Non                                               \n",
      "                                e, 128),                                                          \n",
      "                                 'input_type_ids':                                                \n",
      "                                (None, 128)}                                                      \n",
      "                                                                                                  \n",
      " BERT_encoder (KerasLayer)      {'sequence_output':  177853441   ['preprocessing[0][0]',          \n",
      "                                 (None, 128, 768),                'preprocessing[0][1]',          \n",
      "                                 'default': (None,                'preprocessing[0][2]']          \n",
      "                                768),                                                             \n",
      "                                 'pooled_output': (                                               \n",
      "                                None, 768),                                                       \n",
      "                                 'encoder_outputs':                                               \n",
      "                                 [(None, 128, 768),                                               \n",
      "                                 (None, 128, 768),                                                \n",
      "                                 (None, 128, 768),                                                \n",
      "                                 (None, 128, 768),                                                \n",
      "                                 (None, 128, 768),                                                \n",
      "                                 (None, 128, 768),                                                \n",
      "                                 (None, 128, 768),                                                \n",
      "                                 (None, 128, 768),                                                \n",
      "                                 (None, 128, 768),                                                \n",
      "                                 (None, 128, 768),                                                \n",
      "                                 (None, 128, 768),                                                \n",
      "                                 (None, 128, 768)]}                                               \n",
      "                                                                                                  \n",
      " dense (Dense)                  (None, 512)          393728      ['BERT_encoder[0][13]']          \n",
      "                                                                                                  \n",
      " dropout (Dropout)              (None, 512)          0           ['dense[0][0]']                  \n",
      "                                                                                                  \n",
      " classifier (Dense)             (None, 3)            1539        ['dropout[0][0]']                \n",
      "                                                                                                  \n",
      "==================================================================================================\n",
      "Total params: 178,248,708\n",
      "Trainable params: 178,248,707\n",
      "Non-trainable params: 1\n",
      "__________________________________________________________________________________________________\n"
     ]
    }
   ],
   "source": [
    "classifier_model.summary()"
   ]
  },
  {
   "cell_type": "code",
   "execution_count": 44,
   "id": "a3a974b9",
   "metadata": {},
   "outputs": [
    {
     "name": "stdout",
     "output_type": "stream",
     "text": [
      "You must install pydot (`pip install pydot`) and install graphviz (see instructions at https://graphviz.gitlab.io/download/) for plot_model to work.\n"
     ]
    }
   ],
   "source": [
    "tf.keras.utils.plot_model(classifier_model)"
   ]
  },
  {
   "cell_type": "code",
   "execution_count": 45,
   "id": "c9adfb80",
   "metadata": {},
   "outputs": [],
   "source": [
    "loss = tf.keras.losses.SparseCategoricalCrossentropy(from_logits=True)\n",
    "metrics = tf.keras.metrics.SparseCategoricalAccuracy('accuracy')"
   ]
  },
  {
   "cell_type": "code",
   "execution_count": 46,
   "id": "aa981a18",
   "metadata": {},
   "outputs": [],
   "source": [
    "epochs = 2\n",
    "steps_per_epoch = tf.data.experimental.cardinality(train_ds).numpy()\n",
    "num_train_steps = steps_per_epoch * epochs\n",
    "num_warmup_steps = int(0.1*num_train_steps)\n",
    "\n",
    "init_lr = 3e-5\n",
    "optimizer = optimization.create_optimizer(init_lr=init_lr,\n",
    "                                          num_train_steps=num_train_steps,\n",
    "                                          num_warmup_steps=num_warmup_steps,\n",
    "                                          optimizer_type='adamw')"
   ]
  },
  {
   "cell_type": "code",
   "execution_count": 47,
   "id": "bdb14802",
   "metadata": {},
   "outputs": [],
   "source": [
    "classifier_model.compile(optimizer=optimizer,\n",
    "                         loss=loss,\n",
    "                         metrics=metrics)"
   ]
  },
  {
   "cell_type": "code",
   "execution_count": 49,
   "id": "ba5f3d64",
   "metadata": {
    "scrolled": true
   },
   "outputs": [
    {
     "name": "stdout",
     "output_type": "stream",
     "text": [
      "Training model with https://tfhub.dev/tensorflow/bert_multi_cased_L-12_H-768_A-12/4\n",
      "Epoch 1/2\n",
      "551/551 [==============================] - 23059s 42s/step - loss: 0.2226 - accuracy: 0.8618 - val_loss: 0.3870 - val_accuracy: 0.8315\n",
      "Epoch 2/2\n",
      "551/551 [==============================] - 18466s 34s/step - loss: 0.1912 - accuracy: 0.8822 - val_loss: 0.3957 - val_accuracy: 0.8280\n"
     ]
    }
   ],
   "source": [
    "print(f'Training model with {tfhub_handle_encoder}')\n",
    "history = classifier_model.fit(x=train_ds,\n",
    "                               validation_data=val_ds,\n",
    "                               epochs=epochs,\n",
    "                               # The class weights go here\n",
    "                               class_weight=class_weight\n",
    ")"
   ]
  },
  {
   "cell_type": "code",
   "execution_count": 50,
   "id": "fe9e505d",
   "metadata": {},
   "outputs": [
    {
     "name": "stdout",
     "output_type": "stream",
     "text": [
      "68/68 [==============================] - 813s 12s/step - loss: 0.3543 - accuracy: 0.8433\n",
      "Loss: 0.3543226718902588\n",
      "Accuracy: 0.8432904481887817\n"
     ]
    }
   ],
   "source": [
    "loss, accuracy = classifier_model.evaluate(test_ds)\n",
    "\n",
    "print(f'Loss: {loss}')\n",
    "print(f'Accuracy: {accuracy}')"
   ]
  },
  {
   "cell_type": "code",
   "execution_count": 51,
   "id": "f8022b32",
   "metadata": {},
   "outputs": [
    {
     "name": "stdout",
     "output_type": "stream",
     "text": [
      "dict_keys(['loss', 'accuracy', 'val_loss', 'val_accuracy'])\n"
     ]
    },
    {
     "data": {
      "text/plain": [
       "<matplotlib.legend.Legend at 0x1f1ac105040>"
      ]
     },
     "execution_count": 51,
     "metadata": {},
     "output_type": "execute_result"
    },
    {
     "data": {
      "image/png": "[encoded data removed]",
      "text/plain": [
       "<Figure size 1200x1000 with 2 Axes>"
      ]
     },
     "metadata": {},
     "output_type": "display_data"
    }
   ],
   "source": [
    "history_dict = history.history\n",
    "print(history_dict.keys())\n",
    "\n",
    "acc = history_dict['accuracy']\n",
    "val_acc = history_dict['val_accuracy']\n",
    "# acc = history_dict['binary_accuracy']\n",
    "# val_acc = history_dict['val_binary_accuracy']\n",
    "loss = history_dict['loss']\n",
    "val_loss = history_dict['val_loss']\n",
    "\n",
    "epochs = range(1, len(acc) + 1)\n",
    "fig = plt.figure(figsize=(12, 10))\n",
    "fig.tight_layout()\n",
    "\n",
    "plt.subplot(2, 1, 1)\n",
    "# \"bo\" is for \"blue dot\"\n",
    "plt.plot(epochs, loss, 'r', label='Training loss')\n",
    "# b is for \"solid blue line\"\n",
    "plt.plot(epochs, val_loss, 'b', label='Validation loss')\n",
    "plt.title('Training and validation loss')\n",
    "# plt.xlabel('Epochs')\n",
    "plt.ylabel('Loss')\n",
    "plt.legend()\n",
    "\n",
    "plt.subplot(2, 1, 2)\n",
    "plt.plot(epochs, acc, 'r', label='Training acc')\n",
    "plt.plot(epochs, val_acc, 'b', label='Validation acc')\n",
    "plt.title('Training and validation accuracy')\n",
    "plt.xlabel('Epochs')\n",
    "plt.ylabel('Accuracy')\n",
    "plt.legend(loc='lower right')"
   ]
  },
  {
   "cell_type": "code",
   "execution_count": 54,
   "id": "0c4097cd",
   "metadata": {},
   "outputs": [
    {
     "name": "stderr",
     "output_type": "stream",
     "text": [
      "WARNING:absl:Found untraced functions such as restored_function_body, restored_function_body, restored_function_body, restored_function_body, restored_function_body while saving (showing 5 of 366). These functions will not be directly callable after loading.\n"
     ]
    }
   ],
   "source": [
    "dataset_name = 'BERT-with-MLP--new-dataset--2epochs'\n",
    "saved_model_path = './{}_bert'.format(dataset_name.replace('/', '_'))\n",
    "\n",
    "classifier_model.save(saved_model_path, include_optimizer=False)"
   ]
  },
  {
   "cell_type": "code",
   "execution_count": 55,
   "id": "125460d6",
   "metadata": {},
   "outputs": [
    {
     "name": "stdout",
     "output_type": "stream",
     "text": [
      "68/68 [==============================] - 827s 12s/step\n",
      "(2176, 3)\n"
     ]
    }
   ],
   "source": [
    "result =  classifier_model.predict(test_ds)\n",
    "print(result.shape)"
   ]
  },
  {
   "cell_type": "code",
   "execution_count": 56,
   "id": "95deab5d",
   "metadata": {},
   "outputs": [
    {
     "data": {
      "text/plain": [
       "array([[0.28321722, 0.7165324 , 0.00025044],\n",
       "       [0.97456634, 0.02528069, 0.00015301]], dtype=float32)"
      ]
     },
     "execution_count": 56,
     "metadata": {},
     "output_type": "execute_result"
    }
   ],
   "source": [
    "result[0:2]"
   ]
  },
  {
   "cell_type": "code",
   "execution_count": 57,
   "id": "6bcdcdc2",
   "metadata": {},
   "outputs": [],
   "source": [
    "classes = np.argmax(result, axis=-1)"
   ]
  },
  {
   "cell_type": "code",
   "execution_count": 58,
   "id": "d4db9930",
   "metadata": {
    "scrolled": true
   },
   "outputs": [
    {
     "name": "stdout",
     "output_type": "stream",
     "text": [
      "1/1 [==============================] - 16s 16s/step\n",
      "1/1 [==============================] - 13s 13s/step\n",
      "1/1 [==============================] - 12s 12s/step\n",
      "1/1 [==============================] - 12s 12s/step\n",
      "1/1 [==============================] - 11s 11s/step\n",
      "1/1 [==============================] - 11s 11s/step\n",
      "1/1 [==============================] - 11s 11s/step\n",
      "1/1 [==============================] - 11s 11s/step\n",
      "1/1 [==============================] - 12s 12s/step\n",
      "1/1 [==============================] - 11s 11s/step\n",
      "1/1 [==============================] - 11s 11s/step\n",
      "1/1 [==============================] - 11s 11s/step\n",
      "1/1 [==============================] - 11s 11s/step\n",
      "1/1 [==============================] - 11s 11s/step\n",
      "1/1 [==============================] - 11s 11s/step\n",
      "1/1 [==============================] - 14s 14s/step\n",
      "1/1 [==============================] - 13s 13s/step\n",
      "1/1 [==============================] - 12s 12s/step\n",
      "1/1 [==============================] - 12s 12s/step\n",
      "1/1 [==============================] - 12s 12s/step\n",
      "1/1 [==============================] - 12s 12s/step\n",
      "1/1 [==============================] - 11s 11s/step\n",
      "1/1 [==============================] - 11s 11s/step\n",
      "1/1 [==============================] - 11s 11s/step\n",
      "1/1 [==============================] - 12s 12s/step\n",
      "1/1 [==============================] - 12s 12s/step\n",
      "1/1 [==============================] - 12s 12s/step\n",
      "1/1 [==============================] - 11s 11s/step\n",
      "1/1 [==============================] - 11s 11s/step\n",
      "1/1 [==============================] - 11s 11s/step\n",
      "1/1 [==============================] - 11s 11s/step\n",
      "1/1 [==============================] - 12s 12s/step\n",
      "1/1 [==============================] - 12s 12s/step\n",
      "1/1 [==============================] - 12s 12s/step\n",
      "1/1 [==============================] - 12s 12s/step\n",
      "1/1 [==============================] - 12s 12s/step\n",
      "1/1 [==============================] - 12s 12s/step\n",
      "1/1 [==============================] - 11s 11s/step\n",
      "1/1 [==============================] - 11s 11s/step\n",
      "1/1 [==============================] - 12s 12s/step\n",
      "1/1 [==============================] - 11s 11s/step\n",
      "1/1 [==============================] - 11s 11s/step\n",
      "1/1 [==============================] - 11s 11s/step\n",
      "1/1 [==============================] - 11s 11s/step\n",
      "1/1 [==============================] - 11s 11s/step\n",
      "1/1 [==============================] - 12s 12s/step\n",
      "1/1 [==============================] - 11s 11s/step\n",
      "1/1 [==============================] - 12s 12s/step\n",
      "1/1 [==============================] - 12s 12s/step\n",
      "1/1 [==============================] - 12s 12s/step\n",
      "1/1 [==============================] - 13s 13s/step\n",
      "1/1 [==============================] - 12s 12s/step\n",
      "1/1 [==============================] - 11s 11s/step\n",
      "1/1 [==============================] - 12s 12s/step\n",
      "1/1 [==============================] - 11s 11s/step\n",
      "1/1 [==============================] - 11s 11s/step\n",
      "1/1 [==============================] - 12s 12s/step\n",
      "1/1 [==============================] - 12s 12s/step\n",
      "1/1 [==============================] - 12s 12s/step\n",
      "1/1 [==============================] - 12s 12s/step\n",
      "1/1 [==============================] - 12s 12s/step\n",
      "1/1 [==============================] - 11s 11s/step\n",
      "1/1 [==============================] - 12s 12s/step\n",
      "1/1 [==============================] - 12s 12s/step\n",
      "1/1 [==============================] - 12s 12s/step\n",
      "1/1 [==============================] - 12s 12s/step\n",
      "1/1 [==============================] - 12s 12s/step\n",
      "1/1 [==============================] - 12s 12s/step\n"
     ]
    }
   ],
   "source": [
    "tweet = []\n",
    "test_labels = []\n",
    "predictions = []\n",
    "for tweet, labels in test_ds.take(-1):\n",
    "  tweet = tweet.numpy()\n",
    "  test_labels.append(labels.numpy())\n",
    "  predictions.append(classifier_model.predict(tweet))"
   ]
  },
  {
   "cell_type": "code",
   "execution_count": 59,
   "id": "cda7d477",
   "metadata": {},
   "outputs": [
    {
     "data": {
      "text/plain": [
       "[array([0, 0, 0, 1, 1, 0, 1, 1, 0, 1, 0, 0, 0, 0, 0, 1, 0, 0, 1, 0, 1, 1,\n",
       "        0, 1, 0, 0, 1, 0, 0, 0, 0, 1], dtype=int64),\n",
       " array([0, 1, 0, 0, 1, 1, 0, 0, 0, 0, 1, 0, 1, 1, 0, 1, 1, 0, 0, 0, 0, 1,\n",
       "        0, 0, 1, 0, 0, 1, 0, 0, 0, 1], dtype=int64)]"
      ]
     },
     "execution_count": 59,
     "metadata": {},
     "output_type": "execute_result"
    }
   ],
   "source": [
    "test_labels[0:2]"
   ]
  },
  {
   "cell_type": "code",
   "execution_count": 60,
   "id": "be73fde7",
   "metadata": {},
   "outputs": [
    {
     "data": {
      "text/plain": [
       "[array([[0.50563043, 0.49413002, 0.00023955],\n",
       "        [0.9505185 , 0.04932869, 0.00015291],\n",
       "        [0.9495793 , 0.05026087, 0.00015984],\n",
       "        [0.08456373, 0.9152798 , 0.00015648],\n",
       "        [0.02168969, 0.9782054 , 0.0001049 ],\n",
       "        [0.5058325 , 0.49384212, 0.00032545],\n",
       "        [0.19927531, 0.80052173, 0.00020298],\n",
       "        [0.03415656, 0.9657178 , 0.00012568],\n",
       "        [0.3018603 , 0.69787765, 0.00026204],\n",
       "        [0.1324355 , 0.8673657 , 0.00019875],\n",
       "        [0.98438257, 0.01543786, 0.00017952],\n",
       "        [0.6315558 , 0.3681785 , 0.00026576],\n",
       "        [0.92477745, 0.07505044, 0.00017207],\n",
       "        [0.98827004, 0.0115976 , 0.00013242],\n",
       "        [0.95993227, 0.03993299, 0.0001348 ],\n",
       "        [0.11210077, 0.88770604, 0.00019318],\n",
       "        [0.73387843, 0.26583016, 0.0002913 ],\n",
       "        [0.7909825 , 0.20875885, 0.00025875],\n",
       "        [0.00216087, 0.9977906 , 0.00004857],\n",
       "        [0.98332316, 0.01655624, 0.00012058],\n",
       "        [0.00558729, 0.9943455 , 0.00006722],\n",
       "        [0.01307345, 0.9868357 , 0.00009084],\n",
       "        [0.9327749 , 0.06701123, 0.00021382],\n",
       "        [0.10378107, 0.8960368 , 0.00018209],\n",
       "        [0.8400244 , 0.15972385, 0.00025176],\n",
       "        [0.8213202 , 0.1784391 , 0.00024066],\n",
       "        [0.3666721 , 0.6330887 , 0.00023925],\n",
       "        [0.96218675, 0.03764635, 0.00016686],\n",
       "        [0.94985086, 0.04998834, 0.00016076],\n",
       "        [0.71335715, 0.28638986, 0.00025298],\n",
       "        [0.66612947, 0.33359993, 0.00027053],\n",
       "        [0.03788166, 0.9619928 , 0.00012556]], dtype=float32),\n",
       " array([[0.9154149 , 0.08437771, 0.00020738],\n",
       "        [0.11104391, 0.8887754 , 0.00018062],\n",
       "        [0.9010209 , 0.09877727, 0.00020181],\n",
       "        [0.93603575, 0.06381282, 0.00015137],\n",
       "        [0.7707953 , 0.22896497, 0.00023986],\n",
       "        [0.00449277, 0.99544525, 0.00006211],\n",
       "        [0.98920107, 0.01062062, 0.00017833],\n",
       "        [0.98572296, 0.01413637, 0.00014066],\n",
       "        [0.82305753, 0.17673714, 0.00020535],\n",
       "        [0.8053547 , 0.1943939 , 0.00025131],\n",
       "        [0.17050594, 0.8292945 , 0.00019956],\n",
       "        [0.9189617 , 0.08083651, 0.0002018 ],\n",
       "        [0.00342087, 0.99652123, 0.00005782],\n",
       "        [0.00314758, 0.9967932 , 0.00005915],\n",
       "        [0.98295915, 0.01688522, 0.00015566],\n",
       "        [0.00264959, 0.9973028 , 0.00004762],\n",
       "        [0.32694802, 0.6727848 , 0.00026719],\n",
       "        [0.7307575 , 0.26900452, 0.00023799],\n",
       "        [0.98227143, 0.01760438, 0.00012416],\n",
       "        [0.25152403, 0.7482257 , 0.0002503 ],\n",
       "        [0.98815024, 0.01170653, 0.0001432 ],\n",
       "        [0.06057046, 0.9392889 , 0.00014059],\n",
       "        [0.93811715, 0.06170117, 0.00018162],\n",
       "        [0.6431896 , 0.35657898, 0.0002315 ],\n",
       "        [0.04056068, 0.9593089 , 0.00013041],\n",
       "        [0.18380569, 0.8159942 , 0.00020005],\n",
       "        [0.30739424, 0.69234055, 0.00026515],\n",
       "        [0.00593105, 0.99400073, 0.00006808],\n",
       "        [0.69164985, 0.30811226, 0.00023785],\n",
       "        [0.949938  , 0.04990718, 0.00015477],\n",
       "        [0.97471297, 0.02514349, 0.00014345],\n",
       "        [0.00467803, 0.9952508 , 0.0000712 ]], dtype=float32)]"
      ]
     },
     "execution_count": 60,
     "metadata": {},
     "output_type": "execute_result"
    }
   ],
   "source": [
    "predictions[0:2]"
   ]
  },
  {
   "cell_type": "code",
   "execution_count": 61,
   "id": "fa56cfec",
   "metadata": {},
   "outputs": [],
   "source": [
    "from itertools import chain\n",
    "flatten_list = list(chain.from_iterable(predictions))\n",
    "y_pred = np.argmax(flatten_list, axis=-1)"
   ]
  },
  {
   "cell_type": "code",
   "execution_count": 62,
   "id": "19b62f0e",
   "metadata": {},
   "outputs": [],
   "source": [
    "y_test = np.array(list(chain.from_iterable(test_labels)))"
   ]
  },
  {
   "cell_type": "code",
   "execution_count": 63,
   "id": "d3bed6d9",
   "metadata": {},
   "outputs": [
    {
     "data": {
      "text/plain": [
       "array([[1107,  204],\n",
       "       [ 138,  727]], dtype=int64)"
      ]
     },
     "execution_count": 63,
     "metadata": {},
     "output_type": "execute_result"
    }
   ],
   "source": [
    "from sklearn.metrics import confusion_matrix\n",
    "confusion_matrix(y_test, y_pred)"
   ]
  },
  {
   "cell_type": "code",
   "execution_count": 64,
   "id": "45c5d629",
   "metadata": {},
   "outputs": [],
   "source": [
    "from sklearn.metrics import f1_score, accuracy_score, precision_score, recall_score, classification_report"
   ]
  },
  {
   "cell_type": "code",
   "execution_count": 65,
   "id": "e2d1e15b",
   "metadata": {},
   "outputs": [
    {
     "name": "stdout",
     "output_type": "stream",
     "text": [
      "Accuracy: 0.843\n"
     ]
    }
   ],
   "source": [
    "print('Accuracy: %.3f' % accuracy_score(y_test, y_pred))"
   ]
  },
  {
   "cell_type": "code",
   "execution_count": 66,
   "id": "8a31be7b",
   "metadata": {},
   "outputs": [
    {
     "name": "stdout",
     "output_type": "stream",
     "text": [
      "F1 Score: 0.810\n"
     ]
    }
   ],
   "source": [
    "print('F1 Score: %.3f' % f1_score(y_test, y_pred))"
   ]
  },
  {
   "cell_type": "code",
   "execution_count": 67,
   "id": "7773e611",
   "metadata": {},
   "outputs": [
    {
     "name": "stdout",
     "output_type": "stream",
     "text": [
      "Precision: 78.08807733619764\n"
     ]
    }
   ],
   "source": [
    "print(f'Precision: {precision_score(y_test, y_pred)*100}')"
   ]
  },
  {
   "cell_type": "code",
   "execution_count": 68,
   "id": "e870bdfd",
   "metadata": {},
   "outputs": [
    {
     "name": "stdout",
     "output_type": "stream",
     "text": [
      "Recall: 84.04624277456647\n"
     ]
    }
   ],
   "source": [
    "print(f'Recall: {recall_score(y_test, y_pred)*100}')"
   ]
  },
  {
   "cell_type": "code",
   "execution_count": 69,
   "id": "15fe236e",
   "metadata": {},
   "outputs": [
    {
     "name": "stdout",
     "output_type": "stream",
     "text": [
      "Accuracy:  84.28308823529412\n"
     ]
    }
   ],
   "source": [
    "print(f'Accuracy:  {accuracy_score(y_test, y_pred)*100}')"
   ]
  },
  {
   "cell_type": "code",
   "execution_count": 70,
   "id": "eecfc891",
   "metadata": {},
   "outputs": [
    {
     "name": "stdout",
     "output_type": "stream",
     "text": [
      "F1 Score:  80.9576837416481\n"
     ]
    }
   ],
   "source": [
    "print(f'F1 Score:  {f1_score(y_test, y_pred)*100}')"
   ]
  },
  {
   "cell_type": "code",
   "execution_count": 71,
   "id": "382a1624",
   "metadata": {},
   "outputs": [
    {
     "name": "stdout",
     "output_type": "stream",
     "text": [
      "              precision    recall  f1-score   support\n",
      "\n",
      "           0       0.89      0.84      0.87      1311\n",
      "           1       0.78      0.84      0.81       865\n",
      "\n",
      "    accuracy                           0.84      2176\n",
      "   macro avg       0.84      0.84      0.84      2176\n",
      "weighted avg       0.85      0.84      0.84      2176\n",
      "\n"
     ]
    }
   ],
   "source": [
    "print(classification_report(y_test, y_pred))"
   ]
  },
  {
   "cell_type": "code",
   "execution_count": 72,
   "id": "aa6781ac",
   "metadata": {},
   "outputs": [
    {
     "name": "stdout",
     "output_type": "stream",
     "text": [
      "Precision: 83.50186999340002\n"
     ]
    }
   ],
   "source": [
    "print(f'Precision: {precision_score(y_test, y_pred, average = \"macro\")*100}')"
   ]
  },
  {
   "cell_type": "code",
   "execution_count": 73,
   "id": "0c25ad35",
   "metadata": {},
   "outputs": [
    {
     "name": "stdout",
     "output_type": "stream",
     "text": [
      "Recall: 84.24280102115051\n"
     ]
    }
   ],
   "source": [
    "print(f'Recall: {recall_score(y_test, y_pred, average = \"macro\")*100}')"
   ]
  },
  {
   "cell_type": "code",
   "execution_count": 74,
   "id": "2a6c4f1c",
   "metadata": {},
   "outputs": [
    {
     "name": "stdout",
     "output_type": "stream",
     "text": [
      "F1 Score:  83.78870102575362\n"
     ]
    }
   ],
   "source": [
    "print(f'F1 Score:  {f1_score(y_test, y_pred, average = \"macro\")*100}')"
   ]
  },
  {
   "cell_type": "code",
   "execution_count": 77,
   "id": "3364096c",
   "metadata": {},
   "outputs": [
    {
     "name": "stdout",
     "output_type": "stream",
     "text": [
      "1/1 [==============================] - 0s 464ms/step\n"
     ]
    },
    {
     "data": {
      "text/plain": [
       "array([[0.9741071 , 0.02575831, 0.00013458]], dtype=float32)"
      ]
     },
     "execution_count": 77,
     "metadata": {},
     "output_type": "execute_result"
    }
   ],
   "source": [
    "test = ['مجھے کھانے سے لطف نہیں آیا۔']\n",
    "classifier_model.predict(test)"
   ]
  },
  {
   "cell_type": "code",
   "execution_count": null,
   "id": "b880dd17",
   "metadata": {},
   "outputs": [],
   "source": []
  },
  {
   "cell_type": "code",
   "execution_count": 11,
   "id": "72341925",
   "metadata": {},
   "outputs": [],
   "source": []
  },
  {
   "cell_type": "code",
   "execution_count": null,
   "id": "45c5eb3b",
   "metadata": {},
   "outputs": [],
   "source": []
  },
  {
   "cell_type": "code",
   "execution_count": null,
   "id": "591def68",
   "metadata": {},
   "outputs": [],
   "source": []
  }
 ],
 "metadata": {
  "kernelspec": {
   "display_name": "Python 3 (ipykernel)",
   "language": "python",
   "name": "python3"
  },
  "language_info": {
   "codemirror_mode": {
    "name": "ipython",
    "version": 3
   },
   "file_extension": ".py",
   "mimetype": "text/x-python",
   "name": "python",
   "nbconvert_exporter": "python",
   "pygments_lexer": "ipython3",
   "version": "3.9.16"
  }
 },
 "nbformat": 4,
 "nbformat_minor": 5
}
